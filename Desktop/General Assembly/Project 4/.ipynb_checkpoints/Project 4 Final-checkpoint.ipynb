{
 "cells": [
  {
   "cell_type": "markdown",
   "metadata": {},
   "source": [
    " Project 4\n",
    "---"
   ]
  },
  {
   "cell_type": "markdown",
   "metadata": {},
   "source": [
    "## Executive Summary\n",
    "\n",
    "The motivation of this project was to identify the factors that affected the salary of data-related job postings. This was primarily achieved through scraping job listings posted within the job aggregator site “Indeed.com” and analysing the text in both the job title and job summary to draw insights through various machine learning techniques.\n",
    "\n",
    "Although we are based in Australia, the scraping was performed on data science jobs within America. This is due to the fact that while the data science scene in Australia is growing at an astounding rate, we have yet to find stable and agreeable differences between the different roles in data related fields. As such from a preliminary analysis there is an implicit confusion and a tendency to use certain data terms interchangeably within job descriptions and titles leading to a summary that may not necessarily be too insightful as Australia develops its understanding of Data Science. As such American Data Science Jobs are used for its more developed state of understanding in data science and machine learning fields. \n",
    "\n",
    "Regarding our findings on the keywords used in data scientist titles, it was more or less intuitive and expected. Keywords such as “data scientist”, “senior” or “machine learning” and various combinations were the three words that most often contributed to a higher salary, while conversely jobs that referenced “research”, “analyst” or “associate” were more likely to be lower paying jobs. In fact there is such a clear distinction between even the keywords used in titles that, if given just a title or summary we are able to predict whether the job is high or low paying to a 91% accuracy. \n",
    "\n",
    "There are however more interesting results obtained from analysis of job summaries. It was found that higher paying data scientist jobs in America were largely focused on hard skills. It was especially clear that almost all employers who referenced a specific advanced skill in data science was almost guaranteed to be a high paying job. This included references to pipelines, NLP or deep learning. Conversely amongst lower paying jobs, there was a much confusion where keywords didn’t refer to specific skillsets but rather referred to them as a whole. As an example, instead of referencing to machine learning or neural networks, they would instead refer to the “Ability Required” or “skills demonstrated”. Further exploring  the hard skills required in both categories revealed that python and R where most widely used among high paying jobs whereas excel dominated the low.\n"
   ]
  },
  {
   "cell_type": "markdown",
   "metadata": {
    "collapsed": true
   },
   "source": [
    "---\n",
    "\n",
    "## Import Dependencies\n",
    "\n",
    "---"
   ]
  },
  {
   "cell_type": "code",
   "execution_count": 2,
   "metadata": {
    "collapsed": true
   },
   "outputs": [],
   "source": [
    "import numpy as np\n",
    "import scipy.stats as stats\n",
    "import seaborn as sns\n",
    "import matplotlib.pyplot as plt\n",
    "import pandas as pd\n",
    "import requests\n",
    "import pprint\n",
    "\n",
    "from bs4 import BeautifulSoup\n",
    "\n",
    "plt.style.use('fivethirtyeight')\n",
    "\n",
    "%config InlineBackend.figure_format = 'retina'\n",
    "%matplotlib inline"
   ]
  },
  {
   "cell_type": "markdown",
   "metadata": {
    "collapsed": true
   },
   "source": [
    "## Scraping\n",
    "\n",
    "Unfortunately since I'm not too familiar with scrapy and jupyter notebook, I dont know how to integrate the scrapy spider into the notebook. However, the below cell contains the code for spider scraper.\n",
    "\n",
    "The datasets were scraped within the scrapy shell and taken as .csv files for analysis. Below is an example of one of such of these spiders."
   ]
  },
  {
   "cell_type": "raw",
   "metadata": {},
   "source": [
    "import scrapy, requests\n",
    "from scrapy.crawler import CrawlerProcess\n",
    "from scrapy.utils.project import get_project_settings\n",
    "from bs4 import BeautifulSoup\n",
    "from scrapy.spiders import CrawlSpider, Rule\n",
    "from scrapy.linkextractors import LinkExtractor\n",
    "\n",
    "\n",
    "class IndeedSpider(CrawlSpider):\n",
    "    name = 'global'\n",
    "    allowed_domains = ['seek.com.au']\n",
    "    start_urls = ['https://www.seek.com.au/data-scientist-jobs']\n",
    "\n",
    "    rules = (\n",
    "        Rule(LinkExtractor(\"start=.*\"), callback='parse_item', follow = True),\n",
    "        )\n",
    "    \n",
    "    def parse_item(self, response):\n",
    "        \n",
    "        print(\"-----------------------------------------------------\")\n",
    "        print(\"I just visited the url: \" + response.url)\n",
    "        print(\"-----------------------------------------------------\")\n",
    "\n",
    "         \n",
    "process = CrawlerProcess({\n",
    "    'USER_AGENT': 'Mozilla/4.0 (compatible; MSIE 7.0; Windows NT 5.1)'\n",
    "})\n",
    "\n",
    "process.crawl(IndeedSpider)\n",
    "process.start(); # the script will block here until the crawling is finished"
   ]
  },
  {
   "cell_type": "markdown",
   "metadata": {
    "collapsed": true
   },
   "source": [
    "## Section 1 - Job Salary Trends \n",
    "\n",
    "For this section I will be exploring two datasets that have been scraped under the following criterion:\n",
    "    \n",
    "* ds_low: Data Scientist jobs in America with a low pay salary defined by <$80k\n",
    "\n",
    "* ds_high: Data Scientist jobs in America with a low pay salary defined by >$120k\n",
    "\n",
    "This is used to circumvent the issue that indeed.com presents with a maximum of 1000 job postings per search and time constraints. In the event of more time, the salaries would actually be scraped from the extended job summary itself.\n",
    "\n",
    "Furthermore the jobs between $80k and $120k are deliberately left out, due to the inability to perform a single scrape for more than 1000 jobs. It was found by performing 2 searches of <$100k and >$100k, over half of the jobs scraped would be duplicates"
   ]
  },
  {
   "cell_type": "code",
   "execution_count": 4,
   "metadata": {},
   "outputs": [
    {
     "data": {
      "text/html": [
       "<div>\n",
       "<style>\n",
       "    .dataframe thead tr:only-child th {\n",
       "        text-align: right;\n",
       "    }\n",
       "\n",
       "    .dataframe thead th {\n",
       "        text-align: left;\n",
       "    }\n",
       "\n",
       "    .dataframe tbody tr th {\n",
       "        vertical-align: top;\n",
       "    }\n",
       "</style>\n",
       "<table border=\"1\" class=\"dataframe\">\n",
       "  <thead>\n",
       "    <tr style=\"text-align: right;\">\n",
       "      <th></th>\n",
       "      <th>company</th>\n",
       "      <th>id</th>\n",
       "      <th>loc</th>\n",
       "      <th>summary</th>\n",
       "      <th>title</th>\n",
       "      <th>pay</th>\n",
       "    </tr>\n",
       "  </thead>\n",
       "  <tbody>\n",
       "    <tr>\n",
       "      <th>0</th>\n",
       "      <td>Schneider Electric</td>\n",
       "      <td>p_dbc85338b95576e7</td>\n",
       "      <td>Andover, MA 01810</td>\n",
       "      <td>Schneider Electric™ creates connected technolo...</td>\n",
       "      <td>Data Scientist</td>\n",
       "      <td>0</td>\n",
       "    </tr>\n",
       "    <tr>\n",
       "      <th>1</th>\n",
       "      <td>National Security Agency</td>\n",
       "      <td>p_13d4f14b480bcd27</td>\n",
       "      <td>Fort Meade, MD</td>\n",
       "      <td>The professionals at the National Security Age...</td>\n",
       "      <td>Data Scientist - Entry/Mid-Level</td>\n",
       "      <td>0</td>\n",
       "    </tr>\n",
       "    <tr>\n",
       "      <th>2</th>\n",
       "      <td>CUNA Mutual</td>\n",
       "      <td>p_f0d92dde9580c53d</td>\n",
       "      <td>Madison, WI</td>\n",
       "      <td>Job Purpose: In an individual contributor capa...</td>\n",
       "      <td>Data Scientist I</td>\n",
       "      <td>0</td>\n",
       "    </tr>\n",
       "  </tbody>\n",
       "</table>\n",
       "</div>"
      ],
      "text/plain": [
       "                    company                  id                loc  \\\n",
       "0        Schneider Electric  p_dbc85338b95576e7  Andover, MA 01810   \n",
       "1  National Security Agency  p_13d4f14b480bcd27     Fort Meade, MD   \n",
       "2               CUNA Mutual  p_f0d92dde9580c53d        Madison, WI   \n",
       "\n",
       "                                             summary  \\\n",
       "0  Schneider Electric™ creates connected technolo...   \n",
       "1  The professionals at the National Security Age...   \n",
       "2  Job Purpose: In an individual contributor capa...   \n",
       "\n",
       "                              title  pay  \n",
       "0                    Data Scientist    0  \n",
       "1  Data Scientist - Entry/Mid-Level    0  \n",
       "2                  Data Scientist I    0  "
      ]
     },
     "execution_count": 4,
     "metadata": {},
     "output_type": "execute_result"
    }
   ],
   "source": [
    "# Initiates file name: file_name\n",
    "file_name = \"datascientist_low.json\"\n",
    "\n",
    "# Imports file as dataframe: data\n",
    "ds_low = pd.read_json(file_name)\n",
    "\n",
    "# Adds a column \"pay\" for later use\n",
    "ds_low[\"pay\"] = 0\n",
    "\n",
    "# Displays the head of the dataframe\n",
    "ds_low.head(3)"
   ]
  },
  {
   "cell_type": "code",
   "execution_count": 5,
   "metadata": {},
   "outputs": [
    {
     "data": {
      "text/html": [
       "<div>\n",
       "<style>\n",
       "    .dataframe thead tr:only-child th {\n",
       "        text-align: right;\n",
       "    }\n",
       "\n",
       "    .dataframe thead th {\n",
       "        text-align: left;\n",
       "    }\n",
       "\n",
       "    .dataframe tbody tr th {\n",
       "        vertical-align: top;\n",
       "    }\n",
       "</style>\n",
       "<table border=\"1\" class=\"dataframe\">\n",
       "  <thead>\n",
       "    <tr style=\"text-align: right;\">\n",
       "      <th></th>\n",
       "      <th>company</th>\n",
       "      <th>id</th>\n",
       "      <th>loc</th>\n",
       "      <th>summary</th>\n",
       "      <th>title</th>\n",
       "      <th>pay</th>\n",
       "    </tr>\n",
       "  </thead>\n",
       "  <tbody>\n",
       "    <tr>\n",
       "      <th>0</th>\n",
       "      <td>Tesla Motors</td>\n",
       "      <td>p_44a0de1f6af2e22c</td>\n",
       "      <td>Palo Alto, CA</td>\n",
       "      <td>:   As a member of the Autopilot Vision team y...</td>\n",
       "      <td>Computer Vision Scientist/Engineer</td>\n",
       "      <td>1</td>\n",
       "    </tr>\n",
       "    <tr>\n",
       "      <th>1</th>\n",
       "      <td>Facebook</td>\n",
       "      <td>p_530c9085dbbba358</td>\n",
       "      <td>Menlo Park, CA</td>\n",
       "      <td>(Menlo Park, CA) Facebook's mission is to give...</td>\n",
       "      <td>Data Scientist, Analytics</td>\n",
       "      <td>1</td>\n",
       "    </tr>\n",
       "    <tr>\n",
       "      <th>2</th>\n",
       "      <td>Graham Capital Management, LP.</td>\n",
       "      <td>p_1a15f9063d8e2c2b</td>\n",
       "      <td>Rowayton, CT</td>\n",
       "      <td>As a Quantitative Modeling Analyst in our Smar...</td>\n",
       "      <td>Quantitative Modeling Analyst - Smart Execution</td>\n",
       "      <td>1</td>\n",
       "    </tr>\n",
       "  </tbody>\n",
       "</table>\n",
       "</div>"
      ],
      "text/plain": [
       "                          company                  id             loc  \\\n",
       "0                    Tesla Motors  p_44a0de1f6af2e22c   Palo Alto, CA   \n",
       "1                        Facebook  p_530c9085dbbba358  Menlo Park, CA   \n",
       "2  Graham Capital Management, LP.  p_1a15f9063d8e2c2b    Rowayton, CT   \n",
       "\n",
       "                                             summary  \\\n",
       "0  :   As a member of the Autopilot Vision team y...   \n",
       "1  (Menlo Park, CA) Facebook's mission is to give...   \n",
       "2  As a Quantitative Modeling Analyst in our Smar...   \n",
       "\n",
       "                                             title  pay  \n",
       "0               Computer Vision Scientist/Engineer    1  \n",
       "1                        Data Scientist, Analytics    1  \n",
       "2  Quantitative Modeling Analyst - Smart Execution    1  "
      ]
     },
     "execution_count": 5,
     "metadata": {},
     "output_type": "execute_result"
    }
   ],
   "source": [
    "# Initiates file name: file_name\n",
    "file_name = \"datascientist_high.json\"\n",
    "\n",
    "# Imports file as dataframe: data\n",
    "ds_high = pd.read_json(file_name)\n",
    "\n",
    "# Adds a column \"pay\" for later use\n",
    "ds_high[\"pay\"] = 1\n",
    "\n",
    "# Displays the head of the dataframe\n",
    "ds_high.head(3)"
   ]
  },
  {
   "cell_type": "code",
   "execution_count": 6,
   "metadata": {},
   "outputs": [
    {
     "name": "stdout",
     "output_type": "stream",
     "text": [
      "(990, 6)\n",
      "(989, 6)\n"
     ]
    }
   ],
   "source": [
    "print(ds_high.shape)\n",
    "print(ds_low.shape)"
   ]
  },
  {
   "cell_type": "code",
   "execution_count": 7,
   "metadata": {
    "collapsed": true
   },
   "outputs": [],
   "source": [
    "# Concatenates both\n",
    "data_scientist_global = pd.concat([ds_low, ds_high], join = \"outer\", ignore_index=True)"
   ]
  },
  {
   "cell_type": "code",
   "execution_count": 8,
   "metadata": {
    "collapsed": true
   },
   "outputs": [],
   "source": [
    "# Drops Duplicates if any\n",
    "data_scientist_global.drop_duplicates(inplace = True, subset = \"id\")"
   ]
  },
  {
   "cell_type": "code",
   "execution_count": 9,
   "metadata": {},
   "outputs": [
    {
     "data": {
      "text/plain": [
       "(1979, 6)"
      ]
     },
     "execution_count": 9,
     "metadata": {},
     "output_type": "execute_result"
    }
   ],
   "source": [
    "# Shape of new data frame\n",
    "data_scientist_global.shape"
   ]
  },
  {
   "cell_type": "code",
   "execution_count": 10,
   "metadata": {},
   "outputs": [
    {
     "name": "stdout",
     "output_type": "stream",
     "text": [
      "Data Science Developer\n",
      "\n",
      "About Us   Korn Ferry is the preeminent global people and organizational advisory firm. We are nearly 7,000 colleagues, sharing a single purpose: helping leaders, organizations, and societies succeed by releasing the full power and potential of people. We deliver services through three divisions: •Korn Ferry Executive Search, which helps you attract the best executive talent with the right fit. •Korn Ferry Hay Group, which helps you align your organization and people; developing, engaging, and rewarding them to achieve business success. •Korn Ferry Futurestep, which delivers professional talent with impact. Through our combined strength and specialized expertise, we have an unrivalled ability to address the entire talent continuum. Our insight is supported by robust data on more than 20 million professionals in 114 countries. The Korn Ferry Institute, our research and analytics arm, was established to share intelligence and expert points of view on talent and leadership. Through studies, books and a quarterly magazine, Briefings, we aim to increase understanding of how strategic talent decisions contribute to competitive advantage, growth and success.   The Role Korn Ferry’s expanding team of data scientists plays an important role in supporting our consultants and our scientific mission. This position would be responsible for assisting in the development and deployment of algorithms that score and interpret Korn Ferry’s suite of assessments measuring the competencies, experience, traits, and drivers of employees as well as to develop R applications to help our analytics team derive meaningful insights from our client’s personnel data using data science, machine learning and/or other artificial intelligence methodologies.   Key Accountabilities •Building and maintaining scoring and reporting logic for our flagship assessment engine: KF4D. •Proactively identify opportunities within the Korn Ferry Institute where data science, machine learning and/or artificial intelligence can improve the quality or increase the efficiency of existing processes, and collaborate with stakeholders to take advantage of these opportunities. •Automate high volume client requests including the programmatic creation of PPT, PDF, and HTML reports. •Develop interactive data visualizations that allow our clients to explore their own data. •Contribute to research on the application of machine learning and statistics to talent management   Skills & Experience The ideal candidate will have: • Applicants with a Masters or a PhD are preferred although highly experienced applicants with a bachelor’s degree will be considered. • Extensive R coding experience (at least 5 years full time) including experience developing R applications larger than 10,000 lines. • Experiencing solving real problems using methods from statistics or machine learning. • Experience integrating R and Latex to generate PDF reports. • Experience developing R applications collaboratively as part of a team. • Experience working a variety of data structures including (JSON; XML; SPSS; SAS; XLSX; CSV; TSV; etc) • Some experience with additional languages such as Python, JavaScript, SQL, or HTML. • Some experience developing interactive visualizations using rShiny or d3. • The ability to self teach new methods and techniques. • Experience with deploying and maintaining R sessions on AWS a plus • Experience with git and version control a plus • Experience developing games or with gaming technologies a plus Key Competencies: • Managing Complexity • Nimble Learning • Optimizes Work Processes • Tech Savvy • Managing Ambiguity LEADERSHIP CHARACTERISTICS Making Complex Decisions • Can solve even the toughest and most complex of problems; great at gleaning meaning from whatever data is available; is a quick study of the new and different; adds personal wisdom and experience to come to the best conclusion and solution, given the situation; uses multiple problem-solving tools and techniques. Keeping on Point • Can quickly separate the mission-critical from the nice to dos and the trivials; quickly senses what's the next most useful thing to work on; focuses on the critical few tasks that really add value and puts aside or delays the rest. Managing Work Processes • Is an effective process, work flow, and systems designer; is good at figuring out what to measure to track progress; sets up systems that can almost manage themselves; is a master at the effectiveness and efficiency of work systems; can quickly diagnose and fix a work flow problem; always looking for incremental process improvement. Focusing on Action and Outcomes • Attacks everything with drive and energy with an eye on the bottom line; not afraid to initiate action before all the facts are known; drives to finish everything he/she starts. Getting Organized • Is well organized, resourceful, and planful; effective and efficient at marshalling multiple resources to get things done; lays out tasks in sufficient detail to mark the trail; is able to get things done with less and in less time; can work on multiple tasks at once without losing track; foresees and plans around obstacles. APPLICATION INFORMATION Korn Ferry offers a competitive compensation and benefits package commensurate with experience. To apply for this position, please visit http://kornferry.loop.jobs. Korn Ferry is an Equal Employment Opportunity/Affirmative Action Employer – Minorities/Females/Individuals with Disabilities/Protected Veterans. All qualified applicants will receive consideration for employment without regard to race, color, religion, sex, sexual orientation, gender identity, national origin, disability, or veteran status or any other characteristic protected by federal, state, or local law.\n"
     ]
    }
   ],
   "source": [
    "#Looks at an example summary and title\n",
    "\n",
    "x = np.random.randint(1978)\n",
    "\n",
    "print(data_scientist_global.title[x])\n",
    "print(\"\")\n",
    "print(data_scientist_global.summary[x])\n",
    "\n"
   ]
  },
  {
   "cell_type": "markdown",
   "metadata": {},
   "source": [
    "---\n",
    "\n",
    "**Cleaning Job Titles and Job Summaries**\n",
    "\n",
    "Do to the inconsistencies with the job titles and job summaries, we are going to clean it up a bit. This involves removing all non-alphanumeric characters and making everything lowercase. \n",
    "\n",
    "---"
   ]
  },
  {
   "cell_type": "code",
   "execution_count": 11,
   "metadata": {
    "collapsed": true
   },
   "outputs": [],
   "source": [
    "#Import Regex to clean\n",
    "import re\n",
    "from nltk.corpus import stopwords\n",
    "\n",
    "def clean_text(text):\n",
    "    # Function to convert a raw review to a string of words\n",
    "    # The input is a single string (a raw movie review), and \n",
    "    # the outputr is a single string (a preprocessed movie review)\n",
    "    #\n",
    "    # 1. Remove HTML\n",
    "    review_text = BeautifulSoup(text, 'lxml').get_text()\n",
    "    #\n",
    "    # 2. Remove non-letters\n",
    "    letters_only = re.sub(\"[^a-zA-Z]\", \" \", review_text)\n",
    "    #\n",
    "    # 3. Conbert to lower case, split into individual words\n",
    "    words = letters_only.lower().split()\n",
    "    #\n",
    "    # 4.In Python, searching a set is much faster than searching a list, soconvert the stop words to a set\n",
    "    stops = set(stopwords.words(\"english\"))\n",
    "    #\n",
    "    # 5. Remove stop words\n",
    "    meaningful_words = [w for w in words if not w in stops]\n",
    "    #\n",
    "    # 6. Join the words back into one string seperated by space, \n",
    "    # and return the result.\n",
    "    return( \" \".join(meaningful_words))"
   ]
  },
  {
   "cell_type": "code",
   "execution_count": 12,
   "metadata": {
    "collapsed": true
   },
   "outputs": [],
   "source": [
    "# Cleans all text from summary and title\n",
    "data_scientist_global[\"summary\"] = data_scientist_global[\"summary\"].map(clean_text);\n",
    "data_scientist_global[\"title\"] = data_scientist_global[\"title\"].map(clean_text);"
   ]
  },
  {
   "cell_type": "markdown",
   "metadata": {
    "collapsed": true
   },
   "source": [
    "---\n",
    "\n",
    "**Bag of Words model**\n",
    "\n",
    "Use CountVectorizer to create bag of words for:\n",
    "\n",
    "- Job titles\n",
    "- Job summarys\n",
    "\n",
    "---"
   ]
  },
  {
   "cell_type": "markdown",
   "metadata": {},
   "source": [
    "### Helper Code"
   ]
  },
  {
   "cell_type": "code",
   "execution_count": 13,
   "metadata": {
    "collapsed": true
   },
   "outputs": [],
   "source": [
    "#for measuring training time\n",
    "from time import time \n",
    "# F1 score (also F-score or F-measure) is a measure of a test's accuracy. \n",
    "#It considers both the precision p and the recall r of the test to compute \n",
    "#the score: p is the number of correct positive results divided by the number of \n",
    "#all positive results, and r is the number of correct positive results divided by \n",
    "#the number of positive results that should have been returned. The F1 score can be \n",
    "#interpreted as a weighted average of the precision and recall, where an F1 score \n",
    "#reaches its best value at 1 and worst at 0.\n",
    "from sklearn.metrics import f1_score\n",
    "\n",
    "def train_classifier(clf, X_train, y_train):\n",
    "    ''' Fits a classifier to the training data. '''\n",
    "    \n",
    "    # Start the clock, train the classifier, then stop the clock\n",
    "    start = time()\n",
    "    clf.fit(X_train, y_train)\n",
    "    end = time()\n",
    "    \n",
    "    # Print the results\n",
    "    print (\"Trained model in {:.4f} seconds\".format(end - start))\n",
    "\n",
    "    \n",
    "def predict_labels(clf, features, target):\n",
    "    ''' Makes predictions using a fit classifier based on F1 score. '''\n",
    "    \n",
    "    # Start the clock, make predictions, then stop the clock\n",
    "    start = time()\n",
    "    y_pred = clf.predict(features)\n",
    "    \n",
    "    end = time()\n",
    "    # Print and return results\n",
    "    print (\"Made predictions in {:.4f} seconds.\".format(end - start))\n",
    "    \n",
    "    return f1_score(target, y_pred), sum(target == y_pred) / float(len(y_pred))\n",
    "\n",
    "\n",
    "def train_predict(clf, X_train, y_train, X_test, y_test):\n",
    "    ''' Train and predict using a classifer based on F1 score. '''\n",
    "    \n",
    "    # Indicate the classifier and the training set size\n",
    "    print (\"Training a {} using a training set size of {}. . .\".format(clf.__class__.__name__, len(X_train)))\n",
    "    \n",
    "    # Train the classifier\n",
    "    train_classifier(clf, X_train, y_train)\n",
    "    \n",
    "    # Print the results of prediction for both training and testing\n",
    "    f1, acc = predict_labels(clf, X_train, y_train)\n",
    "    print (\"F1 score and accuracy score for training set: {:.4f} , {:.4f}.\".format(f1 , acc))\n",
    "    \n",
    "    f1, acc = predict_labels(clf, X_test, y_test)\n",
    "    print (\"F1 score and accuracy score for test set: {:.4f} , {:.4f}.\".format(f1 , acc))\n",
    "    print(\"-----------------------------------------------------------------------\")"
   ]
  },
  {
   "cell_type": "code",
   "execution_count": 14,
   "metadata": {
    "collapsed": true
   },
   "outputs": [],
   "source": [
    "from nltk import word_tokenize          \n",
    "from nltk.stem import WordNetLemmatizer \n",
    "from sklearn.feature_extraction.text import CountVectorizer\n",
    "\n",
    "#Creates a LemmaTokenizer to be used on raw text\n",
    "class LemmaTokenizer(object):\n",
    "    def __init__(self):\n",
    "        self.wnl = WordNetLemmatizer()\n",
    "    def __call__(self, doc):\n",
    "        return [self.wnl.lemmatize(t) for t in word_tokenize(doc)]"
   ]
  },
  {
   "cell_type": "code",
   "execution_count": 15,
   "metadata": {
    "collapsed": true
   },
   "outputs": [],
   "source": [
    "# Sets a baseline for classifier comparison\n",
    "baseline = np.mean(data_scientist_global.pay)"
   ]
  },
  {
   "cell_type": "markdown",
   "metadata": {},
   "source": [
    "## Section 1: Job Salary Trends\n",
    "\n",
    "In this section the we are exploring the keywords in titles and summaries in both high and low salary jobs. The below 5 models are used on the same training and testing dataset. The best performing model is then optimized using a cross validated grid search to yield a better result"
   ]
  },
  {
   "cell_type": "markdown",
   "metadata": {},
   "source": [
    "### Predicting from titles"
   ]
  },
  {
   "cell_type": "code",
   "execution_count": 16,
   "metadata": {
    "collapsed": true
   },
   "outputs": [],
   "source": [
    "# Sets model CountVectorizer: cv\n",
    "cv_title = CountVectorizer(ngram_range=(1,2),\n",
    "                     max_features=2500,\n",
    "                     stop_words='english',\n",
    "                     tokenizer=LemmaTokenizer(),\n",
    "                     binary = True)\n",
    "\n",
    "#Fits and transforms model as a dense dataframe: words\n",
    "words_title = cv_title.fit_transform(data_scientist_global.title)\n",
    "words_title = pd.DataFrame(words_title.todense(), columns=cv_title.get_feature_names())"
   ]
  },
  {
   "cell_type": "code",
   "execution_count": 17,
   "metadata": {},
   "outputs": [
    {
     "name": "stdout",
     "output_type": "stream",
     "text": [
      "(1484, 2500) (495, 2500)\n"
     ]
    }
   ],
   "source": [
    "from sklearn.model_selection import train_test_split, cross_val_predict\n",
    "\n",
    "# Splits the data into training and testing dataset\n",
    "Xtrain_title, Xtest_title, ytrain_title, ytest_title = train_test_split(words_title.values,\n",
    "                                                                        data_scientist_global.pay,\n",
    "                                                                        test_size=0.25,\n",
    "                                                                        random_state = 42)\n",
    "\n",
    "print(Xtrain_title.shape, Xtest_title.shape)"
   ]
  },
  {
   "cell_type": "code",
   "execution_count": 18,
   "metadata": {
    "scrolled": false
   },
   "outputs": [
    {
     "name": "stdout",
     "output_type": "stream",
     "text": [
      "The baseline score for high paying jobs is 0.50%\n",
      "\n",
      "-----------------------------------------------------------------------\n",
      "Training a LogisticRegression using a training set size of 1484. . .\n",
      "Trained model in 0.1043 seconds\n",
      "Made predictions in 0.0322 seconds.\n",
      "F1 score and accuracy score for training set: 0.9536 , 0.9522.\n",
      "Made predictions in 0.0040 seconds.\n",
      "F1 score and accuracy score for test set: 0.9087 , 0.9152.\n",
      "-----------------------------------------------------------------------\n",
      "\n",
      "Training a BernoulliNB using a training set size of 1484. . .\n",
      "Trained model in 0.0506 seconds\n",
      "Made predictions in 0.0516 seconds.\n",
      "F1 score and accuracy score for training set: 0.9248 , 0.9232.\n",
      "Made predictions in 0.0150 seconds.\n",
      "F1 score and accuracy score for test set: 0.9067 , 0.9131.\n",
      "-----------------------------------------------------------------------\n",
      "\n",
      "Training a SVC using a training set size of 1484. . .\n",
      "Trained model in 5.3089 seconds\n",
      "Made predictions in 5.1956 seconds.\n",
      "F1 score and accuracy score for training set: 0.7763 , 0.7325.\n",
      "Made predictions in 1.7449 seconds.\n",
      "F1 score and accuracy score for test set: 0.7443 , 0.7071.\n",
      "-----------------------------------------------------------------------\n",
      "\n",
      "Training a RandomForestClassifier using a training set size of 1484. . .\n",
      "Trained model in 0.1213 seconds\n",
      "Made predictions in 0.0170 seconds.\n",
      "F1 score and accuracy score for training set: 0.9724 , 0.9717.\n",
      "Made predictions in 0.0070 seconds.\n",
      "F1 score and accuracy score for test set: 0.8904 , 0.8990.\n",
      "-----------------------------------------------------------------------\n",
      "\n",
      "Training a GradientBoostingClassifier using a training set size of 1484. . .\n",
      "Trained model in 9.9414 seconds\n",
      "Made predictions in 0.0226 seconds.\n",
      "F1 score and accuracy score for training set: 0.9142 , 0.9131.\n",
      "Made predictions in 0.0065 seconds.\n",
      "F1 score and accuracy score for test set: 0.8816 , 0.8909.\n",
      "-----------------------------------------------------------------------\n",
      "\n"
     ]
    }
   ],
   "source": [
    "from sklearn.linear_model import LogisticRegression\n",
    "from sklearn.svm import SVC\n",
    "from sklearn.ensemble import RandomForestClassifier\n",
    "from sklearn.ensemble import GradientBoostingClassifier\n",
    "from sklearn.naive_bayes import BernoulliNB\n",
    "\n",
    "clf_A_title = LogisticRegression(random_state = 42)\n",
    "clf_B_title = BernoulliNB()\n",
    "clf_C_title = SVC(random_state = 42, kernel = 'rbf')\n",
    "clf_D_title = RandomForestClassifier(random_state = 42)\n",
    "clf_E_title = GradientBoostingClassifier(max_features = 2500, random_state = 42)\n",
    "\n",
    "print(\"The baseline score for high paying jobs is {:.2f}%\\n\".format(baseline))\n",
    "print(\"-----------------------------------------------------------------------\")\n",
    "\n",
    "train_predict(clf_A_title, Xtrain_title, ytrain_title, Xtest_title, ytest_title)\n",
    "print ('')\n",
    "train_predict(clf_B_title, Xtrain_title, ytrain_title, Xtest_title, ytest_title)\n",
    "print ('')\n",
    "train_predict(clf_C_title, Xtrain_title, ytrain_title, Xtest_title, ytest_title)\n",
    "print ('')\n",
    "train_predict(clf_D_title, Xtrain_title, ytrain_title, Xtest_title, ytest_title)\n",
    "print ('')\n",
    "train_predict(clf_E_title, Xtrain_title, ytrain_title, Xtest_title, ytest_title)\n",
    "print ('')"
   ]
  },
  {
   "cell_type": "markdown",
   "metadata": {
    "collapsed": true
   },
   "source": [
    "### Predicting from Summaries"
   ]
  },
  {
   "cell_type": "code",
   "execution_count": 19,
   "metadata": {
    "collapsed": true
   },
   "outputs": [],
   "source": [
    "cv_summary = CountVectorizer(ngram_range=(2,3),\n",
    "                     max_features=2500,\n",
    "                     stop_words='english',\n",
    "                     tokenizer=LemmaTokenizer())\n",
    "\n",
    "words_summary = cv_summary.fit_transform(data_scientist_global.summary)\n",
    "words_summary = pd.DataFrame(words_summary.todense(), columns=cv_summary.get_feature_names())"
   ]
  },
  {
   "cell_type": "code",
   "execution_count": 20,
   "metadata": {},
   "outputs": [
    {
     "name": "stdout",
     "output_type": "stream",
     "text": [
      "(1484, 2500) (495, 2500)\n"
     ]
    }
   ],
   "source": [
    "from sklearn.model_selection import train_test_split, cross_val_predict\n",
    "Xtrain_summary, Xtest_summary, ytrain_summary, ytest_summary = train_test_split(words_summary.values,\n",
    "                                                                                data_scientist_global.pay,\n",
    "                                                                                test_size=0.25,\n",
    "                                                                                random_state=42)\n",
    "print(Xtrain_summary.shape, Xtest_summary.shape)"
   ]
  },
  {
   "cell_type": "code",
   "execution_count": 21,
   "metadata": {
    "scrolled": false
   },
   "outputs": [
    {
     "name": "stdout",
     "output_type": "stream",
     "text": [
      "The baseline score for high paying jobs is 0.50%\n",
      "\n",
      "-----------------------------------------------------------------------\n",
      "Training a LogisticRegression using a training set size of 1484. . .\n",
      "Trained model in 0.0521 seconds\n",
      "Made predictions in 0.0155 seconds.\n",
      "F1 score and accuracy score for training set: 1.0000 , 1.0000.\n",
      "Made predictions in 0.0045 seconds.\n",
      "F1 score and accuracy score for test set: 0.8703 , 0.8808.\n",
      "-----------------------------------------------------------------------\n",
      "\n",
      "Training a BernoulliNB using a training set size of 1484. . .\n",
      "Trained model in 0.0607 seconds\n",
      "Made predictions in 0.0607 seconds.\n",
      "F1 score and accuracy score for training set: 0.8910 , 0.8935.\n",
      "Made predictions in 0.0201 seconds.\n",
      "F1 score and accuracy score for test set: 0.8680 , 0.8808.\n",
      "-----------------------------------------------------------------------\n",
      "\n",
      "Training a SVC using a training set size of 1484. . .\n",
      "Trained model in 4.2122 seconds\n",
      "Made predictions in 3.9503 seconds.\n",
      "F1 score and accuracy score for training set: 0.8610 , 0.8666.\n",
      "Made predictions in 1.2830 seconds.\n",
      "F1 score and accuracy score for test set: 0.8399 , 0.8606.\n",
      "-----------------------------------------------------------------------\n",
      "\n",
      "Training a RandomForestClassifier using a training set size of 1484. . .\n",
      "Trained model in 0.1048 seconds\n",
      "Made predictions in 0.0155 seconds.\n",
      "F1 score and accuracy score for training set: 0.9921 , 0.9919.\n",
      "Made predictions in 0.0055 seconds.\n",
      "F1 score and accuracy score for test set: 0.8657 , 0.8727.\n",
      "-----------------------------------------------------------------------\n",
      "\n",
      "Training a GradientBoostingClassifier using a training set size of 1484. . .\n",
      "Trained model in 15.3496 seconds\n",
      "Made predictions in 0.0201 seconds.\n",
      "F1 score and accuracy score for training set: 0.9505 , 0.9495.\n",
      "Made predictions in 0.0065 seconds.\n",
      "F1 score and accuracy score for test set: 0.8632 , 0.8707.\n",
      "-----------------------------------------------------------------------\n",
      "\n"
     ]
    }
   ],
   "source": [
    "from sklearn.linear_model import LogisticRegression\n",
    "from sklearn.svm import SVC\n",
    "from sklearn.ensemble import RandomForestClassifier\n",
    "from sklearn.ensemble import GradientBoostingClassifier\n",
    "from sklearn.naive_bayes import BernoulliNB\n",
    "\n",
    "clf_A_summary = LogisticRegression()\n",
    "clf_B_summary = BernoulliNB()\n",
    "clf_C_summary = SVC(kernel = 'rbf')\n",
    "clf_D_summary = RandomForestClassifier()\n",
    "clf_E_summary = GradientBoostingClassifier(max_features = 2500)\n",
    "\n",
    "print(\"The baseline score for high paying jobs is {:.2f}%\\n\".format(baseline))\n",
    "print(\"-----------------------------------------------------------------------\")\n",
    "\n",
    "train_predict(clf_A_summary, Xtrain_summary, ytrain_summary, Xtest_summary, ytest_summary)\n",
    "print ('')\n",
    "train_predict(clf_B_summary, Xtrain_summary, ytrain_summary, Xtest_summary, ytest_summary)\n",
    "print ('')\n",
    "train_predict(clf_C_summary, Xtrain_summary, ytrain_summary, Xtest_summary, ytest_summary)\n",
    "print ('') \n",
    "train_predict(clf_D_summary, Xtrain_summary, ytrain_summary, Xtest_summary, ytest_summary)\n",
    "print ('')\n",
    "train_predict(clf_E_summary, Xtrain_summary, ytrain_summary, Xtest_summary, ytest_summary)\n",
    "print ('')"
   ]
  },
  {
   "cell_type": "markdown",
   "metadata": {},
   "source": [
    "## Optimizing our models\n",
    "\n",
    "In both cases for Titles and Summaries, a simple Logistic Regression had a marginally better F1-score. As such we will be optimizing both models using a cross validated grid search in hopes to further improve our results."
   ]
  },
  {
   "cell_type": "markdown",
   "metadata": {
    "collapsed": true
   },
   "source": [
    "### Optimizing - Title"
   ]
  },
  {
   "cell_type": "code",
   "execution_count": 22,
   "metadata": {},
   "outputs": [
    {
     "name": "stderr",
     "output_type": "stream",
     "text": [
      "2018-01-13 01:12:22 [py.warnings] WARNING: C:\\ProgramData\\Anaconda3\\lib\\site-packages\\sklearn\\cross_validation.py:41: DeprecationWarning: This module was deprecated in version 0.18 in favor of the model_selection module into which all the refactored classes and functions are moved. Also note that the interface of the new CV iterators are different from that of this module. This module will be removed in 0.20.\n",
      "  \"This module will be removed in 0.20.\", DeprecationWarning)\n",
      "\n",
      "2018-01-13 01:12:22 [py.warnings] WARNING: C:\\ProgramData\\Anaconda3\\lib\\site-packages\\sklearn\\grid_search.py:42: DeprecationWarning: This module was deprecated in version 0.18 in favor of the model_selection module into which all the refactored classes and functions are moved. This module will be removed in 0.20.\n",
      "  DeprecationWarning)\n",
      "\n"
     ]
    }
   ],
   "source": [
    "from sklearn.grid_search import GridSearchCV\n",
    "\n",
    "# Parameters List to fine tune\n",
    "parameters = {\n",
    "    'penalty':['l1','l2'],\n",
    "    'solver':['liblinear'],\n",
    "    'C': np.logspace(-5, 0, 100)    \n",
    "}\n",
    "\n",
    "# Initialize the classifier\n",
    "clf_gs = LogisticRegression(random_state = 42)\n",
    "\n",
    "# Perform grid search on the classifier using the f1_scorer as the scoring method\n",
    "grid_title = GridSearchCV(clf_gs,\n",
    "                        param_grid=parameters,\n",
    "                        cv=5)\n",
    "\n",
    "# Fit the grid search object to the training data and find the optimal parameters\n",
    "grid_title = grid_title.fit(Xtrain_title ,ytrain_title)"
   ]
  },
  {
   "cell_type": "code",
   "execution_count": 23,
   "metadata": {},
   "outputs": [
    {
     "name": "stdout",
     "output_type": "stream",
     "text": [
      "LogisticRegression(C=0.89021508544503924, class_weight=None, dual=False,\n",
      "          fit_intercept=True, intercept_scaling=1, max_iter=100,\n",
      "          multi_class='ovr', n_jobs=1, penalty='l2', random_state=42,\n",
      "          solver='liblinear', tol=0.0001, verbose=0, warm_start=False)\n"
     ]
    }
   ],
   "source": [
    "#Prints our the best parameters\n",
    "print(grid_title.best_estimator_)"
   ]
  },
  {
   "cell_type": "code",
   "execution_count": 24,
   "metadata": {},
   "outputs": [
    {
     "name": "stdout",
     "output_type": "stream",
     "text": [
      "0.8915094339622641\n"
     ]
    }
   ],
   "source": [
    "print(grid_title.best_score_)"
   ]
  },
  {
   "cell_type": "code",
   "execution_count": 25,
   "metadata": {
    "collapsed": true
   },
   "outputs": [],
   "source": [
    "best_lr_title = grid_title.best_estimator_"
   ]
  },
  {
   "cell_type": "code",
   "execution_count": 26,
   "metadata": {},
   "outputs": [
    {
     "name": "stdout",
     "output_type": "stream",
     "text": [
      "Training a LogisticRegression using a training set size of 1484. . .\n",
      "Trained model in 0.0281 seconds\n",
      "Made predictions in 0.0175 seconds.\n",
      "F1 score and accuracy score for training set: 0.9516 , 0.9501.\n",
      "Made predictions in 0.0055 seconds.\n",
      "F1 score and accuracy score for test set: 0.9087 , 0.9152.\n",
      "-----------------------------------------------------------------------\n",
      "\n"
     ]
    }
   ],
   "source": [
    "train_predict(best_lr_title, Xtrain_title, ytrain_title, Xtest_title, ytest_title)\n",
    "print ('')"
   ]
  },
  {
   "cell_type": "markdown",
   "metadata": {},
   "source": [
    "#### Probability of words in titles given \"Pay\"\n",
    "\n",
    "Has to be using Naive Bayes, defined as clf_B"
   ]
  },
  {
   "cell_type": "code",
   "execution_count": 27,
   "metadata": {
    "collapsed": true,
    "scrolled": true
   },
   "outputs": [],
   "source": [
    "feat_lp = clf_B_title.feature_log_prob_\n",
    "\n",
    "high_p = np.exp(feat_lp[1])\n",
    "\n",
    "low_p = np.exp(feat_lp[0])"
   ]
  },
  {
   "cell_type": "code",
   "execution_count": 28,
   "metadata": {
    "scrolled": false
   },
   "outputs": [
    {
     "data": {
      "text/html": [
       "<div>\n",
       "<style>\n",
       "    .dataframe thead tr:only-child th {\n",
       "        text-align: right;\n",
       "    }\n",
       "\n",
       "    .dataframe thead th {\n",
       "        text-align: left;\n",
       "    }\n",
       "\n",
       "    .dataframe tbody tr th {\n",
       "        vertical-align: top;\n",
       "    }\n",
       "</style>\n",
       "<table border=\"1\" class=\"dataframe\">\n",
       "  <thead>\n",
       "    <tr style=\"text-align: right;\">\n",
       "      <th></th>\n",
       "      <th>feature</th>\n",
       "      <th>high_p</th>\n",
       "      <th>low_p</th>\n",
       "      <th>pay_diff</th>\n",
       "    </tr>\n",
       "  </thead>\n",
       "  <tbody>\n",
       "    <tr>\n",
       "      <th>0</th>\n",
       "      <td>data</td>\n",
       "      <td>0.796053</td>\n",
       "      <td>0.186813</td>\n",
       "      <td>0.609239</td>\n",
       "    </tr>\n",
       "    <tr>\n",
       "      <th>1</th>\n",
       "      <td>data scientist</td>\n",
       "      <td>0.600000</td>\n",
       "      <td>0.045330</td>\n",
       "      <td>0.554670</td>\n",
       "    </tr>\n",
       "    <tr>\n",
       "      <th>2</th>\n",
       "      <td>scientist</td>\n",
       "      <td>0.685526</td>\n",
       "      <td>0.309066</td>\n",
       "      <td>0.376460</td>\n",
       "    </tr>\n",
       "    <tr>\n",
       "      <th>3</th>\n",
       "      <td>senior</td>\n",
       "      <td>0.172368</td>\n",
       "      <td>0.048077</td>\n",
       "      <td>0.124291</td>\n",
       "    </tr>\n",
       "    <tr>\n",
       "      <th>4</th>\n",
       "      <td>senior data</td>\n",
       "      <td>0.105263</td>\n",
       "      <td>0.005495</td>\n",
       "      <td>0.099769</td>\n",
       "    </tr>\n",
       "    <tr>\n",
       "      <th>5</th>\n",
       "      <td>data science</td>\n",
       "      <td>0.086842</td>\n",
       "      <td>0.009615</td>\n",
       "      <td>0.077227</td>\n",
       "    </tr>\n",
       "    <tr>\n",
       "      <th>6</th>\n",
       "      <td>engineer</td>\n",
       "      <td>0.114474</td>\n",
       "      <td>0.038462</td>\n",
       "      <td>0.076012</td>\n",
       "    </tr>\n",
       "    <tr>\n",
       "      <th>7</th>\n",
       "      <td>science</td>\n",
       "      <td>0.096053</td>\n",
       "      <td>0.021978</td>\n",
       "      <td>0.074075</td>\n",
       "    </tr>\n",
       "    <tr>\n",
       "      <th>8</th>\n",
       "      <td>analytics</td>\n",
       "      <td>0.085526</td>\n",
       "      <td>0.026099</td>\n",
       "      <td>0.059427</td>\n",
       "    </tr>\n",
       "    <tr>\n",
       "      <th>9</th>\n",
       "      <td>sr</td>\n",
       "      <td>0.064474</td>\n",
       "      <td>0.009615</td>\n",
       "      <td>0.054858</td>\n",
       "    </tr>\n",
       "    <tr>\n",
       "      <th>10</th>\n",
       "      <td>principal</td>\n",
       "      <td>0.056579</td>\n",
       "      <td>0.005495</td>\n",
       "      <td>0.051084</td>\n",
       "    </tr>\n",
       "    <tr>\n",
       "      <th>11</th>\n",
       "      <td>machine</td>\n",
       "      <td>0.085526</td>\n",
       "      <td>0.035714</td>\n",
       "      <td>0.049812</td>\n",
       "    </tr>\n",
       "    <tr>\n",
       "      <th>12</th>\n",
       "      <td>data engineer</td>\n",
       "      <td>0.053947</td>\n",
       "      <td>0.005495</td>\n",
       "      <td>0.048453</td>\n",
       "    </tr>\n",
       "    <tr>\n",
       "      <th>13</th>\n",
       "      <td>learning</td>\n",
       "      <td>0.090789</td>\n",
       "      <td>0.042582</td>\n",
       "      <td>0.048207</td>\n",
       "    </tr>\n",
       "    <tr>\n",
       "      <th>14</th>\n",
       "      <td>machine learning</td>\n",
       "      <td>0.082895</td>\n",
       "      <td>0.035714</td>\n",
       "      <td>0.047180</td>\n",
       "    </tr>\n",
       "    <tr>\n",
       "      <th>15</th>\n",
       "      <td>sr data</td>\n",
       "      <td>0.044737</td>\n",
       "      <td>0.004121</td>\n",
       "      <td>0.040616</td>\n",
       "    </tr>\n",
       "    <tr>\n",
       "      <th>16</th>\n",
       "      <td>principal data</td>\n",
       "      <td>0.040789</td>\n",
       "      <td>0.001374</td>\n",
       "      <td>0.039416</td>\n",
       "    </tr>\n",
       "    <tr>\n",
       "      <th>17</th>\n",
       "      <td>quantitative</td>\n",
       "      <td>0.063158</td>\n",
       "      <td>0.024725</td>\n",
       "      <td>0.038433</td>\n",
       "    </tr>\n",
       "    <tr>\n",
       "      <th>18</th>\n",
       "      <td>manager</td>\n",
       "      <td>0.040789</td>\n",
       "      <td>0.009615</td>\n",
       "      <td>0.031174</td>\n",
       "    </tr>\n",
       "    <tr>\n",
       "      <th>19</th>\n",
       "      <td>lead</td>\n",
       "      <td>0.042105</td>\n",
       "      <td>0.015110</td>\n",
       "      <td>0.026995</td>\n",
       "    </tr>\n",
       "  </tbody>\n",
       "</table>\n",
       "</div>"
      ],
      "text/plain": [
       "             feature    high_p     low_p  pay_diff\n",
       "0               data  0.796053  0.186813  0.609239\n",
       "1     data scientist  0.600000  0.045330  0.554670\n",
       "2          scientist  0.685526  0.309066  0.376460\n",
       "3             senior  0.172368  0.048077  0.124291\n",
       "4        senior data  0.105263  0.005495  0.099769\n",
       "5       data science  0.086842  0.009615  0.077227\n",
       "6           engineer  0.114474  0.038462  0.076012\n",
       "7            science  0.096053  0.021978  0.074075\n",
       "8          analytics  0.085526  0.026099  0.059427\n",
       "9                 sr  0.064474  0.009615  0.054858\n",
       "10         principal  0.056579  0.005495  0.051084\n",
       "11           machine  0.085526  0.035714  0.049812\n",
       "12     data engineer  0.053947  0.005495  0.048453\n",
       "13          learning  0.090789  0.042582  0.048207\n",
       "14  machine learning  0.082895  0.035714  0.047180\n",
       "15           sr data  0.044737  0.004121  0.040616\n",
       "16    principal data  0.040789  0.001374  0.039416\n",
       "17      quantitative  0.063158  0.024725  0.038433\n",
       "18           manager  0.040789  0.009615  0.031174\n",
       "19              lead  0.042105  0.015110  0.026995"
      ]
     },
     "execution_count": 28,
     "metadata": {},
     "output_type": "execute_result"
    }
   ],
   "source": [
    "feat_probs = pd.DataFrame({'high_p':high_p, 'low_p':low_p, 'feature':words_title.columns.values})\n",
    "\n",
    "feat_probs['pay_diff'] = feat_probs.high_p - feat_probs.low_p\n",
    "\n",
    "feat_probs.sort_values('pay_diff', ascending=False, inplace=True)\n",
    "feat_probs.reset_index(inplace = True, drop=True)\n",
    "feat_probs.head(20)"
   ]
  },
  {
   "cell_type": "code",
   "execution_count": 29,
   "metadata": {},
   "outputs": [
    {
     "data": {
      "text/html": [
       "<div>\n",
       "<style>\n",
       "    .dataframe thead tr:only-child th {\n",
       "        text-align: right;\n",
       "    }\n",
       "\n",
       "    .dataframe thead th {\n",
       "        text-align: left;\n",
       "    }\n",
       "\n",
       "    .dataframe tbody tr th {\n",
       "        vertical-align: top;\n",
       "    }\n",
       "</style>\n",
       "<table border=\"1\" class=\"dataframe\">\n",
       "  <thead>\n",
       "    <tr style=\"text-align: right;\">\n",
       "      <th></th>\n",
       "      <th>feature</th>\n",
       "      <th>high_p</th>\n",
       "      <th>low_p</th>\n",
       "      <th>pay_diff</th>\n",
       "    </tr>\n",
       "  </thead>\n",
       "  <tbody>\n",
       "    <tr>\n",
       "      <th>2499</th>\n",
       "      <td>research</td>\n",
       "      <td>0.072368</td>\n",
       "      <td>0.497253</td>\n",
       "      <td>-0.424884</td>\n",
       "    </tr>\n",
       "    <tr>\n",
       "      <th>2498</th>\n",
       "      <td>analyst</td>\n",
       "      <td>0.086842</td>\n",
       "      <td>0.412088</td>\n",
       "      <td>-0.325246</td>\n",
       "    </tr>\n",
       "    <tr>\n",
       "      <th>2497</th>\n",
       "      <td>research analyst</td>\n",
       "      <td>0.019737</td>\n",
       "      <td>0.234890</td>\n",
       "      <td>-0.215153</td>\n",
       "    </tr>\n",
       "    <tr>\n",
       "      <th>2496</th>\n",
       "      <td>associate</td>\n",
       "      <td>0.015789</td>\n",
       "      <td>0.119505</td>\n",
       "      <td>-0.103716</td>\n",
       "    </tr>\n",
       "    <tr>\n",
       "      <th>2495</th>\n",
       "      <td>data analyst</td>\n",
       "      <td>0.003947</td>\n",
       "      <td>0.070055</td>\n",
       "      <td>-0.066108</td>\n",
       "    </tr>\n",
       "    <tr>\n",
       "      <th>2494</th>\n",
       "      <td>research associate</td>\n",
       "      <td>0.001316</td>\n",
       "      <td>0.054945</td>\n",
       "      <td>-0.053629</td>\n",
       "    </tr>\n",
       "    <tr>\n",
       "      <th>2493</th>\n",
       "      <td>research scientist</td>\n",
       "      <td>0.040789</td>\n",
       "      <td>0.081044</td>\n",
       "      <td>-0.040254</td>\n",
       "    </tr>\n",
       "    <tr>\n",
       "      <th>2492</th>\n",
       "      <td>statistician</td>\n",
       "      <td>0.009211</td>\n",
       "      <td>0.048077</td>\n",
       "      <td>-0.038866</td>\n",
       "    </tr>\n",
       "    <tr>\n",
       "      <th>2491</th>\n",
       "      <td>market research</td>\n",
       "      <td>0.001316</td>\n",
       "      <td>0.034341</td>\n",
       "      <td>-0.033025</td>\n",
       "    </tr>\n",
       "    <tr>\n",
       "      <th>2490</th>\n",
       "      <td>market</td>\n",
       "      <td>0.002632</td>\n",
       "      <td>0.034341</td>\n",
       "      <td>-0.031709</td>\n",
       "    </tr>\n",
       "    <tr>\n",
       "      <th>2489</th>\n",
       "      <td>statistical</td>\n",
       "      <td>0.010526</td>\n",
       "      <td>0.041209</td>\n",
       "      <td>-0.030682</td>\n",
       "    </tr>\n",
       "    <tr>\n",
       "      <th>2488</th>\n",
       "      <td>assistant</td>\n",
       "      <td>0.002632</td>\n",
       "      <td>0.032967</td>\n",
       "      <td>-0.030335</td>\n",
       "    </tr>\n",
       "    <tr>\n",
       "      <th>2487</th>\n",
       "      <td>postdoctoral</td>\n",
       "      <td>0.001316</td>\n",
       "      <td>0.031593</td>\n",
       "      <td>-0.030278</td>\n",
       "    </tr>\n",
       "    <tr>\n",
       "      <th>2486</th>\n",
       "      <td>development</td>\n",
       "      <td>0.009211</td>\n",
       "      <td>0.038462</td>\n",
       "      <td>-0.029251</td>\n",
       "    </tr>\n",
       "    <tr>\n",
       "      <th>2485</th>\n",
       "      <td>level</td>\n",
       "      <td>0.003947</td>\n",
       "      <td>0.031593</td>\n",
       "      <td>-0.027646</td>\n",
       "    </tr>\n",
       "    <tr>\n",
       "      <th>2484</th>\n",
       "      <td>analysis</td>\n",
       "      <td>0.013158</td>\n",
       "      <td>0.038462</td>\n",
       "      <td>-0.025304</td>\n",
       "    </tr>\n",
       "    <tr>\n",
       "      <th>2483</th>\n",
       "      <td>intern</td>\n",
       "      <td>0.019737</td>\n",
       "      <td>0.043956</td>\n",
       "      <td>-0.024219</td>\n",
       "    </tr>\n",
       "    <tr>\n",
       "      <th>2482</th>\n",
       "      <td>ii</td>\n",
       "      <td>0.011842</td>\n",
       "      <td>0.035714</td>\n",
       "      <td>-0.023872</td>\n",
       "    </tr>\n",
       "    <tr>\n",
       "      <th>2481</th>\n",
       "      <td>associate scientist</td>\n",
       "      <td>0.001316</td>\n",
       "      <td>0.024725</td>\n",
       "      <td>-0.023409</td>\n",
       "    </tr>\n",
       "    <tr>\n",
       "      <th>2480</th>\n",
       "      <td>entry</td>\n",
       "      <td>0.001316</td>\n",
       "      <td>0.023352</td>\n",
       "      <td>-0.022036</td>\n",
       "    </tr>\n",
       "  </tbody>\n",
       "</table>\n",
       "</div>"
      ],
      "text/plain": [
       "                  feature    high_p     low_p  pay_diff\n",
       "2499             research  0.072368  0.497253 -0.424884\n",
       "2498              analyst  0.086842  0.412088 -0.325246\n",
       "2497     research analyst  0.019737  0.234890 -0.215153\n",
       "2496            associate  0.015789  0.119505 -0.103716\n",
       "2495         data analyst  0.003947  0.070055 -0.066108\n",
       "2494   research associate  0.001316  0.054945 -0.053629\n",
       "2493   research scientist  0.040789  0.081044 -0.040254\n",
       "2492         statistician  0.009211  0.048077 -0.038866\n",
       "2491      market research  0.001316  0.034341 -0.033025\n",
       "2490               market  0.002632  0.034341 -0.031709\n",
       "2489          statistical  0.010526  0.041209 -0.030682\n",
       "2488            assistant  0.002632  0.032967 -0.030335\n",
       "2487         postdoctoral  0.001316  0.031593 -0.030278\n",
       "2486          development  0.009211  0.038462 -0.029251\n",
       "2485                level  0.003947  0.031593 -0.027646\n",
       "2484             analysis  0.013158  0.038462 -0.025304\n",
       "2483               intern  0.019737  0.043956 -0.024219\n",
       "2482                   ii  0.011842  0.035714 -0.023872\n",
       "2481  associate scientist  0.001316  0.024725 -0.023409\n",
       "2480                entry  0.001316  0.023352 -0.022036"
      ]
     },
     "execution_count": 29,
     "metadata": {},
     "output_type": "execute_result"
    }
   ],
   "source": [
    "feat_probs.sort_values('pay_diff', ascending=True, inplace=True)\n",
    "feat_probs.head(20)"
   ]
  },
  {
   "cell_type": "markdown",
   "metadata": {},
   "source": [
    "#### Roc - Auc Curve for titles"
   ]
  },
  {
   "cell_type": "code",
   "execution_count": 30,
   "metadata": {
    "collapsed": true
   },
   "outputs": [],
   "source": [
    "from sklearn.metrics import roc_curve, auc\n",
    "from sklearn.model_selection import train_test_split\n",
    "from scipy import interp"
   ]
  },
  {
   "cell_type": "code",
   "execution_count": 31,
   "metadata": {
    "collapsed": true
   },
   "outputs": [],
   "source": [
    "etat_title = grid_title.predict(Xtest_title)\n",
    "etat_pp_title = grid_title.predict_proba(Xtest_title)"
   ]
  },
  {
   "cell_type": "code",
   "execution_count": 32,
   "metadata": {},
   "outputs": [
    {
     "data": {
      "image/png": "[encoded data removed]",
      "text/plain": [
       "<matplotlib.figure.Figure at 0x25ae3fb1208>"
      ]
     },
     "metadata": {
      "image/png": {
       "height": 502,
       "width": 563
      }
     },
     "output_type": "display_data"
    }
   ],
   "source": [
    "fpr, tpr, _ = roc_curve(ytest_title, etat_pp_title[:,1])\n",
    "roc_auc = auc(fpr, tpr)\n",
    "\n",
    "plt.figure(figsize=[8,8])\n",
    "plt.plot(fpr, tpr, label='ROC curve (area = %0.2f)' % roc_auc, linewidth=4)\n",
    "plt.plot([0, 1], [0, 1], 'k--', linewidth=4)\n",
    "plt.xlim([-0.05, 1.0])\n",
    "plt.ylim([-0.05, 1.05])\n",
    "plt.xlabel('False Positive Rate', fontsize=18)\n",
    "plt.ylabel('True Positive Rate', fontsize=18)\n",
    "plt.title('ROC curve Titles', fontsize=18)\n",
    "plt.legend(loc=\"lower right\")\n",
    "plt.show()"
   ]
  },
  {
   "cell_type": "markdown",
   "metadata": {},
   "source": [
    "### TODO: TP FP TN FN"
   ]
  },
  {
   "cell_type": "markdown",
   "metadata": {
    "collapsed": true
   },
   "source": [
    "### Optimizing a model - Summary"
   ]
  },
  {
   "cell_type": "code",
   "execution_count": 33,
   "metadata": {
    "collapsed": true
   },
   "outputs": [],
   "source": [
    "from sklearn.grid_search import GridSearchCV\n",
    "from sklearn.metrics import make_scorer\n",
    "\n",
    "\n",
    "# Parameters List to fine tune\n",
    "parameters = {\n",
    "    'penalty':['l1','l2'],\n",
    "    'solver':['liblinear'],\n",
    "    'C': np.logspace(-5, 0, 100)    \n",
    "}\n",
    "\n",
    "# TODO: Initialize the classifier\n",
    "clf = LogisticRegression(random_state = 42)\n",
    "\n",
    "# TODO: Perform grid search on the classifier using the f1_scorer as the scoring method\n",
    "grid_obj = GridSearchCV(clf,\n",
    "                        #scoring=f1_score,\n",
    "                        param_grid=parameters,\n",
    "                        cv=5)\n",
    "\n",
    "# TODO: Fit the grid search object to the training data and find the optimal parameters\n",
    "grid_obj = grid_obj.fit(Xtrain_summary ,ytrain_summary)"
   ]
  },
  {
   "cell_type": "code",
   "execution_count": 34,
   "metadata": {},
   "outputs": [
    {
     "name": "stdout",
     "output_type": "stream",
     "text": [
      "LogisticRegression(C=0.31257158496882353, class_weight=None, dual=False,\n",
      "          fit_intercept=True, intercept_scaling=1, max_iter=100,\n",
      "          multi_class='ovr', n_jobs=1, penalty='l2', random_state=42,\n",
      "          solver='liblinear', tol=0.0001, verbose=0, warm_start=False)\n"
     ]
    }
   ],
   "source": [
    "#Prints our the best parameters\n",
    "print(grid_obj.best_estimator_)"
   ]
  },
  {
   "cell_type": "code",
   "execution_count": 35,
   "metadata": {},
   "outputs": [
    {
     "data": {
      "text/plain": [
       "0.8928571428571429"
      ]
     },
     "execution_count": 35,
     "metadata": {},
     "output_type": "execute_result"
    }
   ],
   "source": [
    "grid_obj.best_score_"
   ]
  },
  {
   "cell_type": "code",
   "execution_count": 36,
   "metadata": {
    "collapsed": true
   },
   "outputs": [],
   "source": [
    "best_lr = grid_obj.best_estimator_"
   ]
  },
  {
   "cell_type": "code",
   "execution_count": 37,
   "metadata": {},
   "outputs": [
    {
     "name": "stdout",
     "output_type": "stream",
     "text": [
      "Training a LogisticRegression using a training set size of 1484. . .\n",
      "Trained model in 0.0647 seconds\n",
      "Made predictions in 0.0170 seconds.\n",
      "F1 score and accuracy score for training set: 0.9967 , 0.9966.\n",
      "Made predictions in 0.0050 seconds.\n",
      "F1 score and accuracy score for test set: 0.8722 , 0.8828.\n",
      "-----------------------------------------------------------------------\n",
      "\n"
     ]
    }
   ],
   "source": [
    "train_predict(best_lr, Xtrain_summary, ytrain_summary, Xtest_summary, ytest_summary)\n",
    "print ('')"
   ]
  },
  {
   "cell_type": "markdown",
   "metadata": {},
   "source": [
    "#### Probability of words in summaries given \"Pay\"\n",
    "\n",
    "Has to be using Naive Bayes, defined as clf_B"
   ]
  },
  {
   "cell_type": "code",
   "execution_count": 38,
   "metadata": {
    "collapsed": true
   },
   "outputs": [],
   "source": [
    "cv_summary = CountVectorizer(ngram_range=(2,3),\n",
    "                     max_features=2500,\n",
    "                     stop_words='english',\n",
    "                     tokenizer=LemmaTokenizer(),\n",
    "                     binary = True)\n",
    "\n",
    "words_summary = cv_summary.fit_transform(data_scientist_global.summary)\n",
    "words_summary = pd.DataFrame(words_summary.todense(), columns=cv_summary.get_feature_names())\n",
    "\n",
    "feat_lp = clf_B_summary.feature_log_prob_\n",
    "\n",
    "high_p = np.exp(feat_lp[1])\n",
    "\n",
    "low_p = np.exp(feat_lp[0])"
   ]
  },
  {
   "cell_type": "code",
   "execution_count": 39,
   "metadata": {},
   "outputs": [
    {
     "data": {
      "text/html": [
       "<div>\n",
       "<style>\n",
       "    .dataframe thead tr:only-child th {\n",
       "        text-align: right;\n",
       "    }\n",
       "\n",
       "    .dataframe thead th {\n",
       "        text-align: left;\n",
       "    }\n",
       "\n",
       "    .dataframe tbody tr th {\n",
       "        vertical-align: top;\n",
       "    }\n",
       "</style>\n",
       "<table border=\"1\" class=\"dataframe\">\n",
       "  <thead>\n",
       "    <tr style=\"text-align: right;\">\n",
       "      <th></th>\n",
       "      <th>feature</th>\n",
       "      <th>high_p</th>\n",
       "      <th>low_p</th>\n",
       "      <th>pay_diff</th>\n",
       "    </tr>\n",
       "  </thead>\n",
       "  <tbody>\n",
       "    <tr>\n",
       "      <th>577</th>\n",
       "      <td>data report</td>\n",
       "      <td>0.675000</td>\n",
       "      <td>0.098901</td>\n",
       "      <td>0.576099</td>\n",
       "    </tr>\n",
       "    <tr>\n",
       "      <th>1299</th>\n",
       "      <td>location united state</td>\n",
       "      <td>0.678947</td>\n",
       "      <td>0.119505</td>\n",
       "      <td>0.559442</td>\n",
       "    </tr>\n",
       "    <tr>\n",
       "      <th>436</th>\n",
       "      <td>complex project</td>\n",
       "      <td>0.586842</td>\n",
       "      <td>0.163462</td>\n",
       "      <td>0.423381</td>\n",
       "    </tr>\n",
       "    <tr>\n",
       "      <th>569</th>\n",
       "      <td>data pipeline</td>\n",
       "      <td>0.476316</td>\n",
       "      <td>0.078297</td>\n",
       "      <td>0.398019</td>\n",
       "    </tr>\n",
       "    <tr>\n",
       "      <th>233</th>\n",
       "      <td>basis race</td>\n",
       "      <td>0.364474</td>\n",
       "      <td>0.048077</td>\n",
       "      <td>0.316397</td>\n",
       "    </tr>\n",
       "    <tr>\n",
       "      <th>549</th>\n",
       "      <td>data including</td>\n",
       "      <td>0.290789</td>\n",
       "      <td>0.074176</td>\n",
       "      <td>0.216614</td>\n",
       "    </tr>\n",
       "    <tr>\n",
       "      <th>1773</th>\n",
       "      <td>race gender</td>\n",
       "      <td>0.234211</td>\n",
       "      <td>0.038462</td>\n",
       "      <td>0.195749</td>\n",
       "    </tr>\n",
       "    <tr>\n",
       "      <th>885</th>\n",
       "      <td>experience applying</td>\n",
       "      <td>0.246053</td>\n",
       "      <td>0.059066</td>\n",
       "      <td>0.186987</td>\n",
       "    </tr>\n",
       "    <tr>\n",
       "      <th>584</th>\n",
       "      <td>data science machine</td>\n",
       "      <td>0.278947</td>\n",
       "      <td>0.098901</td>\n",
       "      <td>0.180046</td>\n",
       "    </tr>\n",
       "    <tr>\n",
       "      <th>526</th>\n",
       "      <td>data asset</td>\n",
       "      <td>0.223684</td>\n",
       "      <td>0.043956</td>\n",
       "      <td>0.179728</td>\n",
       "    </tr>\n",
       "    <tr>\n",
       "      <th>515</th>\n",
       "      <td>data acquisition</td>\n",
       "      <td>0.226316</td>\n",
       "      <td>0.065934</td>\n",
       "      <td>0.160382</td>\n",
       "    </tr>\n",
       "    <tr>\n",
       "      <th>1236</th>\n",
       "      <td>large complex data</td>\n",
       "      <td>0.218421</td>\n",
       "      <td>0.059066</td>\n",
       "      <td>0.159355</td>\n",
       "    </tr>\n",
       "    <tr>\n",
       "      <th>618</th>\n",
       "      <td>database experience</td>\n",
       "      <td>0.178947</td>\n",
       "      <td>0.026099</td>\n",
       "      <td>0.152848</td>\n",
       "    </tr>\n",
       "    <tr>\n",
       "      <th>1682</th>\n",
       "      <td>project management skill</td>\n",
       "      <td>0.213158</td>\n",
       "      <td>0.070055</td>\n",
       "      <td>0.143103</td>\n",
       "    </tr>\n",
       "    <tr>\n",
       "      <th>291</th>\n",
       "      <td>business intelligence</td>\n",
       "      <td>0.163158</td>\n",
       "      <td>0.021978</td>\n",
       "      <td>0.141180</td>\n",
       "    </tr>\n",
       "    <tr>\n",
       "      <th>940</th>\n",
       "      <td>experience related</td>\n",
       "      <td>0.286842</td>\n",
       "      <td>0.159341</td>\n",
       "      <td>0.127501</td>\n",
       "    </tr>\n",
       "    <tr>\n",
       "      <th>55</th>\n",
       "      <td>additional qualification</td>\n",
       "      <td>0.139474</td>\n",
       "      <td>0.013736</td>\n",
       "      <td>0.125737</td>\n",
       "    </tr>\n",
       "    <tr>\n",
       "      <th>1270</th>\n",
       "      <td>learning natural</td>\n",
       "      <td>0.134211</td>\n",
       "      <td>0.009615</td>\n",
       "      <td>0.124595</td>\n",
       "    </tr>\n",
       "    <tr>\n",
       "      <th>586</th>\n",
       "      <td>data science solution</td>\n",
       "      <td>0.176316</td>\n",
       "      <td>0.056319</td>\n",
       "      <td>0.119997</td>\n",
       "    </tr>\n",
       "    <tr>\n",
       "      <th>821</th>\n",
       "      <td>engineering physic</td>\n",
       "      <td>0.122368</td>\n",
       "      <td>0.005495</td>\n",
       "      <td>0.116874</td>\n",
       "    </tr>\n",
       "  </tbody>\n",
       "</table>\n",
       "</div>"
      ],
      "text/plain": [
       "                       feature    high_p     low_p  pay_diff\n",
       "577                data report  0.675000  0.098901  0.576099\n",
       "1299     location united state  0.678947  0.119505  0.559442\n",
       "436            complex project  0.586842  0.163462  0.423381\n",
       "569              data pipeline  0.476316  0.078297  0.398019\n",
       "233                 basis race  0.364474  0.048077  0.316397\n",
       "549             data including  0.290789  0.074176  0.216614\n",
       "1773               race gender  0.234211  0.038462  0.195749\n",
       "885        experience applying  0.246053  0.059066  0.186987\n",
       "584       data science machine  0.278947  0.098901  0.180046\n",
       "526                 data asset  0.223684  0.043956  0.179728\n",
       "515           data acquisition  0.226316  0.065934  0.160382\n",
       "1236        large complex data  0.218421  0.059066  0.159355\n",
       "618        database experience  0.178947  0.026099  0.152848\n",
       "1682  project management skill  0.213158  0.070055  0.143103\n",
       "291      business intelligence  0.163158  0.021978  0.141180\n",
       "940         experience related  0.286842  0.159341  0.127501\n",
       "55    additional qualification  0.139474  0.013736  0.125737\n",
       "1270          learning natural  0.134211  0.009615  0.124595\n",
       "586      data science solution  0.176316  0.056319  0.119997\n",
       "821         engineering physic  0.122368  0.005495  0.116874"
      ]
     },
     "execution_count": 39,
     "metadata": {},
     "output_type": "execute_result"
    }
   ],
   "source": [
    "feat_probs = pd.DataFrame({'high_p':high_p, 'low_p':low_p, 'feature':words_summary.columns.values})\n",
    "\n",
    "feat_probs['pay_diff'] = feat_probs.high_p - feat_probs.low_p\n",
    "\n",
    "feat_probs.sort_values('pay_diff', ascending=False, inplace=True)\n",
    "feat_probs.head(20)"
   ]
  },
  {
   "cell_type": "code",
   "execution_count": 40,
   "metadata": {},
   "outputs": [
    {
     "data": {
      "text/html": [
       "<div>\n",
       "<style>\n",
       "    .dataframe thead tr:only-child th {\n",
       "        text-align: right;\n",
       "    }\n",
       "\n",
       "    .dataframe thead th {\n",
       "        text-align: left;\n",
       "    }\n",
       "\n",
       "    .dataframe tbody tr th {\n",
       "        vertical-align: top;\n",
       "    }\n",
       "</style>\n",
       "<table border=\"1\" class=\"dataframe\">\n",
       "  <thead>\n",
       "    <tr style=\"text-align: right;\">\n",
       "      <th></th>\n",
       "      <th>feature</th>\n",
       "      <th>high_p</th>\n",
       "      <th>low_p</th>\n",
       "      <th>pay_diff</th>\n",
       "    </tr>\n",
       "  </thead>\n",
       "  <tbody>\n",
       "    <tr>\n",
       "      <th>27</th>\n",
       "      <td>ability required</td>\n",
       "      <td>0.147368</td>\n",
       "      <td>0.317308</td>\n",
       "      <td>-0.169939</td>\n",
       "    </tr>\n",
       "    <tr>\n",
       "      <th>1869</th>\n",
       "      <td>research center</td>\n",
       "      <td>0.014474</td>\n",
       "      <td>0.182692</td>\n",
       "      <td>-0.168219</td>\n",
       "    </tr>\n",
       "    <tr>\n",
       "      <th>208</th>\n",
       "      <td>b computer</td>\n",
       "      <td>0.207895</td>\n",
       "      <td>0.346154</td>\n",
       "      <td>-0.138259</td>\n",
       "    </tr>\n",
       "    <tr>\n",
       "      <th>2027</th>\n",
       "      <td>skill demonstrated</td>\n",
       "      <td>0.171053</td>\n",
       "      <td>0.307692</td>\n",
       "      <td>-0.136640</td>\n",
       "    </tr>\n",
       "    <tr>\n",
       "      <th>1891</th>\n",
       "      <td>research statistic</td>\n",
       "      <td>0.031579</td>\n",
       "      <td>0.148352</td>\n",
       "      <td>-0.116773</td>\n",
       "    </tr>\n",
       "    <tr>\n",
       "      <th>1810</th>\n",
       "      <td>related technical</td>\n",
       "      <td>0.190789</td>\n",
       "      <td>0.304945</td>\n",
       "      <td>-0.114156</td>\n",
       "    </tr>\n",
       "    <tr>\n",
       "      <th>758</th>\n",
       "      <td>e g r</td>\n",
       "      <td>0.046053</td>\n",
       "      <td>0.157967</td>\n",
       "      <td>-0.111914</td>\n",
       "    </tr>\n",
       "    <tr>\n",
       "      <th>744</th>\n",
       "      <td>driven insight</td>\n",
       "      <td>0.011842</td>\n",
       "      <td>0.112637</td>\n",
       "      <td>-0.100795</td>\n",
       "    </tr>\n",
       "    <tr>\n",
       "      <th>2423</th>\n",
       "      <td>work experience year</td>\n",
       "      <td>0.063158</td>\n",
       "      <td>0.157967</td>\n",
       "      <td>-0.094809</td>\n",
       "    </tr>\n",
       "    <tr>\n",
       "      <th>474</th>\n",
       "      <td>consulting engineering</td>\n",
       "      <td>0.014474</td>\n",
       "      <td>0.108516</td>\n",
       "      <td>-0.094043</td>\n",
       "    </tr>\n",
       "    <tr>\n",
       "      <th>1386</th>\n",
       "      <td>microsoft excel</td>\n",
       "      <td>0.015789</td>\n",
       "      <td>0.107143</td>\n",
       "      <td>-0.091353</td>\n",
       "    </tr>\n",
       "    <tr>\n",
       "      <th>1216</th>\n",
       "      <td>knowledge data</td>\n",
       "      <td>0.040789</td>\n",
       "      <td>0.131868</td>\n",
       "      <td>-0.091079</td>\n",
       "    </tr>\n",
       "    <tr>\n",
       "      <th>2202</th>\n",
       "      <td>subject security</td>\n",
       "      <td>0.064474</td>\n",
       "      <td>0.155220</td>\n",
       "      <td>-0.090746</td>\n",
       "    </tr>\n",
       "    <tr>\n",
       "      <th>61</th>\n",
       "      <td>advanced degree</td>\n",
       "      <td>0.077632</td>\n",
       "      <td>0.167582</td>\n",
       "      <td>-0.089951</td>\n",
       "    </tr>\n",
       "    <tr>\n",
       "      <th>1217</th>\n",
       "      <td>knowledge experience</td>\n",
       "      <td>0.014474</td>\n",
       "      <td>0.104396</td>\n",
       "      <td>-0.089922</td>\n",
       "    </tr>\n",
       "    <tr>\n",
       "      <th>1845</th>\n",
       "      <td>required qualification</td>\n",
       "      <td>0.031579</td>\n",
       "      <td>0.118132</td>\n",
       "      <td>-0.086553</td>\n",
       "    </tr>\n",
       "    <tr>\n",
       "      <th>399</th>\n",
       "      <td>communication interpersonal</td>\n",
       "      <td>0.351316</td>\n",
       "      <td>0.428571</td>\n",
       "      <td>-0.077256</td>\n",
       "    </tr>\n",
       "    <tr>\n",
       "      <th>847</th>\n",
       "      <td>equivalent combination</td>\n",
       "      <td>0.017105</td>\n",
       "      <td>0.093407</td>\n",
       "      <td>-0.076301</td>\n",
       "    </tr>\n",
       "    <tr>\n",
       "      <th>1513</th>\n",
       "      <td>orientation age</td>\n",
       "      <td>0.027632</td>\n",
       "      <td>0.103022</td>\n",
       "      <td>-0.075390</td>\n",
       "    </tr>\n",
       "    <tr>\n",
       "      <th>29</th>\n",
       "      <td>ability use</td>\n",
       "      <td>0.036842</td>\n",
       "      <td>0.108516</td>\n",
       "      <td>-0.071674</td>\n",
       "    </tr>\n",
       "  </tbody>\n",
       "</table>\n",
       "</div>"
      ],
      "text/plain": [
       "                          feature    high_p     low_p  pay_diff\n",
       "27               ability required  0.147368  0.317308 -0.169939\n",
       "1869              research center  0.014474  0.182692 -0.168219\n",
       "208                    b computer  0.207895  0.346154 -0.138259\n",
       "2027           skill demonstrated  0.171053  0.307692 -0.136640\n",
       "1891           research statistic  0.031579  0.148352 -0.116773\n",
       "1810            related technical  0.190789  0.304945 -0.114156\n",
       "758                         e g r  0.046053  0.157967 -0.111914\n",
       "744                driven insight  0.011842  0.112637 -0.100795\n",
       "2423         work experience year  0.063158  0.157967 -0.094809\n",
       "474        consulting engineering  0.014474  0.108516 -0.094043\n",
       "1386              microsoft excel  0.015789  0.107143 -0.091353\n",
       "1216               knowledge data  0.040789  0.131868 -0.091079\n",
       "2202             subject security  0.064474  0.155220 -0.090746\n",
       "61                advanced degree  0.077632  0.167582 -0.089951\n",
       "1217         knowledge experience  0.014474  0.104396 -0.089922\n",
       "1845       required qualification  0.031579  0.118132 -0.086553\n",
       "399   communication interpersonal  0.351316  0.428571 -0.077256\n",
       "847        equivalent combination  0.017105  0.093407 -0.076301\n",
       "1513              orientation age  0.027632  0.103022 -0.075390\n",
       "29                    ability use  0.036842  0.108516 -0.071674"
      ]
     },
     "execution_count": 40,
     "metadata": {},
     "output_type": "execute_result"
    }
   ],
   "source": [
    "feat_probs.sort_values('pay_diff', ascending=True, inplace=True)\n",
    "feat_probs.head(20)"
   ]
  },
  {
   "cell_type": "markdown",
   "metadata": {},
   "source": [
    "#### Roc - Auc Curve summaries"
   ]
  },
  {
   "cell_type": "code",
   "execution_count": 41,
   "metadata": {
    "collapsed": true
   },
   "outputs": [],
   "source": [
    "from sklearn.metrics import roc_curve, auc\n",
    "from sklearn.model_selection import train_test_split\n",
    "from scipy import interp"
   ]
  },
  {
   "cell_type": "code",
   "execution_count": 42,
   "metadata": {
    "collapsed": true
   },
   "outputs": [],
   "source": [
    "etat = grid_obj.predict(Xtest_summary)\n",
    "etat_pp = grid_obj.predict_proba(Xtest_summary)"
   ]
  },
  {
   "cell_type": "code",
   "execution_count": 43,
   "metadata": {},
   "outputs": [
    {
     "data": {
      "image/png": "[encoded data removed]",
      "text/plain": [
       "<matplotlib.figure.Figure at 0x25adbdb2d68>"
      ]
     },
     "metadata": {
      "image/png": {
       "height": 502,
       "width": 563
      }
     },
     "output_type": "display_data"
    }
   ],
   "source": [
    "fpr, tpr, _ = roc_curve(ytest_summary, etat_pp[:,1])\n",
    "roc_auc = auc(fpr, tpr)\n",
    "\n",
    "plt.figure(figsize=[8,8])\n",
    "plt.plot(fpr, tpr, label='ROC curve (area = %0.2f)' % roc_auc, linewidth=4)\n",
    "plt.plot([0, 1], [0, 1], 'k--', linewidth=4)\n",
    "plt.xlim([-0.05, 1.0])\n",
    "plt.ylim([-0.05, 1.05])\n",
    "plt.xlabel('False Positive Rate', fontsize=18)\n",
    "plt.ylabel('True Positive Rate', fontsize=18)\n",
    "plt.title('ROC curve Titles', fontsize=18)\n",
    "plt.legend(loc=\"lower right\")\n",
    "plt.show()"
   ]
  },
  {
   "cell_type": "markdown",
   "metadata": {},
   "source": [
    "### N-grams that provide a high pay from Job Summary"
   ]
  },
  {
   "cell_type": "code",
   "execution_count": 44,
   "metadata": {
    "collapsed": true
   },
   "outputs": [],
   "source": [
    "high_pay = data_scientist_global[data_scientist_global.pay == 1][\"summary\"]\n",
    "\n",
    "cv = CountVectorizer(ngram_range=(2,3),\n",
    "                     max_features=2500,\n",
    "                     stop_words='english',\n",
    "                     tokenizer=LemmaTokenizer(),\n",
    "                     binary = True)\n",
    "\n",
    "words_summary = cv.fit_transform(high_pay)\n",
    "words_summary = pd.DataFrame(words_summary.todense(), columns=cv.get_feature_names())"
   ]
  },
  {
   "cell_type": "code",
   "execution_count": 45,
   "metadata": {
    "collapsed": true
   },
   "outputs": [],
   "source": [
    "X_train = pd.DataFrame(cv.transform(high_pay).todense(),\n",
    "                      columns = cv.get_feature_names())"
   ]
  },
  {
   "cell_type": "code",
   "execution_count": 46,
   "metadata": {},
   "outputs": [
    {
     "data": {
      "text/plain": [
       "data scientist                677\n",
       "machine learning              660\n",
       "computer science              585\n",
       "data science                  471\n",
       "year experience               416\n",
       "big data                      359\n",
       "communication skill           352\n",
       "equal opportunity             292\n",
       "e g                           290\n",
       "data analysis                 284\n",
       "data mining                   280\n",
       "data set                      276\n",
       "sexual orientation            264\n",
       "opportunity employer          260\n",
       "experience working            260\n",
       "national origin               256\n",
       "veteran status                251\n",
       "experience data               241\n",
       "equal opportunity employer    238\n",
       "gender identity               223\n",
       "dtype: int64"
      ]
     },
     "execution_count": 46,
     "metadata": {},
     "output_type": "execute_result"
    }
   ],
   "source": [
    "words_counts = X_train.sum(axis=0)\n",
    "words_counts.sort_values(ascending = False).head(20)"
   ]
  },
  {
   "cell_type": "code",
   "execution_count": 47,
   "metadata": {
    "collapsed": true
   },
   "outputs": [],
   "source": [
    "low_pay = data_scientist_global[data_scientist_global.pay == 0][\"summary\"]\n",
    "\n",
    "cv = CountVectorizer(ngram_range=(2,3),\n",
    "                     max_features=2500,\n",
    "                     stop_words='english',\n",
    "                     tokenizer=LemmaTokenizer())\n",
    "\n",
    "words = cv.fit_transform(low_pay)\n",
    "words = pd.DataFrame(words.todense(), columns=cv.get_feature_names())"
   ]
  },
  {
   "cell_type": "code",
   "execution_count": 48,
   "metadata": {
    "collapsed": true
   },
   "outputs": [],
   "source": [
    "X_train = pd.DataFrame(cv.transform(low_pay).todense(),\n",
    "                      columns = cv.get_feature_names())"
   ]
  },
  {
   "cell_type": "code",
   "execution_count": 49,
   "metadata": {},
   "outputs": [
    {
     "data": {
      "text/plain": [
       "data analysis           478\n",
       "communication skill     442\n",
       "skill ability           420\n",
       "year experience         416\n",
       "bachelor degree         404\n",
       "ability work            397\n",
       "equal opportunity       351\n",
       "related field           342\n",
       "research analyst        300\n",
       "sexual orientation      291\n",
       "master degree           288\n",
       "national origin         285\n",
       "e g                     281\n",
       "machine learning        262\n",
       "gender identity         255\n",
       "race color              239\n",
       "veteran status          238\n",
       "statistical analysis    232\n",
       "computer science        229\n",
       "problem solving         218\n",
       "dtype: int64"
      ]
     },
     "execution_count": 49,
     "metadata": {},
     "output_type": "execute_result"
    }
   ],
   "source": [
    "words_counts = X_train.sum(axis=0)\n",
    "words_counts.sort_values(ascending = False).head(20)"
   ]
  },
  {
   "cell_type": "markdown",
   "metadata": {},
   "source": [
    "### N-grams that provide a high pay from Job Title"
   ]
  },
  {
   "cell_type": "code",
   "execution_count": 50,
   "metadata": {
    "collapsed": true
   },
   "outputs": [],
   "source": [
    "high_pay_title = data_scientist_global[data_scientist_global.pay == 1][\"title\"]\n",
    "\n",
    "cv = CountVectorizer(ngram_range=(2,3),\n",
    "                     max_features=2500,\n",
    "                     stop_words='english',\n",
    "                     tokenizer=LemmaTokenizer())\n",
    "\n",
    "words = cv.fit_transform(high_pay_title)\n",
    "words = pd.DataFrame(words.todense(), columns=cv.get_feature_names())"
   ]
  },
  {
   "cell_type": "code",
   "execution_count": 51,
   "metadata": {
    "collapsed": true
   },
   "outputs": [],
   "source": [
    "X_train = pd.DataFrame(cv.transform(high_pay_title).todense(),\n",
    "                      columns = cv.get_feature_names())"
   ]
  },
  {
   "cell_type": "code",
   "execution_count": 60,
   "metadata": {},
   "outputs": [
    {
     "data": {
      "text/plain": [
       "data scientist                602\n",
       "senior data                   103\n",
       "senior data scientist          94\n",
       "data science                   77\n",
       "machine learning               76\n",
       "data engineer                  52\n",
       "sr data                        44\n",
       "sr data scientist              38\n",
       "principal data                 37\n",
       "research scientist             33\n",
       "principal data scientist       32\n",
       "scientist machine              26\n",
       "lead data                      25\n",
       "scientist machine learning     25\n",
       "quantitative analyst           23\n",
       "lead data scientist            23\n",
       "data scientist machine         22\n",
       "software engineer              19\n",
       "research analyst               19\n",
       "big data                       17\n",
       "dtype: int64"
      ]
     },
     "execution_count": 60,
     "metadata": {},
     "output_type": "execute_result"
    }
   ],
   "source": [
    "words_counts = X_train.sum(axis=0)\n",
    "words_counts.sort_values(ascending = False).head(20)"
   ]
  },
  {
   "cell_type": "markdown",
   "metadata": {},
   "source": [
    "## Finding relevant skills"
   ]
  },
  {
   "cell_type": "code",
   "execution_count": 53,
   "metadata": {
    "collapsed": true
   },
   "outputs": [],
   "source": [
    "cv_summary = CountVectorizer(ngram_range=(1,2),\n",
    "                     max_features=2500,\n",
    "                     stop_words='english',\n",
    "                     tokenizer=LemmaTokenizer(),\n",
    "                     binary = True)\n",
    "\n",
    "words_summary = cv_summary.fit_transform(data_scientist_global.summary)\n",
    "words_summary = pd.DataFrame(words_summary.todense(), columns=cv_summary.get_feature_names())"
   ]
  },
  {
   "cell_type": "code",
   "execution_count": 54,
   "metadata": {
    "scrolled": true
   },
   "outputs": [
    {
     "name": "stdout",
     "output_type": "stream",
     "text": [
      "python appears in 0.46% of documents!\n",
      "hadoop appears in 0.21% of documents!\n",
      "r appears in 0.45% of documents!\n",
      "big data appears in 0.21% of documents!\n",
      "sql appears in 0.31% of documents!\n",
      "nlp appears in 0.05% of documents!\n",
      "excel appears in 0.18% of documents!\n",
      "deep learning appears in 0.10% of documents!\n"
     ]
    }
   ],
   "source": [
    "skills_list = [\"python\", \"hadoop\", \"r\", \"big data\", \"sql\", \"nlp\", \"excel\", \"deep learning\"]\n",
    "skill_freq = {}\n",
    "\n",
    "for i in skills_list:\n",
    "    print(\"{} appears in {:.2f}% of documents!\".format(i, words_summary[i].sum()/len(words_summary)))\n",
    "    skill_freq[i] = str(round(words_summary[i].sum()/len(words_summary),4)) + \"%\""
   ]
  },
  {
   "cell_type": "code",
   "execution_count": 55,
   "metadata": {
    "collapsed": true
   },
   "outputs": [],
   "source": [
    "skill_freq = pd.DataFrame.from_dict(skill_freq, orient='index')"
   ]
  },
  {
   "cell_type": "code",
   "execution_count": 56,
   "metadata": {},
   "outputs": [
    {
     "data": {
      "text/html": [
       "<div>\n",
       "<style>\n",
       "    .dataframe thead tr:only-child th {\n",
       "        text-align: right;\n",
       "    }\n",
       "\n",
       "    .dataframe thead th {\n",
       "        text-align: left;\n",
       "    }\n",
       "\n",
       "    .dataframe tbody tr th {\n",
       "        vertical-align: top;\n",
       "    }\n",
       "</style>\n",
       "<table border=\"1\" class=\"dataframe\">\n",
       "  <thead>\n",
       "    <tr style=\"text-align: right;\">\n",
       "      <th></th>\n",
       "      <th>frequency</th>\n",
       "    </tr>\n",
       "  </thead>\n",
       "  <tbody>\n",
       "    <tr>\n",
       "      <th>python</th>\n",
       "      <td>0.4598%</td>\n",
       "    </tr>\n",
       "    <tr>\n",
       "      <th>r</th>\n",
       "      <td>0.4533%</td>\n",
       "    </tr>\n",
       "    <tr>\n",
       "      <th>sql</th>\n",
       "      <td>0.3108%</td>\n",
       "    </tr>\n",
       "    <tr>\n",
       "      <th>big data</th>\n",
       "      <td>0.2067%</td>\n",
       "    </tr>\n",
       "    <tr>\n",
       "      <th>hadoop</th>\n",
       "      <td>0.2052%</td>\n",
       "    </tr>\n",
       "    <tr>\n",
       "      <th>excel</th>\n",
       "      <td>0.1774%</td>\n",
       "    </tr>\n",
       "    <tr>\n",
       "      <th>deep learning</th>\n",
       "      <td>0.0995%</td>\n",
       "    </tr>\n",
       "    <tr>\n",
       "      <th>nlp</th>\n",
       "      <td>0.0536%</td>\n",
       "    </tr>\n",
       "  </tbody>\n",
       "</table>\n",
       "</div>"
      ],
      "text/plain": [
       "              frequency\n",
       "python          0.4598%\n",
       "r               0.4533%\n",
       "sql             0.3108%\n",
       "big data        0.2067%\n",
       "hadoop          0.2052%\n",
       "excel           0.1774%\n",
       "deep learning   0.0995%\n",
       "nlp             0.0536%"
      ]
     },
     "execution_count": 56,
     "metadata": {},
     "output_type": "execute_result"
    }
   ],
   "source": [
    "skill_freq.columns = [\"frequency\"]\n",
    "skill_freq.sort_values(by=\"frequency\", ascending=False)"
   ]
  },
  {
   "cell_type": "code",
   "execution_count": 57,
   "metadata": {
    "collapsed": true
   },
   "outputs": [],
   "source": [
    "high = data_scientist_global[data_scientist_global['pay'] == 1]\n",
    "low = data_scientist_global[data_scientist_global['pay'] == 0]"
   ]
  },
  {
   "cell_type": "code",
   "execution_count": 58,
   "metadata": {
    "scrolled": false
   },
   "outputs": [
    {
     "name": "stdout",
     "output_type": "stream",
     "text": [
      "python appears in 75.25% of documents!\n",
      "hadoop appears in 39.60% of documents!\n",
      "r appears in 62.22% of documents!\n",
      "big data appears in 36.26% of documents!\n",
      "sql appears in 46.67% of documents!\n",
      "nlp appears in 10.00% of documents!\n",
      "excel appears in 6.97% of documents!\n",
      "deep learning appears in 17.47% of documents!\n",
      "phd appears in 33.94% of documents!\n",
      "mongodb appears in 4.55% of documents!\n",
      "cassandra appears in 4.75% of documents!\n"
     ]
    },
    {
     "data": {
      "text/html": [
       "<div>\n",
       "<style>\n",
       "    .dataframe thead tr:only-child th {\n",
       "        text-align: right;\n",
       "    }\n",
       "\n",
       "    .dataframe thead th {\n",
       "        text-align: left;\n",
       "    }\n",
       "\n",
       "    .dataframe tbody tr th {\n",
       "        vertical-align: top;\n",
       "    }\n",
       "</style>\n",
       "<table border=\"1\" class=\"dataframe\">\n",
       "  <thead>\n",
       "    <tr style=\"text-align: right;\">\n",
       "      <th></th>\n",
       "      <th>frequency</th>\n",
       "    </tr>\n",
       "  </thead>\n",
       "  <tbody>\n",
       "    <tr>\n",
       "      <th>python</th>\n",
       "      <td>75.2525%</td>\n",
       "    </tr>\n",
       "    <tr>\n",
       "      <th>r</th>\n",
       "      <td>62.2222%</td>\n",
       "    </tr>\n",
       "    <tr>\n",
       "      <th>excel</th>\n",
       "      <td>6.9697%</td>\n",
       "    </tr>\n",
       "    <tr>\n",
       "      <th>sql</th>\n",
       "      <td>46.6667%</td>\n",
       "    </tr>\n",
       "    <tr>\n",
       "      <th>cassandra</th>\n",
       "      <td>4.7475%</td>\n",
       "    </tr>\n",
       "    <tr>\n",
       "      <th>mongodb</th>\n",
       "      <td>4.5455%</td>\n",
       "    </tr>\n",
       "    <tr>\n",
       "      <th>hadoop</th>\n",
       "      <td>39.596%</td>\n",
       "    </tr>\n",
       "    <tr>\n",
       "      <th>big data</th>\n",
       "      <td>36.2626%</td>\n",
       "    </tr>\n",
       "    <tr>\n",
       "      <th>phd</th>\n",
       "      <td>33.9394%</td>\n",
       "    </tr>\n",
       "    <tr>\n",
       "      <th>deep learning</th>\n",
       "      <td>17.4747%</td>\n",
       "    </tr>\n",
       "    <tr>\n",
       "      <th>nlp</th>\n",
       "      <td>10.0%</td>\n",
       "    </tr>\n",
       "  </tbody>\n",
       "</table>\n",
       "</div>"
      ],
      "text/plain": [
       "              frequency\n",
       "python         75.2525%\n",
       "r              62.2222%\n",
       "excel           6.9697%\n",
       "sql            46.6667%\n",
       "cassandra       4.7475%\n",
       "mongodb         4.5455%\n",
       "hadoop          39.596%\n",
       "big data       36.2626%\n",
       "phd            33.9394%\n",
       "deep learning  17.4747%\n",
       "nlp               10.0%"
      ]
     },
     "execution_count": 58,
     "metadata": {},
     "output_type": "execute_result"
    }
   ],
   "source": [
    "words_summary_high = cv_summary.fit_transform(high.summary)\n",
    "words_summary_high = pd.DataFrame(words_summary_high.todense(), columns=cv_summary.get_feature_names())\n",
    "\n",
    "\n",
    "skills_list = [\"python\", \"hadoop\", \"r\", \"big data\", \"sql\", \"nlp\", \"excel\", \"deep learning\", \"phd\", \"mongodb\",\n",
    "              \"cassandra\"]\n",
    "skill_freq = {}\n",
    "\n",
    "for i in skills_list:\n",
    "    print(\"{} appears in {:.2f}% of documents!\".format(i, words_summary_high[i].sum()/len(words_summary_high)*100))\n",
    "    skill_freq[i] = str(round(words_summary_high[i].sum()/len(words_summary_high)*100,4)) + \"%\"\n",
    "    \n",
    "skill_freq = pd.DataFrame.from_dict(skill_freq, orient='index')\n",
    "skill_freq.columns = [\"frequency\"]\n",
    "skill_freq.sort_values(by=\"frequency\", ascending=False)"
   ]
  },
  {
   "cell_type": "code",
   "execution_count": 59,
   "metadata": {},
   "outputs": [
    {
     "name": "stdout",
     "output_type": "stream",
     "text": [
      "python appears in 0.17% of documents!\n",
      "hadoop appears in 0.00% of documents!\n",
      "r appears in 0.28% of documents!\n",
      "big data appears in 0.05% of documents!\n",
      "sql appears in 0.15% of documents!\n",
      "nlp appears in 0.00% of documents!\n",
      "excel appears in 0.29% of documents!\n",
      "deep learning appears in 0.02% of documents!\n",
      "phd appears in 0.16% of documents!\n",
      "mongodb appears in 0.00% of documents!\n",
      "cassandra appears in 0.00% of documents!\n"
     ]
    },
    {
     "data": {
      "text/html": [
       "<div>\n",
       "<style>\n",
       "    .dataframe thead tr:only-child th {\n",
       "        text-align: right;\n",
       "    }\n",
       "\n",
       "    .dataframe thead th {\n",
       "        text-align: left;\n",
       "    }\n",
       "\n",
       "    .dataframe tbody tr th {\n",
       "        vertical-align: top;\n",
       "    }\n",
       "</style>\n",
       "<table border=\"1\" class=\"dataframe\">\n",
       "  <thead>\n",
       "    <tr style=\"text-align: right;\">\n",
       "      <th></th>\n",
       "      <th>frequency</th>\n",
       "    </tr>\n",
       "  </thead>\n",
       "  <tbody>\n",
       "    <tr>\n",
       "      <th>excel</th>\n",
       "      <td>0.2851%</td>\n",
       "    </tr>\n",
       "    <tr>\n",
       "      <th>r</th>\n",
       "      <td>0.2841%</td>\n",
       "    </tr>\n",
       "    <tr>\n",
       "      <th>python</th>\n",
       "      <td>0.1668%</td>\n",
       "    </tr>\n",
       "    <tr>\n",
       "      <th>phd</th>\n",
       "      <td>0.1618%</td>\n",
       "    </tr>\n",
       "    <tr>\n",
       "      <th>sql</th>\n",
       "      <td>0.1547%</td>\n",
       "    </tr>\n",
       "    <tr>\n",
       "      <th>big data</th>\n",
       "      <td>0.0506%</td>\n",
       "    </tr>\n",
       "    <tr>\n",
       "      <th>deep learning</th>\n",
       "      <td>0.0243%</td>\n",
       "    </tr>\n",
       "    <tr>\n",
       "      <th>hadoop</th>\n",
       "      <td>0%</td>\n",
       "    </tr>\n",
       "    <tr>\n",
       "      <th>nlp</th>\n",
       "      <td>0%</td>\n",
       "    </tr>\n",
       "    <tr>\n",
       "      <th>mongodb</th>\n",
       "      <td>0%</td>\n",
       "    </tr>\n",
       "    <tr>\n",
       "      <th>cassandra</th>\n",
       "      <td>0%</td>\n",
       "    </tr>\n",
       "  </tbody>\n",
       "</table>\n",
       "</div>"
      ],
      "text/plain": [
       "              frequency\n",
       "excel           0.2851%\n",
       "r               0.2841%\n",
       "python          0.1668%\n",
       "phd             0.1618%\n",
       "sql             0.1547%\n",
       "big data        0.0506%\n",
       "deep learning   0.0243%\n",
       "hadoop               0%\n",
       "nlp                  0%\n",
       "mongodb              0%\n",
       "cassandra            0%"
      ]
     },
     "execution_count": 59,
     "metadata": {},
     "output_type": "execute_result"
    }
   ],
   "source": [
    "words_summary_low = cv_summary.fit_transform(low.summary)\n",
    "words_summary_low = pd.DataFrame(words_summary_low.todense(), columns=cv_summary.get_feature_names())\n",
    "\n",
    "skills_list = [\"python\", \"hadoop\", \"r\", \"big data\", \"sql\", \"nlp\", \"excel\", \"deep learning\", \"phd\", \"mongodb\",\n",
    "              \"cassandra\"]\n",
    "skill_freq = {}\n",
    "\n",
    "for i in skills_list:\n",
    "    try:\n",
    "        print(\"{} appears in {:.2f}% of documents!\".format(i, words_summary_low[i].sum()/len(words_summary_low)))\n",
    "        skill_freq[i] = str(round(words_summary_low[i].sum()/len(words_summary_low),4)) + \"%\"\n",
    "    except KeyError:\n",
    "        print(\"{} appears in {:.2f}% of documents!\".format(i, 0))\n",
    "        skill_freq[i] = \"0%\"\n",
    "    \n",
    "skill_freq = pd.DataFrame.from_dict(skill_freq, orient='index')\n",
    "skill_freq.columns = [\"frequency\"]\n",
    "skill_freq.sort_values(by=\"frequency\", ascending=False)"
   ]
  },
  {
   "cell_type": "markdown",
   "metadata": {},
   "source": [
    "### TODO:\n",
    "\n",
    "Confusion matrix\n",
    "\n",
    "Location"
   ]
  },
  {
   "cell_type": "code",
   "execution_count": null,
   "metadata": {
    "collapsed": true
   },
   "outputs": [],
   "source": []
  }
 ],
 "metadata": {
  "kernelspec": {
   "display_name": "Python 3",
   "language": "python",
   "name": "python3"
  },
  "language_info": {
   "codemirror_mode": {
    "name": "ipython",
    "version": 3
   },
   "file_extension": ".py",
   "mimetype": "text/x-python",
   "name": "python",
   "nbconvert_exporter": "python",
   "pygments_lexer": "ipython3",
   "version": "3.6.3"
  }
 },
 "nbformat": 4,
 "nbformat_minor": 2
}
