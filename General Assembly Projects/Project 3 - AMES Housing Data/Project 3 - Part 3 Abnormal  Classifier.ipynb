{
 "cells": [
  {
   "cell_type": "markdown",
   "metadata": {
    "collapsed": true
   },
   "source": [
    "<img src=\"http://imgur.com/GCAf1UX.png\" style=\"float: left; margin: 25px 15px 0px 0px; height: 25px\">\n",
    "\n",
    "## 3. What property characteristics predict an \"abnormal\" sale?\n",
    "\n",
    "---\n",
    "\n",
    "The `SaleCondition` feature indicates the circumstances of the house sale. From the data file, we can see that the possibilities are:\n",
    "\n",
    "       Normal\tNormal Sale\n",
    "       Abnorml\tAbnormal Sale -  trade, foreclosure, short sale\n",
    "       AdjLand\tAdjoining Land Purchase\n",
    "       Alloca\tAllocation - two linked properties with separate deeds, typically condo with a garage unit\t\n",
    "       Family\tSale between family members\n",
    "       Partial\tHome was not completed when last assessed (associated with New Homes)\n",
    "       \n",
    "One of the executives at your company has an \"in\" with higher-ups at the major regional bank. His friends at the bank have made him a proposal: if he can reliably indicate what features, if any, predict \"abnormal\" sales (foreclosures, short sales, etc.), then in return the bank will give him first dibs on the pre-auction purchase of those properties (at a dirt-cheap price).\n",
    "\n",
    "He has tasked you with determining (and adequately validating) which features of a property predict this type of sale. \n",
    "\n",
    "---\n",
    "\n",
    "**Your task:**\n",
    "1. Determine which features predict the `Abnorml` category in the `SaleCondition` feature.\n",
    "- Justify your results.\n",
    "\n",
    "This is a challenging task that tests your ability to perform classification analysis in the face of severe class imbalance. You may find that simply running a classifier on the full dataset to predict the category ends up useless: when there is bad class imbalance classifiers often tend to simply guess the majority class.\n",
    "\n",
    "It is up to you to determine how you will tackle this problem. I recommend doing some research to find out how others have dealt with the problem in the past. Make sure to justify your solution. Don't worry about it being \"the best\" solution, but be rigorous.\n",
    "\n",
    "Be sure to indicate which features are predictive (if any) and whether they are positive or negative predictors of abnormal sales."
   ]
  },
  {
   "cell_type": "code",
   "execution_count": 98,
   "metadata": {
    "collapsed": true
   },
   "outputs": [],
   "source": [
    "import numpy as np\n",
    "import scipy.stats as stats\n",
    "import seaborn as sns\n",
    "import matplotlib.pyplot as plt\n",
    "import statsmodels.formula.api as sm\n",
    "import pandas as pd\n",
    "import patsy\n",
    "\n",
    "import warnings\n",
    "def ignore_warn(*args, **kwargs):\n",
    "    pass\n",
    "warnings.warn = ignore_warn #ignore annoying warning (from sklearn and seaborn)\n",
    "\n",
    "plt.style.use('fivethirtyeight')\n",
    "\n",
    "%config InlineBackend.figure_format = 'retina'\n",
    "%matplotlib inline\n",
    "%run helper.py"
   ]
  },
  {
   "cell_type": "markdown",
   "metadata": {},
   "source": [
    "---\n",
    "\n",
    "Lets start by importing the variables of interest from our other projects.\n",
    "\n",
    "---"
   ]
  },
  {
   "cell_type": "code",
   "execution_count": 99,
   "metadata": {
    "collapsed": true
   },
   "outputs": [],
   "source": [
    "#Takes the variables of interest from Project 3 - Part 1\n",
    "%store -r house"
   ]
  },
  {
   "cell_type": "code",
   "execution_count": 100,
   "metadata": {},
   "outputs": [
    {
     "data": {
      "text/html": [
       "<div>\n",
       "<style>\n",
       "    .dataframe thead tr:only-child th {\n",
       "        text-align: right;\n",
       "    }\n",
       "\n",
       "    .dataframe thead th {\n",
       "        text-align: left;\n",
       "    }\n",
       "\n",
       "    .dataframe tbody tr th {\n",
       "        vertical-align: top;\n",
       "    }\n",
       "</style>\n",
       "<table border=\"1\" class=\"dataframe\">\n",
       "  <thead>\n",
       "    <tr style=\"text-align: right;\">\n",
       "      <th></th>\n",
       "      <th>MSSubClass</th>\n",
       "      <th>MSZoning</th>\n",
       "      <th>LotFrontage</th>\n",
       "      <th>LotArea</th>\n",
       "      <th>Street</th>\n",
       "      <th>Alley</th>\n",
       "      <th>LotShape</th>\n",
       "      <th>LandContour</th>\n",
       "      <th>Utilities</th>\n",
       "      <th>LotConfig</th>\n",
       "      <th>...</th>\n",
       "      <th>SaleType</th>\n",
       "      <th>SaleCondition</th>\n",
       "      <th>SalePrice</th>\n",
       "      <th>Age</th>\n",
       "      <th>Remod_Age</th>\n",
       "      <th>Total_SF</th>\n",
       "      <th>LogSalePrice</th>\n",
       "      <th>NeighborhoodPrice</th>\n",
       "      <th>Abnormal</th>\n",
       "      <th>Sale_Age</th>\n",
       "    </tr>\n",
       "    <tr>\n",
       "      <th>Id</th>\n",
       "      <th></th>\n",
       "      <th></th>\n",
       "      <th></th>\n",
       "      <th></th>\n",
       "      <th></th>\n",
       "      <th></th>\n",
       "      <th></th>\n",
       "      <th></th>\n",
       "      <th></th>\n",
       "      <th></th>\n",
       "      <th></th>\n",
       "      <th></th>\n",
       "      <th></th>\n",
       "      <th></th>\n",
       "      <th></th>\n",
       "      <th></th>\n",
       "      <th></th>\n",
       "      <th></th>\n",
       "      <th></th>\n",
       "      <th></th>\n",
       "      <th></th>\n",
       "    </tr>\n",
       "  </thead>\n",
       "  <tbody>\n",
       "    <tr>\n",
       "      <th>1</th>\n",
       "      <td>60</td>\n",
       "      <td>RL</td>\n",
       "      <td>65.0</td>\n",
       "      <td>8450</td>\n",
       "      <td>Pave</td>\n",
       "      <td>None</td>\n",
       "      <td>Reg</td>\n",
       "      <td>Lvl</td>\n",
       "      <td>AllPub</td>\n",
       "      <td>Inside</td>\n",
       "      <td>...</td>\n",
       "      <td>WD</td>\n",
       "      <td>Normal</td>\n",
       "      <td>208500</td>\n",
       "      <td>7</td>\n",
       "      <td>7</td>\n",
       "      <td>2566</td>\n",
       "      <td>12.247694</td>\n",
       "      <td>197200</td>\n",
       "      <td>0</td>\n",
       "      <td>2</td>\n",
       "    </tr>\n",
       "    <tr>\n",
       "      <th>2</th>\n",
       "      <td>20</td>\n",
       "      <td>RL</td>\n",
       "      <td>80.0</td>\n",
       "      <td>9600</td>\n",
       "      <td>Pave</td>\n",
       "      <td>None</td>\n",
       "      <td>Reg</td>\n",
       "      <td>Lvl</td>\n",
       "      <td>AllPub</td>\n",
       "      <td>FR2</td>\n",
       "      <td>...</td>\n",
       "      <td>WD</td>\n",
       "      <td>Normal</td>\n",
       "      <td>181500</td>\n",
       "      <td>34</td>\n",
       "      <td>34</td>\n",
       "      <td>2524</td>\n",
       "      <td>12.109011</td>\n",
       "      <td>218000</td>\n",
       "      <td>0</td>\n",
       "      <td>3</td>\n",
       "    </tr>\n",
       "    <tr>\n",
       "      <th>3</th>\n",
       "      <td>60</td>\n",
       "      <td>RL</td>\n",
       "      <td>68.0</td>\n",
       "      <td>11250</td>\n",
       "      <td>Pave</td>\n",
       "      <td>None</td>\n",
       "      <td>IR1</td>\n",
       "      <td>Lvl</td>\n",
       "      <td>AllPub</td>\n",
       "      <td>Inside</td>\n",
       "      <td>...</td>\n",
       "      <td>WD</td>\n",
       "      <td>Normal</td>\n",
       "      <td>223500</td>\n",
       "      <td>9</td>\n",
       "      <td>8</td>\n",
       "      <td>2706</td>\n",
       "      <td>12.317167</td>\n",
       "      <td>197200</td>\n",
       "      <td>0</td>\n",
       "      <td>2</td>\n",
       "    </tr>\n",
       "  </tbody>\n",
       "</table>\n",
       "<p>3 rows × 87 columns</p>\n",
       "</div>"
      ],
      "text/plain": [
       "    MSSubClass MSZoning  LotFrontage  LotArea Street Alley LotShape  \\\n",
       "Id                                                                    \n",
       "1           60       RL         65.0     8450   Pave  None      Reg   \n",
       "2           20       RL         80.0     9600   Pave  None      Reg   \n",
       "3           60       RL         68.0    11250   Pave  None      IR1   \n",
       "\n",
       "   LandContour Utilities LotConfig    ...    SaleType SaleCondition SalePrice  \\\n",
       "Id                                    ...                                       \n",
       "1          Lvl    AllPub    Inside    ...          WD        Normal    208500   \n",
       "2          Lvl    AllPub       FR2    ...          WD        Normal    181500   \n",
       "3          Lvl    AllPub    Inside    ...          WD        Normal    223500   \n",
       "\n",
       "   Age Remod_Age Total_SF  LogSalePrice  NeighborhoodPrice  Abnormal  Sale_Age  \n",
       "Id                                                                              \n",
       "1    7         7     2566     12.247694             197200         0         2  \n",
       "2   34        34     2524     12.109011             218000         0         3  \n",
       "3    9         8     2706     12.317167             197200         0         2  \n",
       "\n",
       "[3 rows x 87 columns]"
      ]
     },
     "execution_count": 100,
     "metadata": {},
     "output_type": "execute_result"
    }
   ],
   "source": [
    "#Taking a look to ensure we have the correct dataset\n",
    "house.head(3)"
   ]
  },
  {
   "cell_type": "markdown",
   "metadata": {},
   "source": [
    "\n",
    "---\n",
    "\n",
    "**Baseline**\n",
    "\n",
    "For a classifier model, we must first look into the baseline for comparison.\n",
    "\n",
    "This is defined as the proportion of abnormal sales. In this case where the proportion is 6.58% there is a severe class imbalance. We're going to need to look into its relationship with various other variables.\n",
    "\n",
    "---\n"
   ]
  },
  {
   "cell_type": "code",
   "execution_count": 101,
   "metadata": {},
   "outputs": [
    {
     "name": "stdout",
     "output_type": "stream",
     "text": [
      "The baseline percent for abnormal houses is 93.416%\n"
     ]
    }
   ],
   "source": [
    "#Number of abnormals\n",
    "num_abnorm = (house[\"SaleCondition\"] == \"Abnorml\").sum()\n",
    "abnorm_perc = num_abnorm/len(house[\"SaleCondition\"])\n",
    "baseline = 100- abnorm_perc*100\n",
    "\n",
    "print(\"The baseline percent for abnormal houses is {:.3f}%\".format((baseline)))"
   ]
  },
  {
   "cell_type": "code",
   "execution_count": 102,
   "metadata": {
    "collapsed": true
   },
   "outputs": [],
   "source": [
    "#Creates a column determining if the house was abnormal for ease of evaluation: house[\"Abnormal]\n",
    "house[\"Abnormal\"] = house[\"SaleCondition\"].map(lambda x: 1 if x == \"Abnorml\" else 0);"
   ]
  },
  {
   "cell_type": "markdown",
   "metadata": {},
   "source": [
    "\n",
    "---\n",
    "\n",
    "**Abnormal vs Sales Price**\n",
    "\n",
    "Does the sales price have any significant influence on the sale being abnormal?\n",
    "\n",
    "---\n"
   ]
  },
  {
   "cell_type": "code",
   "execution_count": 103,
   "metadata": {
    "collapsed": true
   },
   "outputs": [],
   "source": [
    "#Finds the median house price for if it's abnormal vs not.\n",
    "abnorm_saleprice = house.groupby(\"Abnormal\")[\"SalePrice\"].median()"
   ]
  },
  {
   "cell_type": "code",
   "execution_count": 104,
   "metadata": {},
   "outputs": [
    {
     "data": {
      "image/png": "[encoded data removed]",
      "text/plain": [
       "<matplotlib.figure.Figure at 0xe419bd0>"
      ]
     },
     "metadata": {
      "image/png": {
       "height": 332,
       "width": 567
      }
     },
     "output_type": "display_data"
    }
   ],
   "source": [
    "#Plots Sale Price against Abnormalities\n",
    "fig, ax = plt.subplots(figsize = (8,5))\n",
    "\n",
    "sns.barplot(x='Abnormal', y='SalePrice', data=house, ax = ax)\n",
    "\n",
    "formatter = FuncFormatter(currency)\n",
    "ax.yaxis.set_major_formatter(formatter)\n",
    "\n",
    "ax.set_title(\"Countplot of Abnormal against Sale Price\")\n",
    "\n",
    "plt.show()"
   ]
  },
  {
   "cell_type": "code",
   "execution_count": 105,
   "metadata": {},
   "outputs": [
    {
     "name": "stdout",
     "output_type": "stream",
     "text": [
      "Optimization terminated successfully.\n",
      "         Current function value: 0.232305\n",
      "         Iterations 8\n"
     ]
    },
    {
     "data": {
      "text/html": [
       "<table class=\"simpletable\">\n",
       "<caption>Logit Regression Results</caption>\n",
       "<tr>\n",
       "  <th>Dep. Variable:</th>     <td>Abnormal</td>     <th>  No. Observations:  </th>  <td>  1443</td>  \n",
       "</tr>\n",
       "<tr>\n",
       "  <th>Model:</th>               <td>Logit</td>      <th>  Df Residuals:      </th>  <td>  1441</td>  \n",
       "</tr>\n",
       "<tr>\n",
       "  <th>Method:</th>               <td>MLE</td>       <th>  Df Model:          </th>  <td>     1</td>  \n",
       "</tr>\n",
       "<tr>\n",
       "  <th>Date:</th>          <td>Fri, 08 Dec 2017</td> <th>  Pseudo R-squ.:     </th>  <td>0.04295</td> \n",
       "</tr>\n",
       "<tr>\n",
       "  <th>Time:</th>              <td>11:21:35</td>     <th>  Log-Likelihood:    </th> <td> -335.22</td> \n",
       "</tr>\n",
       "<tr>\n",
       "  <th>converged:</th>           <td>True</td>       <th>  LL-Null:           </th> <td> -350.26</td> \n",
       "</tr>\n",
       "<tr>\n",
       "  <th> </th>                      <td> </td>        <th>  LLR p-value:       </th> <td>4.134e-08</td>\n",
       "</tr>\n",
       "</table>\n",
       "<table class=\"simpletable\">\n",
       "<tr>\n",
       "      <td></td>         <th>coef</th>     <th>std err</th>      <th>z</th>      <th>P>|z|</th>  <th>[0.025</th>    <th>0.975]</th>  \n",
       "</tr>\n",
       "<tr>\n",
       "  <th>Intercept</th> <td>   -0.9795</td> <td>    0.333</td> <td>   -2.944</td> <td> 0.003</td> <td>   -1.632</td> <td>   -0.327</td>\n",
       "</tr>\n",
       "<tr>\n",
       "  <th>SalePrice</th> <td>-1.041e-05</td> <td> 2.15e-06</td> <td>   -4.832</td> <td> 0.000</td> <td>-1.46e-05</td> <td>-6.19e-06</td>\n",
       "</tr>\n",
       "</table>"
      ],
      "text/plain": [
       "<class 'statsmodels.iolib.summary.Summary'>\n",
       "\"\"\"\n",
       "                           Logit Regression Results                           \n",
       "==============================================================================\n",
       "Dep. Variable:               Abnormal   No. Observations:                 1443\n",
       "Model:                          Logit   Df Residuals:                     1441\n",
       "Method:                           MLE   Df Model:                            1\n",
       "Date:                Fri, 08 Dec 2017   Pseudo R-squ.:                 0.04295\n",
       "Time:                        11:21:35   Log-Likelihood:                -335.22\n",
       "converged:                       True   LL-Null:                       -350.26\n",
       "                                        LLR p-value:                 4.134e-08\n",
       "==============================================================================\n",
       "                 coef    std err          z      P>|z|      [0.025      0.975]\n",
       "------------------------------------------------------------------------------\n",
       "Intercept     -0.9795      0.333     -2.944      0.003      -1.632      -0.327\n",
       "SalePrice  -1.041e-05   2.15e-06     -4.832      0.000   -1.46e-05   -6.19e-06\n",
       "==============================================================================\n",
       "\"\"\""
      ]
     },
     "execution_count": 105,
     "metadata": {},
     "output_type": "execute_result"
    }
   ],
   "source": [
    "#Testing the hypothesis\n",
    "news_model = sm.logit(\"Abnormal ~ SalePrice\", data=house).fit()\n",
    "news_model.summary()"
   ]
  },
  {
   "cell_type": "markdown",
   "metadata": {},
   "source": [
    "**Results**\n",
    "\n",
    "From the P-value, it appears that Saleprice has a significant affect on whether or not the sale was Abnormal. It seems that the SalePrice has a strong negative effect on abnormality.\n",
    "\n",
    "We will add this to our model to evaluate later.\n",
    "\n"
   ]
  },
  {
   "cell_type": "markdown",
   "metadata": {},
   "source": [
    "\n",
    "---\n",
    "\n",
    "**Abnormal vs NeighborhoodPrice**\n",
    "\n",
    "Does the neighborhood price have any significant influence on the sale being abnormal?\n",
    "\n",
    "---\n"
   ]
  },
  {
   "cell_type": "code",
   "execution_count": 129,
   "metadata": {
    "collapsed": true
   },
   "outputs": [],
   "source": [
    "# Finds the number of Abnormal Sales by neighborhood\n",
    "abnorm_neighborhoodprice = house.groupby(\"NeighborhoodPrice\")[\"Abnormal\"].count()"
   ]
  },
  {
   "cell_type": "code",
   "execution_count": 130,
   "metadata": {
    "scrolled": true
   },
   "outputs": [
    {
     "name": "stdout",
     "output_type": "stream",
     "text": [
      "Optimization terminated successfully.\n",
      "         Current function value: 0.238327\n",
      "         Iterations 7\n"
     ]
    },
    {
     "data": {
      "text/html": [
       "<table class=\"simpletable\">\n",
       "<caption>Logit Regression Results</caption>\n",
       "<tr>\n",
       "  <th>Dep. Variable:</th>     <td>Abnormal</td>     <th>  No. Observations:  </th>  <td>  1443</td>  \n",
       "</tr>\n",
       "<tr>\n",
       "  <th>Model:</th>               <td>Logit</td>      <th>  Df Residuals:      </th>  <td>  1441</td>  \n",
       "</tr>\n",
       "<tr>\n",
       "  <th>Method:</th>               <td>MLE</td>       <th>  Df Model:          </th>  <td>     1</td>  \n",
       "</tr>\n",
       "<tr>\n",
       "  <th>Date:</th>          <td>Fri, 08 Dec 2017</td> <th>  Pseudo R-squ.:     </th>  <td>0.01814</td> \n",
       "</tr>\n",
       "<tr>\n",
       "  <th>Time:</th>              <td>11:22:08</td>     <th>  Log-Likelihood:    </th> <td> -343.91</td> \n",
       "</tr>\n",
       "<tr>\n",
       "  <th>converged:</th>           <td>True</td>       <th>  LL-Null:           </th> <td> -350.26</td> \n",
       "</tr>\n",
       "<tr>\n",
       "  <th> </th>                      <td> </td>        <th>  LLR p-value:       </th> <td>0.0003642</td>\n",
       "</tr>\n",
       "</table>\n",
       "<table class=\"simpletable\">\n",
       "<tr>\n",
       "          <td></td>             <th>coef</th>     <th>std err</th>      <th>z</th>      <th>P>|z|</th>  <th>[0.025</th>    <th>0.975]</th>  \n",
       "</tr>\n",
       "<tr>\n",
       "  <th>Intercept</th>         <td>   -1.3315</td> <td>    0.395</td> <td>   -3.369</td> <td> 0.001</td> <td>   -2.106</td> <td>   -0.557</td>\n",
       "</tr>\n",
       "<tr>\n",
       "  <th>NeighborhoodPrice</th> <td>    -8e-06</td> <td> 2.42e-06</td> <td>   -3.303</td> <td> 0.001</td> <td>-1.27e-05</td> <td>-3.25e-06</td>\n",
       "</tr>\n",
       "</table>"
      ],
      "text/plain": [
       "<class 'statsmodels.iolib.summary.Summary'>\n",
       "\"\"\"\n",
       "                           Logit Regression Results                           \n",
       "==============================================================================\n",
       "Dep. Variable:               Abnormal   No. Observations:                 1443\n",
       "Model:                          Logit   Df Residuals:                     1441\n",
       "Method:                           MLE   Df Model:                            1\n",
       "Date:                Fri, 08 Dec 2017   Pseudo R-squ.:                 0.01814\n",
       "Time:                        11:22:08   Log-Likelihood:                -343.91\n",
       "converged:                       True   LL-Null:                       -350.26\n",
       "                                        LLR p-value:                 0.0003642\n",
       "=====================================================================================\n",
       "                        coef    std err          z      P>|z|      [0.025      0.975]\n",
       "-------------------------------------------------------------------------------------\n",
       "Intercept            -1.3315      0.395     -3.369      0.001      -2.106      -0.557\n",
       "NeighborhoodPrice     -8e-06   2.42e-06     -3.303      0.001   -1.27e-05   -3.25e-06\n",
       "=====================================================================================\n",
       "\"\"\""
      ]
     },
     "execution_count": 130,
     "metadata": {},
     "output_type": "execute_result"
    }
   ],
   "source": [
    "#Testing the hypothesis\n",
    "model = sm.logit(\"Abnormal ~ NeighborhoodPrice\", data=house).fit()\n",
    "model.summary()"
   ]
  },
  {
   "cell_type": "markdown",
   "metadata": {},
   "source": [
    "**Results**\n",
    "\n",
    "It appears that the NeighborhoodPrice has a significant effect on the sales abnormality\n"
   ]
  },
  {
   "cell_type": "markdown",
   "metadata": {},
   "source": [
    "---\n",
    "\n",
    "**Abnormal vs OverallQual & OverallCond**\n",
    "\n",
    "We had good success with Quality and Condition in part 2. Can it help us here?\n",
    "\n",
    "---\n"
   ]
  },
  {
   "cell_type": "code",
   "execution_count": 108,
   "metadata": {
    "collapsed": true
   },
   "outputs": [],
   "source": [
    "#Finds the median house price for if it's abnormal vs not.\n",
    "abnorm_cond = house.groupby(\"Abnormal\")[\"OverallCond\"].count()\n",
    "abnorm_qual = house.groupby(\"Abnormal\")[\"OverallQual\"].count()"
   ]
  },
  {
   "cell_type": "code",
   "execution_count": 109,
   "metadata": {},
   "outputs": [
    {
     "data": {
      "image/png": "[encoded data removed]",
      "text/plain": [
       "<matplotlib.figure.Figure at 0x7719190>"
      ]
     },
     "metadata": {
      "image/png": {
       "height": 332,
       "width": 541
      }
     },
     "output_type": "display_data"
    }
   ],
   "source": [
    "#Plots Overall Condition against Abnormalities\n",
    "fig, ax = plt.subplots(figsize = (8,5))\n",
    "\n",
    "sns.barplot(x='Abnormal', y='OverallCond', data=house, ax = ax)\n",
    "\n",
    "ax.set_title(\"Countplot of Abnormal against OverallCond\")\n",
    "\n",
    "plt.show()"
   ]
  },
  {
   "cell_type": "code",
   "execution_count": 110,
   "metadata": {},
   "outputs": [
    {
     "data": {
      "image/png": "[encoded data removed]",
      "text/plain": [
       "<matplotlib.figure.Figure at 0x7719130>"
      ]
     },
     "metadata": {
      "image/png": {
       "height": 332,
       "width": 541
      }
     },
     "output_type": "display_data"
    }
   ],
   "source": [
    "#Plots Sale Price against Abnormalities\n",
    "fig, ax = plt.subplots(figsize = (8,5))\n",
    "\n",
    "sns.barplot(x='Abnormal', y='OverallQual', data=house, ax = ax)\n",
    "\n",
    "ax.set_title(\"Countplot of Abnormal against OverallQual\")\n",
    "\n",
    "plt.show()"
   ]
  },
  {
   "cell_type": "code",
   "execution_count": 111,
   "metadata": {},
   "outputs": [
    {
     "name": "stdout",
     "output_type": "stream",
     "text": [
      "Optimization terminated successfully.\n",
      "         Current function value: 0.238023\n",
      "         Iterations 7\n"
     ]
    },
    {
     "data": {
      "text/html": [
       "<table class=\"simpletable\">\n",
       "<caption>Logit Regression Results</caption>\n",
       "<tr>\n",
       "  <th>Dep. Variable:</th>     <td>Abnormal</td>     <th>  No. Observations:  </th>  <td>  1443</td> \n",
       "</tr>\n",
       "<tr>\n",
       "  <th>Model:</th>               <td>Logit</td>      <th>  Df Residuals:      </th>  <td>  1440</td> \n",
       "</tr>\n",
       "<tr>\n",
       "  <th>Method:</th>               <td>MLE</td>       <th>  Df Model:          </th>  <td>     2</td> \n",
       "</tr>\n",
       "<tr>\n",
       "  <th>Date:</th>          <td>Fri, 08 Dec 2017</td> <th>  Pseudo R-squ.:     </th>  <td>0.01939</td>\n",
       "</tr>\n",
       "<tr>\n",
       "  <th>Time:</th>              <td>11:21:36</td>     <th>  Log-Likelihood:    </th> <td> -343.47</td>\n",
       "</tr>\n",
       "<tr>\n",
       "  <th>converged:</th>           <td>True</td>       <th>  LL-Null:           </th> <td> -350.26</td>\n",
       "</tr>\n",
       "<tr>\n",
       "  <th> </th>                      <td> </td>        <th>  LLR p-value:       </th> <td>0.001123</td>\n",
       "</tr>\n",
       "</table>\n",
       "<table class=\"simpletable\">\n",
       "<tr>\n",
       "       <td></td>          <th>coef</th>     <th>std err</th>      <th>z</th>      <th>P>|z|</th>  <th>[0.025</th>    <th>0.975]</th>  \n",
       "</tr>\n",
       "<tr>\n",
       "  <th>Intercept</th>   <td>   -0.3474</td> <td>    0.684</td> <td>   -0.508</td> <td> 0.612</td> <td>   -1.688</td> <td>    0.994</td>\n",
       "</tr>\n",
       "<tr>\n",
       "  <th>OverallQual</th> <td>   -0.2746</td> <td>    0.080</td> <td>   -3.423</td> <td> 0.001</td> <td>   -0.432</td> <td>   -0.117</td>\n",
       "</tr>\n",
       "<tr>\n",
       "  <th>OverallCond</th> <td>   -0.1245</td> <td>    0.094</td> <td>   -1.318</td> <td> 0.187</td> <td>   -0.310</td> <td>    0.061</td>\n",
       "</tr>\n",
       "</table>"
      ],
      "text/plain": [
       "<class 'statsmodels.iolib.summary.Summary'>\n",
       "\"\"\"\n",
       "                           Logit Regression Results                           \n",
       "==============================================================================\n",
       "Dep. Variable:               Abnormal   No. Observations:                 1443\n",
       "Model:                          Logit   Df Residuals:                     1440\n",
       "Method:                           MLE   Df Model:                            2\n",
       "Date:                Fri, 08 Dec 2017   Pseudo R-squ.:                 0.01939\n",
       "Time:                        11:21:36   Log-Likelihood:                -343.47\n",
       "converged:                       True   LL-Null:                       -350.26\n",
       "                                        LLR p-value:                  0.001123\n",
       "===============================================================================\n",
       "                  coef    std err          z      P>|z|      [0.025      0.975]\n",
       "-------------------------------------------------------------------------------\n",
       "Intercept      -0.3474      0.684     -0.508      0.612      -1.688       0.994\n",
       "OverallQual    -0.2746      0.080     -3.423      0.001      -0.432      -0.117\n",
       "OverallCond    -0.1245      0.094     -1.318      0.187      -0.310       0.061\n",
       "===============================================================================\n",
       "\"\"\""
      ]
     },
     "execution_count": 111,
     "metadata": {},
     "output_type": "execute_result"
    }
   ],
   "source": [
    "#Testing the hypothesis\n",
    "model = sm.logit(\"Abnormal ~ OverallQual + OverallCond\", data=house).fit()\n",
    "model.summary()"
   ]
  },
  {
   "cell_type": "markdown",
   "metadata": {},
   "source": [
    "**Results**\n",
    "\n",
    "Unfortunately it appears that neither have any affect on the abnormality"
   ]
  },
  {
   "cell_type": "markdown",
   "metadata": {},
   "source": [
    "---\n",
    "\n",
    "**Abnormal vs YrSold**\n",
    "\n",
    "After some discussion with Brian, it would make sense to that YrSold would have an impact on the abnormality of the sale. Due to the GFC in 2007 we would expect that a larger portion of abnormalities would occur around this period.\n",
    "\n",
    "---"
   ]
  },
  {
   "cell_type": "code",
   "execution_count": 112,
   "metadata": {
    "collapsed": true
   },
   "outputs": [],
   "source": [
    "#Groups the abnormalities by YearSold\n",
    "abnorm_yrsold = house.groupby(\"YrSold\")[\"Abnormal\"].count()"
   ]
  },
  {
   "cell_type": "code",
   "execution_count": 113,
   "metadata": {},
   "outputs": [
    {
     "data": {
      "image/png": "[encoded data removed]",
      "text/plain": [
       "<matplotlib.figure.Figure at 0xe4417f0>"
      ]
     },
     "metadata": {
      "image/png": {
       "height": 332,
       "width": 1005
      }
     },
     "output_type": "display_data"
    }
   ],
   "source": [
    "#Plots the abnormalities over the years\n",
    "fig, ax = plt.subplots(figsize = (15,5))\n",
    "\n",
    "sns.tsplot(abnorm_yrsold, time=abnorm_yrsold.index)\n",
    "\n",
    "ax.set_title(\"Abnormalities over the years\")\n",
    "ax.set_xlabel(\"Year\")\n",
    "ax.set_ylabel(\"Count of abnormalities\")\n",
    "\n",
    "ax.set_xticks([2006, 2007, 2008, 2009, 2010])\n",
    "\n",
    "plt.show()"
   ]
  },
  {
   "cell_type": "code",
   "execution_count": 114,
   "metadata": {
    "collapsed": true
   },
   "outputs": [],
   "source": [
    "#Creates a new column: Sale_age\n",
    "house[\"Sale_Age\"] = house[\"YrSold\"].map(lambda x: 2010 - x)"
   ]
  },
  {
   "cell_type": "code",
   "execution_count": 115,
   "metadata": {},
   "outputs": [
    {
     "name": "stdout",
     "output_type": "stream",
     "text": [
      "Optimization terminated successfully.\n",
      "         Current function value: 0.241897\n",
      "         Iterations 7\n"
     ]
    },
    {
     "data": {
      "text/html": [
       "<table class=\"simpletable\">\n",
       "<caption>Logit Regression Results</caption>\n",
       "<tr>\n",
       "  <th>Dep. Variable:</th>     <td>Abnormal</td>     <th>  No. Observations:  </th>  <td>  1443</td> \n",
       "</tr>\n",
       "<tr>\n",
       "  <th>Model:</th>               <td>Logit</td>      <th>  Df Residuals:      </th>  <td>  1441</td> \n",
       "</tr>\n",
       "<tr>\n",
       "  <th>Method:</th>               <td>MLE</td>       <th>  Df Model:          </th>  <td>     1</td> \n",
       "</tr>\n",
       "<tr>\n",
       "  <th>Date:</th>          <td>Fri, 08 Dec 2017</td> <th>  Pseudo R-squ.:     </th> <td>0.003430</td>\n",
       "</tr>\n",
       "<tr>\n",
       "  <th>Time:</th>              <td>11:21:37</td>     <th>  Log-Likelihood:    </th> <td> -349.06</td>\n",
       "</tr>\n",
       "<tr>\n",
       "  <th>converged:</th>           <td>True</td>       <th>  LL-Null:           </th> <td> -350.26</td>\n",
       "</tr>\n",
       "<tr>\n",
       "  <th> </th>                      <td> </td>        <th>  LLR p-value:       </th>  <td>0.1211</td> \n",
       "</tr>\n",
       "</table>\n",
       "<table class=\"simpletable\">\n",
       "<tr>\n",
       "      <td></td>         <th>coef</th>     <th>std err</th>      <th>z</th>      <th>P>|z|</th>  <th>[0.025</th>    <th>0.975]</th>  \n",
       "</tr>\n",
       "<tr>\n",
       "  <th>Intercept</th> <td>   -2.9380</td> <td>    0.220</td> <td>  -13.336</td> <td> 0.000</td> <td>   -3.370</td> <td>   -2.506</td>\n",
       "</tr>\n",
       "<tr>\n",
       "  <th>Sale_Age</th>  <td>    0.1252</td> <td>    0.081</td> <td>    1.540</td> <td> 0.123</td> <td>   -0.034</td> <td>    0.284</td>\n",
       "</tr>\n",
       "</table>"
      ],
      "text/plain": [
       "<class 'statsmodels.iolib.summary.Summary'>\n",
       "\"\"\"\n",
       "                           Logit Regression Results                           \n",
       "==============================================================================\n",
       "Dep. Variable:               Abnormal   No. Observations:                 1443\n",
       "Model:                          Logit   Df Residuals:                     1441\n",
       "Method:                           MLE   Df Model:                            1\n",
       "Date:                Fri, 08 Dec 2017   Pseudo R-squ.:                0.003430\n",
       "Time:                        11:21:37   Log-Likelihood:                -349.06\n",
       "converged:                       True   LL-Null:                       -350.26\n",
       "                                        LLR p-value:                    0.1211\n",
       "==============================================================================\n",
       "                 coef    std err          z      P>|z|      [0.025      0.975]\n",
       "------------------------------------------------------------------------------\n",
       "Intercept     -2.9380      0.220    -13.336      0.000      -3.370      -2.506\n",
       "Sale_Age       0.1252      0.081      1.540      0.123      -0.034       0.284\n",
       "==============================================================================\n",
       "\"\"\""
      ]
     },
     "execution_count": 115,
     "metadata": {},
     "output_type": "execute_result"
    }
   ],
   "source": [
    "#Testing the hypothesis\n",
    "model = sm.logit(\"Abnormal ~ Sale_Age\", data=house).fit()\n",
    "model.summary()"
   ]
  },
  {
   "cell_type": "markdown",
   "metadata": {},
   "source": [
    "**Results**\n",
    "\n",
    "Even though effects of Sale_Age is supposedly not significant on abnormalities. I am still going to use it to predict abnormalities. \n",
    "\n",
    "The affects of Sale_Age appear to be positive, meaning that the earlier years 2006/2007 had more abnormalities. This intuitively makes sense due to the Global Financial Crisis that occured in '06 '07."
   ]
  },
  {
   "cell_type": "markdown",
   "metadata": {},
   "source": [
    "---\n",
    "\n",
    "Preparing the model\n",
    "---\n",
    "\n",
    "From our naive observations, we are going to take the SalesPrice and OverallQual of a house to attempt to classify the abnormality of its sale.\n",
    "\n",
    "Abnormality ~ SalesPrice + Sale_Age\n",
    "\n",
    "We attempt this Logistic Regression, SVM and KNN\n",
    "\n",
    "Since the abnormalities experience heavy class imbalance we are taking a 50:50 train:test split instead of the usual 80:20. This is so that the model has more abnormalities that it can work off.\n",
    "\n",
    "---"
   ]
  },
  {
   "cell_type": "markdown",
   "metadata": {},
   "source": [
    "---\n",
    "\n",
    "**Logistic Regression**\n",
    "\n",
    "---"
   ]
  },
  {
   "cell_type": "code",
   "execution_count": 116,
   "metadata": {
    "collapsed": true
   },
   "outputs": [],
   "source": [
    "from sklearn.preprocessing import StandardScaler\n",
    "from sklearn.linear_model import LogisticRegression\n",
    "from sklearn.model_selection import train_test_split\n",
    "\n",
    "#Setting up predictors and target\n",
    "X = house[[\"SalePrice\", \"Sale_Age\"]]\n",
    "y = house[\"Abnormal\"]\n",
    "\n",
    "#Standardising\n",
    "ss = StandardScaler()\n",
    "Xs = ss.fit_transform(X)\n",
    "\n",
    "# Logistic Regression: lr\n",
    "lr = LogisticRegression()\n",
    "\n",
    "#Splits Dataset into test train 50:50 split\n",
    "X_train, X_test, y_train, y_test = train_test_split(X, y, random_state=42, test_size=0.5)\n",
    "model = lr.fit(X_train, y_train)\n",
    "\n",
    "#Stores predictions and predicted probabilities: yhat, yhat_pp\n",
    "yhat = model.predict(X_test)\n",
    "yhat_pp = model.predict_proba(X_test)"
   ]
  },
  {
   "cell_type": "code",
   "execution_count": 117,
   "metadata": {},
   "outputs": [
    {
     "data": {
      "text/html": [
       "<div>\n",
       "<style>\n",
       "    .dataframe thead tr:only-child th {\n",
       "        text-align: right;\n",
       "    }\n",
       "\n",
       "    .dataframe thead th {\n",
       "        text-align: left;\n",
       "    }\n",
       "\n",
       "    .dataframe tbody tr th {\n",
       "        vertical-align: top;\n",
       "    }\n",
       "</style>\n",
       "<table border=\"1\" class=\"dataframe\">\n",
       "  <thead>\n",
       "    <tr style=\"text-align: right;\">\n",
       "      <th></th>\n",
       "      <th>Predicted Abnormal</th>\n",
       "      <th>Predicted Normal</th>\n",
       "    </tr>\n",
       "  </thead>\n",
       "  <tbody>\n",
       "    <tr>\n",
       "      <th>Actual Abnormal</th>\n",
       "      <td>0</td>\n",
       "      <td>42</td>\n",
       "    </tr>\n",
       "    <tr>\n",
       "      <th>Actual Normal</th>\n",
       "      <td>0</td>\n",
       "      <td>680</td>\n",
       "    </tr>\n",
       "  </tbody>\n",
       "</table>\n",
       "</div>"
      ],
      "text/plain": [
       "                 Predicted Abnormal  Predicted Normal\n",
       "Actual Abnormal                   0                42\n",
       "Actual Normal                     0               680"
      ]
     },
     "execution_count": 117,
     "metadata": {},
     "output_type": "execute_result"
    }
   ],
   "source": [
    "from sklearn.metrics import confusion_matrix, classification_report\n",
    "\n",
    "#Confusion Matrix: conmat\n",
    "conmat = np.array(confusion_matrix(y_test, yhat, labels=[1,0]))\n",
    "\n",
    "confusion = pd.DataFrame(conmat, index = [\"Actual Abnormal\", \"Actual Normal\"], columns = [\"Predicted Abnormal\",\\\n",
    "                                                                                          \"Predicted Normal\"])\n",
    "confusion"
   ]
  },
  {
   "cell_type": "markdown",
   "metadata": {},
   "source": [
    "---\n",
    "\n",
    "**Logistic Regression - Metrics**\n",
    "\n",
    "We're going to look into a few metrics now. We're going to look at\n",
    "\n",
    "+ Precision\n",
    "+ Recall\n",
    "+ F1-score\n",
    "+ Support\n",
    "\n",
    "To note: Since there is such a large class imbalance, we generally are unable to draw many insights from the accuracy. For example the baseline accuracy 93.4165 after a logistic regression on SalesPrice the accuracy remainds to be 93.4165\n",
    "\n",
    "\n",
    "---"
   ]
  },
  {
   "cell_type": "code",
   "execution_count": 118,
   "metadata": {},
   "outputs": [
    {
     "name": "stdout",
     "output_type": "stream",
     "text": [
      "             precision    recall  f1-score   support\n",
      "\n",
      "          0       0.94      1.00      0.97       680\n",
      "          1       0.00      0.00      0.00        42\n",
      "\n",
      "avg / total       0.89      0.94      0.91       722\n",
      "\n"
     ]
    }
   ],
   "source": [
    "from sklearn.metrics import classification_report\n",
    "log_report = classification_report(y_test, yhat)\n",
    "print (log_report)"
   ]
  },
  {
   "cell_type": "markdown",
   "metadata": {},
   "source": [
    "---\n",
    "\n",
    "**K-NN**\n",
    "\n",
    "---"
   ]
  },
  {
   "cell_type": "code",
   "execution_count": 119,
   "metadata": {
    "collapsed": true
   },
   "outputs": [],
   "source": [
    "from sklearn.neighbors import KNeighborsClassifier\n",
    "\n",
    "#Splits Dataset into test train 50:50 split\n",
    "X_train, X_test, y_train, y_test = train_test_split(X, y, random_state=42, test_size=0.5)\n",
    "\n",
    "#Creates the KNN model\n",
    "knn = KNeighborsClassifier(n_neighbors=1)\n",
    "knn.fit(X_train, y_train)\n",
    "\n",
    "#Stores predictions and predicted probabilities: yhat, yhat_pp\n",
    "yhat = model.predict(X_test)\n",
    "yhat_pp = model.predict_proba(X_test)"
   ]
  },
  {
   "cell_type": "code",
   "execution_count": 120,
   "metadata": {},
   "outputs": [
    {
     "data": {
      "text/html": [
       "<div>\n",
       "<style>\n",
       "    .dataframe thead tr:only-child th {\n",
       "        text-align: right;\n",
       "    }\n",
       "\n",
       "    .dataframe thead th {\n",
       "        text-align: left;\n",
       "    }\n",
       "\n",
       "    .dataframe tbody tr th {\n",
       "        vertical-align: top;\n",
       "    }\n",
       "</style>\n",
       "<table border=\"1\" class=\"dataframe\">\n",
       "  <thead>\n",
       "    <tr style=\"text-align: right;\">\n",
       "      <th></th>\n",
       "      <th>Predicted Abnormal</th>\n",
       "      <th>Predicted Normal</th>\n",
       "    </tr>\n",
       "  </thead>\n",
       "  <tbody>\n",
       "    <tr>\n",
       "      <th>Actual Abnormal</th>\n",
       "      <td>0</td>\n",
       "      <td>42</td>\n",
       "    </tr>\n",
       "    <tr>\n",
       "      <th>Actual Normal</th>\n",
       "      <td>0</td>\n",
       "      <td>680</td>\n",
       "    </tr>\n",
       "  </tbody>\n",
       "</table>\n",
       "</div>"
      ],
      "text/plain": [
       "                 Predicted Abnormal  Predicted Normal\n",
       "Actual Abnormal                   0                42\n",
       "Actual Normal                     0               680"
      ]
     },
     "execution_count": 120,
     "metadata": {},
     "output_type": "execute_result"
    }
   ],
   "source": [
    "from sklearn.metrics import confusion_matrix, classification_report\n",
    "\n",
    "#Confusion Matrix: conmat\n",
    "conmat = np.array(confusion_matrix(y_test, yhat, labels=[1,0]))\n",
    "\n",
    "confusion = pd.DataFrame(conmat, index = [\"Actual Abnormal\", \"Actual Normal\"], columns = [\"Predicted Abnormal\",\\\n",
    "                                                                                          \"Predicted Normal\"])\n",
    "confusion"
   ]
  },
  {
   "cell_type": "code",
   "execution_count": 121,
   "metadata": {},
   "outputs": [
    {
     "name": "stdout",
     "output_type": "stream",
     "text": [
      "             precision    recall  f1-score   support\n",
      "\n",
      "          0       0.94      1.00      0.97       680\n",
      "          1       0.00      0.00      0.00        42\n",
      "\n",
      "avg / total       0.89      0.94      0.91       722\n",
      "\n"
     ]
    }
   ],
   "source": [
    "from sklearn.metrics import classification_report\n",
    "knn_report = classification_report(y_test, yhat)\n",
    "print (knn_report)"
   ]
  },
  {
   "cell_type": "markdown",
   "metadata": {},
   "source": [
    "---\n",
    "\n",
    "**SVM - Linear Kernel**\n",
    "\n",
    "---"
   ]
  },
  {
   "cell_type": "code",
   "execution_count": 122,
   "metadata": {
    "collapsed": true
   },
   "outputs": [],
   "source": [
    "from sklearn.svm import SVC\n",
    "from sklearn.model_selection import cross_val_score\n",
    "\n",
    "#Splits Dataset into test train 50:50 split\n",
    "X_train, X_test, y_train, y_test = train_test_split(X, y, random_state=42, test_size=0.5)\n",
    "\n",
    "#Creates the SVM Linear model\n",
    "lin_model = SVC(kernel='linear')\n",
    "lin_model.fit(X_train, y_train)\n",
    "\n",
    "yhat = lin_model.predict(X_test)"
   ]
  },
  {
   "cell_type": "code",
   "execution_count": 123,
   "metadata": {},
   "outputs": [
    {
     "data": {
      "text/html": [
       "<div>\n",
       "<style>\n",
       "    .dataframe thead tr:only-child th {\n",
       "        text-align: right;\n",
       "    }\n",
       "\n",
       "    .dataframe thead th {\n",
       "        text-align: left;\n",
       "    }\n",
       "\n",
       "    .dataframe tbody tr th {\n",
       "        vertical-align: top;\n",
       "    }\n",
       "</style>\n",
       "<table border=\"1\" class=\"dataframe\">\n",
       "  <thead>\n",
       "    <tr style=\"text-align: right;\">\n",
       "      <th></th>\n",
       "      <th>Predicted Abnormal</th>\n",
       "      <th>Predicted Normal</th>\n",
       "    </tr>\n",
       "  </thead>\n",
       "  <tbody>\n",
       "    <tr>\n",
       "      <th>Actual Abnormal</th>\n",
       "      <td>0</td>\n",
       "      <td>42</td>\n",
       "    </tr>\n",
       "    <tr>\n",
       "      <th>Actual Normal</th>\n",
       "      <td>1</td>\n",
       "      <td>679</td>\n",
       "    </tr>\n",
       "  </tbody>\n",
       "</table>\n",
       "</div>"
      ],
      "text/plain": [
       "                 Predicted Abnormal  Predicted Normal\n",
       "Actual Abnormal                   0                42\n",
       "Actual Normal                     1               679"
      ]
     },
     "execution_count": 123,
     "metadata": {},
     "output_type": "execute_result"
    }
   ],
   "source": [
    "from sklearn.metrics import confusion_matrix, classification_report\n",
    "\n",
    "#Confusion Matrix: conmat\n",
    "conmat = np.array(confusion_matrix(y_test, yhat, labels=[1,0]))\n",
    "\n",
    "confusion = pd.DataFrame(conmat, index = [\"Actual Abnormal\", \"Actual Normal\"], columns = [\"Predicted Abnormal\",\\\n",
    "                                                                                          \"Predicted Normal\"])\n",
    "confusion"
   ]
  },
  {
   "cell_type": "code",
   "execution_count": 124,
   "metadata": {},
   "outputs": [
    {
     "name": "stdout",
     "output_type": "stream",
     "text": [
      "             precision    recall  f1-score   support\n",
      "\n",
      "          0       0.94      1.00      0.97       680\n",
      "          1       0.00      0.00      0.00        42\n",
      "\n",
      "avg / total       0.89      0.94      0.91       722\n",
      "\n"
     ]
    }
   ],
   "source": [
    "from sklearn.metrics import classification_report\n",
    "svm_report = classification_report(y_test, yhat)\n",
    "print (svm_report)"
   ]
  },
  {
   "cell_type": "markdown",
   "metadata": {},
   "source": [
    "---\n",
    "\n",
    "**SVM - Radial Basis Function Kernel**\n",
    "\n",
    "---"
   ]
  },
  {
   "cell_type": "code",
   "execution_count": 125,
   "metadata": {
    "collapsed": true
   },
   "outputs": [],
   "source": [
    "from sklearn.svm import SVC\n",
    "from sklearn.model_selection import cross_val_score\n",
    "\n",
    "#Splits Dataset into test train 50:50 split\n",
    "X_train, X_test, y_train, y_test = train_test_split(X, y, random_state=42, test_size=0.5)\n",
    "\n",
    "#Creates the SVM Linear model\n",
    "lin_model = SVC(kernel='rbf')\n",
    "lin_model.fit(X_train, y_train)\n",
    "\n",
    "yhat = lin_model.predict(X_test)"
   ]
  },
  {
   "cell_type": "code",
   "execution_count": 126,
   "metadata": {},
   "outputs": [
    {
     "data": {
      "text/html": [
       "<div>\n",
       "<style>\n",
       "    .dataframe thead tr:only-child th {\n",
       "        text-align: right;\n",
       "    }\n",
       "\n",
       "    .dataframe thead th {\n",
       "        text-align: left;\n",
       "    }\n",
       "\n",
       "    .dataframe tbody tr th {\n",
       "        vertical-align: top;\n",
       "    }\n",
       "</style>\n",
       "<table border=\"1\" class=\"dataframe\">\n",
       "  <thead>\n",
       "    <tr style=\"text-align: right;\">\n",
       "      <th></th>\n",
       "      <th>Predicted Abnormal</th>\n",
       "      <th>Predicted Normal</th>\n",
       "    </tr>\n",
       "  </thead>\n",
       "  <tbody>\n",
       "    <tr>\n",
       "      <th>Actual Abnormal</th>\n",
       "      <td>0</td>\n",
       "      <td>42</td>\n",
       "    </tr>\n",
       "    <tr>\n",
       "      <th>Actual Normal</th>\n",
       "      <td>5</td>\n",
       "      <td>675</td>\n",
       "    </tr>\n",
       "  </tbody>\n",
       "</table>\n",
       "</div>"
      ],
      "text/plain": [
       "                 Predicted Abnormal  Predicted Normal\n",
       "Actual Abnormal                   0                42\n",
       "Actual Normal                     5               675"
      ]
     },
     "execution_count": 126,
     "metadata": {},
     "output_type": "execute_result"
    }
   ],
   "source": [
    "from sklearn.metrics import confusion_matrix, classification_report\n",
    "\n",
    "#Confusion Matrix: conmat\n",
    "conmat = np.array(confusion_matrix(y_test, yhat, labels=[1,0]))\n",
    "\n",
    "confusion = pd.DataFrame(conmat, index = [\"Actual Abnormal\", \"Actual Normal\"], columns = [\"Predicted Abnormal\",\\\n",
    "                                                                                          \"Predicted Normal\"])\n",
    "confusion"
   ]
  },
  {
   "cell_type": "code",
   "execution_count": 127,
   "metadata": {
    "scrolled": true
   },
   "outputs": [
    {
     "ename": "ImportError",
     "evalue": "cannot import name 'classification_reportv'",
     "output_type": "error",
     "traceback": [
      "\u001b[1;31m---------------------------------------------------------------------------\u001b[0m",
      "\u001b[1;31mImportError\u001b[0m                               Traceback (most recent call last)",
      "\u001b[1;32m<ipython-input-127-746d263765f8>\u001b[0m in \u001b[0;36m<module>\u001b[1;34m()\u001b[0m\n\u001b[1;32m----> 1\u001b[1;33m \u001b[1;32mfrom\u001b[0m \u001b[0msklearn\u001b[0m\u001b[1;33m.\u001b[0m\u001b[0mmetrics\u001b[0m \u001b[1;32mimport\u001b[0m \u001b[0mclassification_reportv\u001b[0m\u001b[1;33m\u001b[0m\u001b[0m\n\u001b[0m\u001b[0;32m      2\u001b[0m \u001b[0msvm_report\u001b[0m \u001b[1;33m=\u001b[0m \u001b[0mclassification_report\u001b[0m\u001b[1;33m(\u001b[0m\u001b[0my_test\u001b[0m\u001b[1;33m,\u001b[0m \u001b[0myhat\u001b[0m\u001b[1;33m)\u001b[0m\u001b[1;33m\u001b[0m\u001b[0m\n\u001b[0;32m      3\u001b[0m \u001b[0mprint\u001b[0m \u001b[1;33m(\u001b[0m\u001b[0msvm_report\u001b[0m\u001b[1;33m)\u001b[0m\u001b[1;33m\u001b[0m\u001b[0m\n",
      "\u001b[1;31mImportError\u001b[0m: cannot import name 'classification_reportv'"
     ]
    }
   ],
   "source": [
    "from sklearn.metrics import classification_reportv\n",
    "svm_report = classification_report(y_test, yhat)\n",
    "print (svm_report)"
   ]
  },
  {
   "cell_type": "markdown",
   "metadata": {},
   "source": [
    "Part 3 - Conclusion\n",
    "---\n",
    "\n",
    "---\n",
    "\n",
    "With Sales Price and Sale_Age alone, we are unable to accurately idently abnormalities.\n",
    "\n",
    "We would need to further tweak with the threshhold to make the models more sensitive to abnormalities. \n",
    "\n",
    "---"
   ]
  },
  {
   "cell_type": "markdown",
   "metadata": {},
   "source": [
    "\n",
    "Part 3 - Extra\n",
    "---\n",
    "\n",
    "---\n",
    "\n",
    "Anything below this is me trying new algorithms and techniques. For the sake of the project and my sanity I have kept the regression and predicting to a naive basic model.\n",
    "\n",
    "For example, I had originally attempted to cross validate the dataset and use it's predictions. This fell short when I realized it made no sense, since cross validation creates n arbitrary Train/Test splits. While this is great, it does not help to answer our question since we specifically want the testing set to be of houses sold in 2010.\n",
    "\n",
    "---"
   ]
  },
  {
   "cell_type": "markdown",
   "metadata": {},
   "source": [
    "---\n",
    "\n",
    "**Gridsearching for the best SVM parameters**\n",
    "\n",
    "---"
   ]
  },
  {
   "cell_type": "code",
   "execution_count": null,
   "metadata": {
    "collapsed": true
   },
   "outputs": [],
   "source": [
    "\"\"\"\n",
    "from sklearn.grid_search import GridSearchCV\n",
    "\n",
    "clf = svm.SVC()\n",
    "\n",
    "gamma_range = np.logspace(-5, 2, 10)\n",
    "C_range = np.logspace(-3, 2, 10)\n",
    "kernel_range = ['rbf','linear']\n",
    "\n",
    "param_grid = dict(gamma=gamma_range, C=C_range, kernel=kernel_range)\n",
    "\n",
    "grid = GridSearchCV(clf, param_grid, cv=3, scoring='accuracy', verbose=1)\n",
    "grid.fit(X_train, y_train)\n",
    "\"\"\"\n"
   ]
  },
  {
   "cell_type": "code",
   "execution_count": null,
   "metadata": {
    "collapsed": true
   },
   "outputs": [],
   "source": [
    "from sklearn.metrics import roc_curve, auc\n",
    "\n",
    "# For class 1, find the area under the curve\n",
    "fpr, tpr, _ = roc_curve(y_test, Y_pp[\"Abnormal\"])\n",
    "roc_auc = auc(fpr, tpr)\n",
    "\n",
    "# Plot of a ROC curve for class 1 (has_cancer)\n",
    "plt.figure(figsize=[8,8])\n",
    "plt.plot(fpr, tpr, label='ROC curve (area = %0.2f)' % roc_auc, linewidth=4)\n",
    "plt.plot([0, 1], [0, 1], 'k--', linewidth=4)\n",
    "plt.xlim([-0.05, 1.0])\n",
    "plt.ylim([-0.05, 1.05])\n",
    "plt.xlabel('False Positive Rate', fontsize=18)\n",
    "plt.ylabel('True Positive Rate', fontsize=18)\n",
    "plt.title('Receiver operating characteristic for Abnormality', fontsize=18)\n",
    "plt.legend(loc=\"lower right\")\n",
    "plt.show()"
   ]
  }
 ],
 "metadata": {
  "kernelspec": {
   "display_name": "Python 3",
   "language": "python",
   "name": "python3"
  },
  "language_info": {
   "codemirror_mode": {
    "name": "ipython",
    "version": 3
   },
   "file_extension": ".py",
   "mimetype": "text/x-python",
   "name": "python",
   "nbconvert_exporter": "python",
   "pygments_lexer": "ipython3",
   "version": "3.6.3"
  }
 },
 "nbformat": 4,
 "nbformat_minor": 2
}
