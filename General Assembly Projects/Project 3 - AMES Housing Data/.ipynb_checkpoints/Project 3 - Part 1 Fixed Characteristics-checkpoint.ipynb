{
 "cells": [
  {
   "cell_type": "markdown",
   "metadata": {},
   "source": [
    "<img src=\"http://imgur.com/1ZcRyrc.png\" style=\"float: left; margin: 15px; height: 80px\">\n",
    "\n",
    "# Project 3\n",
    "\n",
    "### Regression and Classification with the Ames Housing Data\n",
    "\n",
    "---\n",
    "\n",
    "You have just joined a new \"full stack\" real estate company in Ames, Iowa. The strategy of the firm is two-fold:\n",
    "- Own the entire process from the purchase of the land all the way to sale of the house, and anything in between.\n",
    "- Use statistical analysis to optimize investment and maximize return.\n",
    "\n",
    "The company is still small, and though investment is substantial the short-term goals of the company are more oriented towards purchasing existing houses and flipping them as opposed to constructing entirely new houses. That being said, the company has access to a large construction workforce operating at rock-bottom prices.\n",
    "\n",
    "This project uses the [Ames housing data recently made available on kaggle](https://www.kaggle.com/c/house-prices-advanced-regression-techniques)."
   ]
  },
  {
   "cell_type": "code",
   "execution_count": 1,
   "metadata": {},
   "outputs": [
    {
     "ename": "ModuleNotFoundError",
     "evalue": "No module named 'patsy'",
     "output_type": "error",
     "traceback": [
      "\u001b[1;31m---------------------------------------------------------------------------\u001b[0m",
      "\u001b[1;31mModuleNotFoundError\u001b[0m                       Traceback (most recent call last)",
      "\u001b[1;32m<ipython-input-1-97d62a8d9fd8>\u001b[0m in \u001b[0;36m<module>\u001b[1;34m()\u001b[0m\n\u001b[0;32m      4\u001b[0m \u001b[1;32mimport\u001b[0m \u001b[0mmatplotlib\u001b[0m\u001b[1;33m.\u001b[0m\u001b[0mpyplot\u001b[0m \u001b[1;32mas\u001b[0m \u001b[0mplt\u001b[0m\u001b[1;33m\u001b[0m\u001b[0m\n\u001b[0;32m      5\u001b[0m \u001b[1;32mimport\u001b[0m \u001b[0mpandas\u001b[0m \u001b[1;32mas\u001b[0m \u001b[0mpd\u001b[0m\u001b[1;33m\u001b[0m\u001b[0m\n\u001b[1;32m----> 6\u001b[1;33m \u001b[1;32mimport\u001b[0m \u001b[0mpatsy\u001b[0m\u001b[1;33m\u001b[0m\u001b[0m\n\u001b[0m\u001b[0;32m      7\u001b[0m \u001b[1;32mfrom\u001b[0m \u001b[0mscipy\u001b[0m\u001b[1;33m.\u001b[0m\u001b[0mstats\u001b[0m \u001b[1;32mimport\u001b[0m \u001b[0mnorm\u001b[0m\u001b[1;33m\u001b[0m\u001b[0m\n\u001b[0;32m      8\u001b[0m \u001b[1;33m\u001b[0m\u001b[0m\n",
      "\u001b[1;31mModuleNotFoundError\u001b[0m: No module named 'patsy'"
     ]
    }
   ],
   "source": [
    "import numpy as np\n",
    "import scipy.stats as stats\n",
    "import seaborn as sns\n",
    "import matplotlib.pyplot as plt\n",
    "import pandas as pd\n",
    "import patsy\n",
    "from scipy.stats import norm\n",
    "\n",
    "import warnings\n",
    "def ignore_warn(*args, **kwargs):\n",
    "    pass\n",
    "warnings.warn = ignore_warn #ignore annoying warning (from sklearn and seaborn)\n",
    "\n",
    "plt.style.use('fivethirtyeight')\n",
    "\n",
    "%config InlineBackend.figure_format = 'retina'\n",
    "%matplotlib inline\n",
    "%run helper.py"
   ]
  },
  {
   "cell_type": "markdown",
   "metadata": {},
   "source": [
    "<img src=\"http://imgur.com/l5NasQj.png\" style=\"float: left; margin: 25px 15px 0px 0px; height: 25px\">\n",
    "\n",
    "## 1. Estimating the value of homes from fixed characteristics.\n",
    "\n",
    "---\n",
    "\n",
    "Your superiors have outlined this year's strategy for the company:\n",
    "1. Develop an algorithm to reliably estimate the value of residential houses based on *fixed* characteristics.\n",
    "2. Identify characteristics of houses that the company can cost-effectively change/renovate with their construction team.\n",
    "3. Evaluate the mean dollar value of different renovations.\n",
    "\n",
    "Then we can use that to buy houses that are likely to sell for more than the cost of the purchase plus renovations.\n",
    "\n",
    "Your first job is to tackle #1. You have a dataset of housing sale data with a huge amount of features identifying different aspects of the house. The full description of the data features can be found in a separate file:\n",
    "\n",
    "    housing.csv\n",
    "    data_description.txt\n",
    "    \n",
    "You need to build a reliable estimator for the price of the house given characteristics of the house that cannot be renovated. Some examples include:\n",
    "- The neighborhood\n",
    "- Square feet\n",
    "- Bedrooms, bathrooms\n",
    "- Basement and garage space\n",
    "\n",
    "and many more. \n",
    "\n",
    "Some examples of things that **ARE renovate-able:**\n",
    "- Roof and exterior features\n",
    "- \"Quality\" metrics, such as kitchen quality\n",
    "- \"Condition\" metrics, such as condition of garage\n",
    "- Heating and electrical components\n",
    "\n",
    "and generally anything you deem can be modified without having to undergo major construction on the house.\n",
    "\n",
    "---\n",
    "\n",
    "**Your goals:**\n",
    "1. Perform any cleaning, feature engineering, and EDA you deem necessary.\n",
    "- Be sure to remove any houses that are not residential from the dataset.\n",
    "- Identify **fixed** features that can predict price.\n",
    "- Train a model on pre-2010 data and evaluate its performance on the 2010 houses.\n",
    "- Characterize your model. How well does it perform? What are the best estimates of price?\n",
    "\n",
    "> **Note:** The EDA and feature engineering component to this project is not trivial! Be sure to always think critically and creatively. Justify your actions! Use the data description file!"
   ]
  },
  {
   "cell_type": "code",
   "execution_count": 2,
   "metadata": {},
   "outputs": [],
   "source": [
    "# Load the data taking \"Id\" as the index column: house\n",
    "house = pd.read_csv(\"housing.csv\", index_col = \"Id\")"
   ]
  },
  {
   "cell_type": "code",
   "execution_count": 3,
   "metadata": {},
   "outputs": [],
   "source": [
    "# Creates mask to split into training and test accoring to YrSold to be used for later: mask_train, mask_test\n",
    "mask_train = house[\"YrSold\"] != 2010\n",
    "mask_test = house[\"YrSold\"] == 2010"
   ]
  },
  {
   "cell_type": "markdown",
   "metadata": {},
   "source": [
    "---\n",
    "\n",
    "**Keeping only the residential houses in the dataset**\n",
    "\n",
    "---"
   ]
  },
  {
   "cell_type": "code",
   "execution_count": 4,
   "metadata": {},
   "outputs": [],
   "source": [
    "# Creates a list of MsZoning to keep: residential\n",
    "residential = [\"RH\", \"RL\", \"RP\", \"RM\", \"FV\"]\n",
    "# Removes the other observations\n",
    "house = house[house[\"MSZoning\"].isin(residential)]"
   ]
  },
  {
   "cell_type": "markdown",
   "metadata": {},
   "source": [
    "---\n",
    "\n",
    "**Exploring the dataset - Predictors**\n",
    "\n",
    "---"
   ]
  },
  {
   "cell_type": "code",
   "execution_count": 5,
   "metadata": {},
   "outputs": [
    {
     "name": "stdout",
     "output_type": "stream",
     "text": [
      "The dimensions of the Ames housing dataset is (1450, 80)\n"
     ]
    }
   ],
   "source": [
    "# Shape\n",
    "print(\"The dimensions of the Ames housing dataset is {}\".format(house.shape))"
   ]
  },
  {
   "cell_type": "code",
   "execution_count": 6,
   "metadata": {},
   "outputs": [
    {
     "data": {
      "text/plain": [
       "Index(['MSSubClass', 'MSZoning', 'LotFrontage', 'LotArea', 'Street', 'Alley',\n",
       "       'LotShape', 'LandContour', 'Utilities', 'LotConfig', 'LandSlope',\n",
       "       'Neighborhood', 'Condition1', 'Condition2', 'BldgType', 'HouseStyle',\n",
       "       'OverallQual', 'OverallCond', 'YearBuilt', 'YearRemodAdd', 'RoofStyle',\n",
       "       'RoofMatl', 'Exterior1st', 'Exterior2nd', 'MasVnrType', 'MasVnrArea',\n",
       "       'ExterQual', 'ExterCond', 'Foundation', 'BsmtQual', 'BsmtCond',\n",
       "       'BsmtExposure', 'BsmtFinType1', 'BsmtFinSF1', 'BsmtFinType2',\n",
       "       'BsmtFinSF2', 'BsmtUnfSF', 'TotalBsmtSF', 'Heating', 'HeatingQC',\n",
       "       'CentralAir', 'Electrical', '1stFlrSF', '2ndFlrSF', 'LowQualFinSF',\n",
       "       'GrLivArea', 'BsmtFullBath', 'BsmtHalfBath', 'FullBath', 'HalfBath',\n",
       "       'BedroomAbvGr', 'KitchenAbvGr', 'KitchenQual', 'TotRmsAbvGrd',\n",
       "       'Functional', 'Fireplaces', 'FireplaceQu', 'GarageType', 'GarageYrBlt',\n",
       "       'GarageFinish', 'GarageCars', 'GarageArea', 'GarageQual', 'GarageCond',\n",
       "       'PavedDrive', 'WoodDeckSF', 'OpenPorchSF', 'EnclosedPorch', '3SsnPorch',\n",
       "       'ScreenPorch', 'PoolArea', 'PoolQC', 'Fence', 'MiscFeature', 'MiscVal',\n",
       "       'MoSold', 'YrSold', 'SaleType', 'SaleCondition', 'SalePrice'],\n",
       "      dtype='object')"
      ]
     },
     "execution_count": 6,
     "metadata": {},
     "output_type": "execute_result"
    }
   ],
   "source": [
    "# Features\n",
    "house.columns"
   ]
  },
  {
   "cell_type": "code",
   "execution_count": 7,
   "metadata": {},
   "outputs": [
    {
     "data": {
      "text/plain": [
       "MSSubClass       int64\n",
       "MSZoning        object\n",
       "LotFrontage    float64\n",
       "LotArea          int64\n",
       "Street          object\n",
       "Alley           object\n",
       "LotShape        object\n",
       "LandContour     object\n",
       "Utilities       object\n",
       "LotConfig       object\n",
       "dtype: object"
      ]
     },
     "execution_count": 7,
     "metadata": {},
     "output_type": "execute_result"
    }
   ],
   "source": [
    "# Data Types\n",
    "house.dtypes[0:10]"
   ]
  },
  {
   "cell_type": "code",
   "execution_count": 8,
   "metadata": {},
   "outputs": [
    {
     "data": {
      "text/plain": [
       "PoolQC          1443\n",
       "MiscFeature     1398\n",
       "Alley           1361\n",
       "Fence           1172\n",
       "FireplaceQu      681\n",
       "LotFrontage      259\n",
       "GarageYrBlt       79\n",
       "GarageType        79\n",
       "GarageFinish      79\n",
       "GarageQual        79\n",
       "GarageCond        79\n",
       "BsmtFinType2      38\n",
       "BsmtExposure      38\n",
       "BsmtFinType1      37\n",
       "BsmtCond          37\n",
       "BsmtQual          37\n",
       "MasVnrArea         8\n",
       "MasVnrType         8\n",
       "Electrical         1\n",
       "dtype: int64"
      ]
     },
     "execution_count": 8,
     "metadata": {},
     "output_type": "execute_result"
    }
   ],
   "source": [
    "# Missing Values\n",
    "missing = house.isnull().sum()\n",
    "missing[missing != 0].sort_values(ascending = False)"
   ]
  },
  {
   "cell_type": "markdown",
   "metadata": {},
   "source": [
    "---\n",
    "\n",
    "We can see that there is quite a bit of missing data which would need cleaning.\n",
    "\n",
    "From the categories that have missing data, we are going to fill them with either \"None\" or \"na\" depending on if the category is of numeric type or categorical type. \n",
    "\n",
    "In each case the variable is checked with the data dictionary to ensure that it makes sense for it to be None/Na\n",
    "\n",
    "The only exceptions to this are Electrical and LotFrontage in which case we are going to fill in with values that make sense.\n",
    "\n",
    "---"
   ]
  },
  {
   "cell_type": "code",
   "execution_count": 9,
   "metadata": {},
   "outputs": [],
   "source": [
    "#Categorical Variables with missing data: missing_categoricals\n",
    "missing_categoricals = [\"PoolQC\", \"MiscFeature\", \"Fence\", \"FireplaceQu\", \"GarageYrBlt\", \"GarageType\", \"GarageFinish\",\\\n",
    "                       \"GarageQual\", \"GarageCond\", \"BsmtFinType2\", \"BsmtExposure\", \"BsmtFinType1\", \"BsmtCond\", \"BsmtQual\",\n",
    "                       \"MasVnrType\", \"Alley\"]\n",
    "\n",
    "#Numerical Variables with missing data: missing_numerics\n",
    "missing_numerics = [\"MasVnrArea\"]\n",
    "\n",
    "#Fills all categorical missing values with \"None\"\n",
    "for category in missing_categoricals:\n",
    "    house[category].fillna(\"None\", inplace = True)\n",
    "    \n",
    "#Fills all numerical missing values with \"0\"\n",
    "for category in missing_numerics:\n",
    "    house[category].fillna(0, inplace = True)\n",
    "    \n",
    "#Fills missing Electrical value with mode \"SBrkr\"\n",
    "house[\"Electrical\"].fillna(str(house[\"Electrical\"].mode()), inplace = True)\n",
    "\n",
    "#Fills missing LotFrontage values with the median lotfrontage in the neighborhood\n",
    "house[\"LotFrontage\"].fillna(house.groupby(\"Neighborhood\")[\"LotFrontage\"].transform(\n",
    "    lambda x: x.fillna(x.median())), inplace = True)"
   ]
  },
  {
   "cell_type": "code",
   "execution_count": 10,
   "metadata": {},
   "outputs": [
    {
     "data": {
      "text/plain": [
       "Series([], dtype: int64)"
      ]
     },
     "execution_count": 10,
     "metadata": {},
     "output_type": "execute_result"
    }
   ],
   "source": [
    "#Asserts that there are no more missing values\n",
    "missing = house.isnull().sum()\n",
    "missing[missing != 0].sort_values(ascending=False)"
   ]
  },
  {
   "cell_type": "markdown",
   "metadata": {},
   "source": [
    "---\n",
    "\n",
    "Looking at the correlation map of the dataset we can see there are a few points that have strong correlations with each other, for example:\n",
    "\n",
    "**GarageCars vs GarageArea**\n",
    "\n",
    "**1stFlrSF vs TotalBsmtSF**\n",
    "\n",
    "We will look into removing these correlation issues via introducing various transformations.\n",
    "\n",
    "---"
   ]
  },
  {
   "cell_type": "code",
   "execution_count": 11,
   "metadata": {},
   "outputs": [
    {
     "ename": "NameError",
     "evalue": "name 'corr_heatmap' is not defined",
     "output_type": "error",
     "traceback": [
      "\u001b[1;31m---------------------------------------------------------------------------\u001b[0m",
      "\u001b[1;31mNameError\u001b[0m                                 Traceback (most recent call last)",
      "\u001b[1;32m<ipython-input-11-e08a3ec5d026>\u001b[0m in \u001b[0;36m<module>\u001b[1;34m()\u001b[0m\n\u001b[1;32m----> 1\u001b[1;33m \u001b[0mcorr_heatmap\u001b[0m\u001b[1;33m(\u001b[0m\u001b[0mhouse\u001b[0m\u001b[1;33m,\u001b[0m \u001b[0mannot\u001b[0m\u001b[1;33m=\u001b[0m\u001b[1;32mFalse\u001b[0m\u001b[1;33m)\u001b[0m\u001b[1;33m\u001b[0m\u001b[0m\n\u001b[0m",
      "\u001b[1;31mNameError\u001b[0m: name 'corr_heatmap' is not defined"
     ]
    }
   ],
   "source": [
    "corr_heatmap(house, annot=False)"
   ]
  },
  {
   "cell_type": "markdown",
   "metadata": {},
   "source": [
    "---\n",
    "\n",
    "** Modifying Variables**\n",
    "\n",
    "There are few variables that can be modified to be more intuitive. These are \"YearBuilt\", \"YearRemodAdd\", \"Neighborhood\",\n",
    "and Surface Area of house.\n",
    "\n",
    "YearBuilt and YearRemodAdd are changed into Age where age is defined to be 2010 minus their respective years.\n",
    "\n",
    "Surface Area is created to remove the strong correlations between surface area of other aspects as visualised in the correlation heatmap.\n",
    "\n",
    "---"
   ]
  },
  {
   "cell_type": "code",
   "execution_count": null,
   "metadata": {},
   "outputs": [],
   "source": [
    "#Creates a new column: house[\"Age\"]\n",
    "house[\"Age\"] = house[\"YearBuilt\"].map(lambda x: 2010 - x)\n",
    "\n",
    "#Creates a new column: house[\"Remod_Age\"]\n",
    "house[\"Remod_Age\"] = house[\"YearRemodAdd\"].map(lambda x: 2010 - x)\n",
    "\n",
    "#Creates a new column: house[\"Total_SF\"]\n",
    "house[\"Total_SF\"] = house[\"TotalBsmtSF\"] + house[\"1stFlrSF\"] + house[\"2ndFlrSF\"]"
   ]
  },
  {
   "cell_type": "markdown",
   "metadata": {},
   "source": [
    "---\n",
    "\n",
    "** Exploring Sale Price**\n",
    "\n",
    "\n",
    "---"
   ]
  },
  {
   "cell_type": "code",
   "execution_count": null,
   "metadata": {},
   "outputs": [],
   "source": [
    "#Taking out the training dataset: house_train\n",
    "house_train = house[mask_train]"
   ]
  },
  {
   "cell_type": "code",
   "execution_count": null,
   "metadata": {},
   "outputs": [],
   "source": [
    "fig, ax = plt.subplots(2, sharex = True, figsize = (16,5))\n",
    "ax[0] = sns.boxplot(house_train[\"SalePrice\"], ax = ax[0])\n",
    "ax[1] = sns.distplot(house_train[\"SalePrice\"],kde = False, ax = ax[1], fit=norm)\n",
    "\n",
    "formatter = FuncFormatter(currency)\n",
    "ax[1].xaxis.set_major_formatter(formatter)\n",
    "\n",
    "ax[0].set_title(\"Histogram & Boxplot of Sale Price\")\n",
    "fig.subplots_adjust(hspace=0)\n",
    "\n",
    "plt.show()"
   ]
  },
  {
   "cell_type": "markdown",
   "metadata": {},
   "source": [
    "---\n",
    "**Dropping Outliers**\n",
    "\n",
    "We can see that there are considerable outliers in the dataset so we're going to look into removing any outliers from out training dataset that have a SalePrice greater than $500k.\n",
    "\n",
    "---"
   ]
  },
  {
   "cell_type": "code",
   "execution_count": null,
   "metadata": {},
   "outputs": [],
   "source": [
    "mask_outliers = (house_train[house_train[\"SalePrice\"] >= 500000] == True).index\n",
    "print(\"The dimensions of the dataset before dropping ouliers is {}\".format(house.shape))\n",
    "\n",
    "house.drop(mask_outliers, inplace = True)\n",
    "print(\"The dimensions of the dataset after dropping ouliers is {}\".format(house.shape))\n",
    "\n",
    "#Reset the mask for the training set\n",
    "mask_train = house[\"YrSold\"] != 2010\n",
    "mask_test = house[\"YrSold\"] == 2010"
   ]
  },
  {
   "cell_type": "code",
   "execution_count": null,
   "metadata": {},
   "outputs": [],
   "source": [
    "house_train = house[mask_train]\n",
    "\n",
    "fig, ax = plt.subplots(2, sharex = True, figsize = (16,5))\n",
    "ax[0] = sns.boxplot(house_train[\"SalePrice\"], ax = ax[0])\n",
    "ax[1] = sns.distplot(house_train[\"SalePrice\"],kde = False, ax = ax[1], bins = 35, fit = norm)\n",
    "\n",
    "formatter = FuncFormatter(currency)\n",
    "ax[1].xaxis.set_major_formatter(formatter)\n",
    "\n",
    "ax[0].set_title(\"Histogram & Boxplot of Sale Price\")\n",
    "fig.subplots_adjust(hspace=0)\n",
    "\n",
    "plt.show()"
   ]
  },
  {
   "cell_type": "markdown",
   "metadata": {},
   "source": [
    "---\n",
    "**Log Transforming**\n",
    "\n",
    "Since there is still evident skew in the SalesPrice we look to log transform the SalePrice to be more normally distributed, and adding the column to the dataset\n",
    "\n",
    "---"
   ]
  },
  {
   "cell_type": "code",
   "execution_count": null,
   "metadata": {},
   "outputs": [],
   "source": [
    "house[\"LogSalePrice\"] = np.log(house[\"SalePrice\"])\n",
    "house.head(3)"
   ]
  },
  {
   "cell_type": "code",
   "execution_count": null,
   "metadata": {},
   "outputs": [],
   "source": [
    "house_train = house[mask_train]\n",
    "\n",
    "fig, ax = plt.subplots(2, sharex = True, figsize = (16,5))\n",
    "ax[0] = sns.boxplot(house_train[\"LogSalePrice\"], ax = ax[0])\n",
    "ax[1] = sns.distplot(house_train[\"LogSalePrice\"],kde = False, ax = ax[1], bins = 35, fit = norm)\n",
    "\n",
    "ax[0].set_title(\"Histogram & Boxplot of Log Sale Price\")\n",
    "fig.subplots_adjust(hspace=0)\n",
    "\n",
    "plt.show()"
   ]
  },
  {
   "cell_type": "markdown",
   "metadata": {},
   "source": [
    "---\n",
    "\n",
    "** Exploring Sale Price against Fixed Categorical Variables**\n",
    "\n",
    "Lets look at some relationships between SalePrice and Fixed Categorical Variables.\n",
    "\n",
    "A few to note:\n",
    "\n",
    "* Neighborhood\n",
    "* Alley\n",
    "* BldgType\n",
    "* MSSubClass\n",
    "* Street\n",
    "* LotShape\n",
    "* LandContour\n",
    "* LotConfig\n",
    "* LandSlope\n",
    "* Condition1\n",
    "* Condition2\n",
    "\n",
    "---"
   ]
  },
  {
   "cell_type": "code",
   "execution_count": null,
   "metadata": {},
   "outputs": [],
   "source": [
    "#Plots the counts of each\n",
    "fixed_categoricals = [\"Alley\", \"MSSubClass\", \"BldgType\", \"LotShape\", \"LandContour\", \"LotConfig\", \"LandSlope\", \"Condition1\"]\n",
    "\n",
    "fig, ax = plt.subplots(int(len(fixed_categoricals)/2),2, figsize = (15,15))\n",
    "\n",
    "ax = ax.flatten()\n",
    "for i in range(len(fixed_categoricals)):\n",
    "    ax[i] = sns.countplot(house[fixed_categoricals.pop()], ax = ax[i])\n"
   ]
  },
  {
   "cell_type": "code",
   "execution_count": null,
   "metadata": {
    "scrolled": false
   },
   "outputs": [],
   "source": [
    "#Plots the boxplot of each against SalePrice\n",
    "fixed_categoricals = [\"Alley\", \"MSSubClass\", \"BldgType\", \"LotShape\", \"LandContour\", \"LotConfig\", \"LandSlope\", \"Condition1\"]\n",
    "\n",
    "fig, ax = plt.subplots(int(len(fixed_categoricals)/2),2, figsize = (15,15))\n",
    "\n",
    "ax = ax.flatten()\n",
    "for i in range(len(fixed_categoricals)):\n",
    "    ax[i] = sns.boxplot(x = house[fixed_categoricals.pop()], y =house[\"SalePrice\"], ax = ax[i])\n",
    "    formatter = FuncFormatter(currency)\n",
    "    ax[i].yaxis.set_major_formatter(formatter)\n"
   ]
  },
  {
   "cell_type": "markdown",
   "metadata": {},
   "source": [
    "---\n",
    "\n",
    "** Exploring Sale Price against Neighborhood**\n",
    "\n",
    "And finally against Neighborhood\n",
    "\n",
    "---"
   ]
  },
  {
   "cell_type": "code",
   "execution_count": null,
   "metadata": {},
   "outputs": [],
   "source": [
    "#Groups the data by Neighboorhood and takes the Median of the SalePrices: neighborhood_prices\n",
    "neighborhood_prices = house.loc[:, [\"SalePrice\", \"Neighborhood\"]].groupby(by = \"Neighborhood\").median().sort_values(by = \"SalePrice\", ascending = False)\n",
    "\n",
    "#Creates a new column that stores the median price of the neighborhood for each house: \"NeighborhoodPrice\"\n",
    "house[\"NeighborhoodPrice\"] = [neighborhood_prices.loc[x,\"SalePrice\"] for x in house[\"Neighborhood\"]]\n"
   ]
  },
  {
   "cell_type": "code",
   "execution_count": null,
   "metadata": {},
   "outputs": [],
   "source": [
    "#SalePrice against Neighborhood\n",
    "fig, ax = plt.subplots(figsize = (14,8))\n",
    "\n",
    "formatter = FuncFormatter(currency)\n",
    "ax.yaxis.set_major_formatter(formatter)\n",
    "\n",
    "ax.set_title(\"Median Sale Price by Neighborhood\")\n",
    "ax.set_xticklabels(ax.xaxis.get_ticklabels(), fontsize=14, rotation=45)\n",
    "\n",
    "\n",
    "ax = sns.barplot(x = neighborhood_prices.index, y = \"SalePrice\", data = neighborhood_prices)"
   ]
  },
  {
   "cell_type": "markdown",
   "metadata": {},
   "source": [
    "### Splitting the dataset and regressing on fixed variables"
   ]
  },
  {
   "cell_type": "code",
   "execution_count": null,
   "metadata": {},
   "outputs": [],
   "source": [
    "from sklearn.preprocessing import StandardScaler, RobustScaler\n",
    "from sklearn.linear_model import LinearRegression\n",
    "from sklearn.metrics import mean_squared_error\n",
    "\n",
    "#Splitting after standardize with Patsy\n",
    "fix_feat = '~ BsmtFinSF1 + GrLivArea + FullBath + TotRmsAbvGrd + Fireplaces + GarageArea + WoodDeckSF +\\\n",
    "            Total_SF + NeighborhoodPrice + C(Condition1) + C(BldgType) + C(LotShape) + Age -1'\n",
    "\n",
    "X = patsy.dmatrix(fix_feat, data=house, return_type='dataframe')\n",
    "y = house[\"LogSalePrice\"]\n",
    "\n",
    "rs = RobustScaler()\n",
    "Xs = rs.fit_transform(X)\n",
    "\n",
    "Xs_train = Xs[mask_train]\n",
    "Xs_test = Xs[mask_test]\n",
    "\n",
    "y_train = y[mask_train]\n",
    "y_test = y[mask_test]\n",
    "\n",
    "slr = LinearRegression()\n",
    "\n",
    "model = slr.fit(Xs_train, y_train)\n",
    "\n",
    "print(\"The R-squared score of the training dataset is: {:.2f}%\".format(model.score(Xs_train,y_train)*100))\n",
    "print(\"The R-squared score of the testing dataset is: {:.2f}%\".format(model.score(Xs_test,y_test)*100))\n",
    "\n",
    "yfixed_testpreds = model.predict(Xs_test)\n",
    "yfixed_trainpreds = model.predict(Xs_train)\n",
    "\n",
    "print(\"--------------------------------------------------------\")\n",
    "print(\"The RMSE of the training set is {:.2f}\".format(np.sqrt(mean_squared_error(y_train, yfixed_trainpreds))))\n",
    "print(\"The RMSE of the testing set is {:.2f}\".format(np.sqrt(mean_squared_error(y_test, yfixed_testpreds))))"
   ]
  },
  {
   "cell_type": "code",
   "execution_count": null,
   "metadata": {},
   "outputs": [],
   "source": [
    "import statsmodels.formula.api as smf\n",
    "\n",
    "fix_feat_smf = \"LogSalePrice\" + fix_feat\n",
    "\n",
    "results = smf.ols(fix_feat_smf, data=house).fit()\n",
    "results.summary()"
   ]
  },
  {
   "cell_type": "code",
   "execution_count": null,
   "metadata": {},
   "outputs": [],
   "source": [
    "#SalePrice against Neighborhood\n",
    "fig, ax = plt.subplots(figsize = (14,8))\n",
    "\n",
    "ax.set_title(\"Cross Validation Predications against actual Log Sale Price Values\")\n",
    "ax.set_xlabel(\"Actual Log Sale Price\")\n",
    "ax.set_title(\"Predicted Log Sale Price\")\n",
    "\n",
    "ax = sns.regplot(y_test, yfixed_testpreds)\n",
    "\n",
    "plt.show()\n",
    "\n",
    "print(\"The RMSE of the testing set is {:.2f}\".format(np.sqrt(mean_squared_error(y_test, yfixed_testpreds))))"
   ]
  },
  {
   "cell_type": "markdown",
   "metadata": {},
   "source": [
    "Part 1 - Conclusion\n",
    "---\n",
    "\n",
    "---\n",
    "\n",
    "Under a basic Cross Validated Simple Linear Regression Model with 10 folds, the model is able to explain 86.17% of the variances (**R-Squared**).\n",
    "\n",
    "Furthermore the predictions did fairly well against the actual log prices with an RMSE of only 0.15 for the testing model, not too far off the 0.17 for training.\n",
    "\n",
    "In Part 2, we will look into trying to explain more of the variations using simple methods\n",
    "\n",
    "---"
   ]
  },
  {
   "cell_type": "code",
   "execution_count": null,
   "metadata": {},
   "outputs": [],
   "source": [
    "%store house\n",
    "%store mask_train\n",
    "%store mask_test\n",
    "%store fix_feat"
   ]
  },
  {
   "cell_type": "markdown",
   "metadata": {},
   "source": [
    "\n",
    "Part 1 - Extra\n",
    "---\n",
    "\n",
    "---\n",
    "\n",
    "Anything below this is me trying new algorithms and techniques. For the sake of the project and my sanity I have kept the regression and predicting to a naive basic model.\n",
    "\n",
    "For example, I had originally attempted to cross validate the dataset and use it's predictions. This fell short when I realized it made no sense, since cross validation creates n arbitrary Train/Test splits. While this is great, it does not help to answer our question since we specifically want the testing set to be of houses sold in 2010.\n",
    "\n",
    "---"
   ]
  },
  {
   "cell_type": "markdown",
   "metadata": {},
   "source": [
    "---\n",
    "\n",
    "**Performing Lasso Regularization on the model**\n",
    "\n",
    "---"
   ]
  },
  {
   "cell_type": "code",
   "execution_count": null,
   "metadata": {},
   "outputs": [],
   "source": [
    "from sklearn.linear_model import Lasso, LassoCV\n",
    "\n",
    "#Initializes and fits the model: lasso, model\n",
    "lasso = linear_model.Lasso(alpha = 0.01)\n",
    "model = lasso.fit(Xs_train, y_train)\n",
    "\n",
    "print(\"The R-squared score of the training dataset is: {:.2f}%\".format(model.score(Xs_train,y_train)*100))\n",
    "print(\"The R-squared score of the testing dataset is: {:.2f}%\".format(model.score(Xs_test,y_test)*100))\n",
    "\n",
    "#Creates the training and testing predictions: ylasso_trainpreds, ylasso_testpreds\n",
    "ylasso_trainpreds = lasso.predict(Xs_train)\n",
    "ylasso_testpreds = lasso.predict(Xs_test)\n",
    "\n",
    "print(\"--------------------------------------------------------\")\n",
    "print(\"The RMSE of the training set is {:.2f}\".format(np.sqrt(mean_squared_error(y_train, ylasso_trainpreds))))\n",
    "print(\"The RMSE of the testing set is {:.2f}\".format(np.sqrt(mean_squared_error(y_test, ylasso_testpreds))))"
   ]
  },
  {
   "cell_type": "markdown",
   "metadata": {},
   "source": [
    "---\n",
    "\n",
    "**Performing Ridge Regularization on the model**\n",
    "\n",
    "---"
   ]
  },
  {
   "cell_type": "code",
   "execution_count": null,
   "metadata": {},
   "outputs": [],
   "source": [
    "from sklearn.linear_model import Ridge, RidgeCV\n",
    "\n",
    "#Set up a ridge CV to find the optimal alpha\n",
    "alphas = np.logspace(0, 5, 200)\n",
    "model_ridgecv = RidgeCV(alphas=alphas, cv=10)\n",
    "model_ridgecv.fit(Xs_train, y_train)\n",
    "\n",
    "print(\"The optimised alpha found for ridge regression is {:.2f}\".format(model_ridgecv.alpha_))\n",
    "\n",
    "#Initialises and fits the model according to the optimised alpha\n",
    "ridge = Ridge(alpha = model_ridgecv.alpha_)\n",
    "model =  ridge.fit(Xs_train, y_train)\n",
    "\n",
    "print(\"--------------------------------------------------------\")\n",
    "print(\"The R-squared score of the training dataset is: {:.2f}%\".format(model.score(Xs_train,y_train)*100))\n",
    "print(\"The R-squared score of the testing dataset is: {:.2f}%\".format(model.score(Xs_test,y_test)*100))\n",
    "\n",
    "#Creates the training and testing predictions: ylasso_trainpreds, ylasso_testpreds\n",
    "yridge_trainpreds = lasso.predict(Xs_train)\n",
    "yridge_testpreds = lasso.predict(Xs_test)\n",
    "\n",
    "print(\"--------------------------------------------------------\")\n",
    "print(\"The RMSE of the training set is {:.2f}\".format(np.sqrt(mean_squared_error(y_train, yridge_trainpreds))))\n",
    "print(\"The RMSE of the testing set is {:.2f}\".format(np.sqrt(mean_squared_error(y_test, yridge_testpreds))))"
   ]
  },
  {
   "cell_type": "code",
   "execution_count": null,
   "metadata": {},
   "outputs": [],
   "source": [
    "model.get_params()"
   ]
  }
 ],
 "metadata": {
  "kernelspec": {
   "display_name": "Python 3",
   "language": "python",
   "name": "python3"
  },
  "language_info": {
   "codemirror_mode": {
    "name": "ipython",
    "version": 3
   },
   "file_extension": ".py",
   "mimetype": "text/x-python",
   "name": "python",
   "nbconvert_exporter": "python",
   "pygments_lexer": "ipython3",
   "version": "3.6.3"
  }
 },
 "nbformat": 4,
 "nbformat_minor": 2
}
