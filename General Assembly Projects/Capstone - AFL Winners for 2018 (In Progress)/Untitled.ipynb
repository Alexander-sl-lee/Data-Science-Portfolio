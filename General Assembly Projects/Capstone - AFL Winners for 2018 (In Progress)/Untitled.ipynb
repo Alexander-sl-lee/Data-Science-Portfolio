{
 "cells": [
  {
   "cell_type": "code",
   "execution_count": 120,
   "metadata": {
    "collapsed": true
   },
   "outputs": [],
   "source": [
    "# Imports dependencies\n",
    "import matplotlib.pyplot as plt\n",
    "from IPython.display import display, HTML\n",
    "import numpy as np\n",
    "import pandas as pd\n",
    "import seaborn as sns\n",
    "\n",
    "sns.set(font_scale=2)\n",
    "\n",
    "import warnings\n",
    "warnings.filterwarnings('ignore')\n",
    "\n",
    "plt.style.use('ggplot')\n",
    "\n",
    "%matplotlib inline"
   ]
  },
  {
   "cell_type": "code",
   "execution_count": 121,
   "metadata": {
    "collapsed": true
   },
   "outputs": [],
   "source": [
    "full_matches = pd.read_csv(\"data/afl_2018_test.csv\", index_col = 0)"
   ]
  },
  {
   "cell_type": "code",
   "execution_count": 122,
   "metadata": {},
   "outputs": [
    {
     "data": {
      "text/html": [
       "<div>\n",
       "<style>\n",
       "    .dataframe thead tr:only-child th {\n",
       "        text-align: right;\n",
       "    }\n",
       "\n",
       "    .dataframe thead th {\n",
       "        text-align: left;\n",
       "    }\n",
       "\n",
       "    .dataframe tbody tr th {\n",
       "        vertical-align: top;\n",
       "    }\n",
       "</style>\n",
       "<table border=\"1\" class=\"dataframe\">\n",
       "  <thead>\n",
       "    <tr style=\"text-align: right;\">\n",
       "      <th></th>\n",
       "      <th>Date</th>\n",
       "      <th>h_team</th>\n",
       "      <th>a_team</th>\n",
       "      <th>Home Score</th>\n",
       "      <th>Away Score</th>\n",
       "      <th>play_off</th>\n",
       "      <th>home_odds</th>\n",
       "      <th>away_odds</th>\n",
       "      <th>season</th>\n",
       "      <th>margin</th>\n",
       "      <th>h_prevladder_score</th>\n",
       "      <th>a_prevladder_score</th>\n",
       "      <th>margins_prev_match1</th>\n",
       "      <th>margins_prev_match2</th>\n",
       "      <th>margins_prev_match3</th>\n",
       "      <th>margins_prev_match4</th>\n",
       "      <th>margins_prev_match5</th>\n",
       "      <th>win_loc</th>\n",
       "    </tr>\n",
       "  </thead>\n",
       "  <tbody>\n",
       "    <tr>\n",
       "      <th>0</th>\n",
       "      <td>2018-03-25</td>\n",
       "      <td>West Coast</td>\n",
       "      <td>Sydney</td>\n",
       "      <td>0</td>\n",
       "      <td>0</td>\n",
       "      <td>0</td>\n",
       "      <td>2.60</td>\n",
       "      <td>1.50</td>\n",
       "      <td>2018</td>\n",
       "      <td>0</td>\n",
       "      <td>48.0</td>\n",
       "      <td>56.0</td>\n",
       "      <td>26.0</td>\n",
       "      <td>-39.0</td>\n",
       "      <td>52.0</td>\n",
       "      <td>-28.0</td>\n",
       "      <td>-34.0</td>\n",
       "      <td>0</td>\n",
       "    </tr>\n",
       "    <tr>\n",
       "      <th>1</th>\n",
       "      <td>2018-03-25</td>\n",
       "      <td>Melbourne</td>\n",
       "      <td>Geelong</td>\n",
       "      <td>0</td>\n",
       "      <td>0</td>\n",
       "      <td>0</td>\n",
       "      <td>2.35</td>\n",
       "      <td>1.60</td>\n",
       "      <td>2018</td>\n",
       "      <td>0</td>\n",
       "      <td>48.0</td>\n",
       "      <td>62.0</td>\n",
       "      <td>-29.0</td>\n",
       "      <td>-111.0</td>\n",
       "      <td>24.0</td>\n",
       "      <td>-66.0</td>\n",
       "      <td>-68.0</td>\n",
       "      <td>0</td>\n",
       "    </tr>\n",
       "    <tr>\n",
       "      <th>2</th>\n",
       "      <td>2018-03-25</td>\n",
       "      <td>GWS Giants</td>\n",
       "      <td>Western Bulldogs</td>\n",
       "      <td>0</td>\n",
       "      <td>0</td>\n",
       "      <td>0</td>\n",
       "      <td>1.45</td>\n",
       "      <td>2.75</td>\n",
       "      <td>2018</td>\n",
       "      <td>0</td>\n",
       "      <td>60.0</td>\n",
       "      <td>44.0</td>\n",
       "      <td>48.0</td>\n",
       "      <td>2.0</td>\n",
       "      <td>-6.0</td>\n",
       "      <td>25.0</td>\n",
       "      <td>-45.0</td>\n",
       "      <td>0</td>\n",
       "    </tr>\n",
       "  </tbody>\n",
       "</table>\n",
       "</div>"
      ],
      "text/plain": [
       "         Date      h_team            a_team  Home Score  Away Score  play_off  \\\n",
       "0  2018-03-25  West Coast            Sydney           0           0         0   \n",
       "1  2018-03-25   Melbourne           Geelong           0           0         0   \n",
       "2  2018-03-25  GWS Giants  Western Bulldogs           0           0         0   \n",
       "\n",
       "   home_odds  away_odds  season  margin  h_prevladder_score  \\\n",
       "0       2.60       1.50    2018       0                48.0   \n",
       "1       2.35       1.60    2018       0                48.0   \n",
       "2       1.45       2.75    2018       0                60.0   \n",
       "\n",
       "   a_prevladder_score  margins_prev_match1  margins_prev_match2  \\\n",
       "0                56.0                 26.0                -39.0   \n",
       "1                62.0                -29.0               -111.0   \n",
       "2                44.0                 48.0                  2.0   \n",
       "\n",
       "   margins_prev_match3  margins_prev_match4  margins_prev_match5  win_loc  \n",
       "0                 52.0                -28.0                -34.0        0  \n",
       "1                 24.0                -66.0                -68.0        0  \n",
       "2                 -6.0                 25.0                -45.0        0  "
      ]
     },
     "execution_count": 122,
     "metadata": {},
     "output_type": "execute_result"
    }
   ],
   "source": [
    "full_matches.head(3)"
   ]
  },
  {
   "cell_type": "code",
   "execution_count": 123,
   "metadata": {
    "collapsed": true
   },
   "outputs": [],
   "source": [
    "# Sets the year of the model: year\n",
    "year = 2018"
   ]
  },
  {
   "cell_type": "code",
   "execution_count": 124,
   "metadata": {
    "collapsed": true
   },
   "outputs": [],
   "source": [
    "import patsy\n",
    "\n",
    "features = '~ season + h_prevladder_score + a_prevladder_score + play_off + margins_prev_match1 + margins_prev_match2 + \\\n",
    "            + margins_prev_match3 + margins_prev_match4 + margins_prev_match5 + home_odds + away_odds + C(h_team) + C(a_team) - 1'"
   ]
  },
  {
   "cell_type": "code",
   "execution_count": 125,
   "metadata": {
    "collapsed": true
   },
   "outputs": [],
   "source": [
    "# Initiates the predictors: X\n",
    "X = patsy.dmatrix(features, data=full_matches, return_type='dataframe')\n",
    "\n",
    "# Initiates the target as winloc: y\n",
    "y = full_matches[[\"season\", \"win_loc\"]]"
   ]
  },
  {
   "cell_type": "code",
   "execution_count": 126,
   "metadata": {},
   "outputs": [
    {
     "data": {
      "text/plain": [
       "(959, 46)"
      ]
     },
     "execution_count": 126,
     "metadata": {},
     "output_type": "execute_result"
    }
   ],
   "source": [
    "X.shape"
   ]
  },
  {
   "cell_type": "code",
   "execution_count": 127,
   "metadata": {},
   "outputs": [
    {
     "data": {
      "text/plain": [
       "(959, 2)"
      ]
     },
     "execution_count": 127,
     "metadata": {},
     "output_type": "execute_result"
    }
   ],
   "source": [
    "y.shape"
   ]
  },
  {
   "cell_type": "code",
   "execution_count": 128,
   "metadata": {
    "collapsed": true
   },
   "outputs": [],
   "source": [
    "X_train = X[(X[\"season\"] >= year-5) & (X[\"season\"] <= year-1)].drop([\"season\"], axis=1)\n",
    "X_test  = X[X[\"season\"] == year].drop([\"season\"], axis=1)\n",
    "y_train = y[(y[\"season\"] >= year-5) & (y[\"season\"] <= year-1)][\"win_loc\"]\n",
    "y_test  = y[y[\"season\"] == year][\"win_loc\"]"
   ]
  },
  {
   "cell_type": "code",
   "execution_count": 129,
   "metadata": {
    "collapsed": true
   },
   "outputs": [],
   "source": [
    "def five_year_pred(clf, X, y, year):\n",
    "    \n",
    "    global baseline\n",
    "    baseline = full_matches[full_matches[\"season\"] == year][\"win_loc\"].mean()\n",
    "    \n",
    "    global X_train\n",
    "    X_train = X[(X[\"season\"] >= year-5) & (X[\"season\"] <= year-1)].drop([\"season\"], axis=1)\n",
    "    global X_test\n",
    "    X_test  = X[X[\"season\"] == year].drop([\"season\"], axis=1)\n",
    "    global y_train\n",
    "    y_train = y[(y[\"season\"] >= year-5) & (y[\"season\"] <= year-1)][\"win_loc\"]\n",
    "    global y_test\n",
    "    y_test  = y[y[\"season\"] == year][\"win_loc\"]\n",
    "  \n",
    "    clf.fit(X_train, y_train)\n",
    "\n",
    "    predictions =  clf.predict_proba(X_test)\n",
    "    \n",
    "    year_data = full_matches[full_matches[\"season\"] == year]\n",
    "\n",
    "    cols_to_keep = [\"win_loc\", \"season\", \"h_team\", \"a_team\", \"home_odds\", \"away_odds\"]\n",
    "    year_data = year_data[cols_to_keep].reset_index(drop=True)\n",
    "    \n",
    "    probs_df = pd.DataFrame(predictions, columns = [\"a_prob_us\", \"h_prob_us\"]).round(2)\n",
    "    probs_df = probs_df[[\"h_prob_us\", \"a_prob_us\"]]\n",
    "    \n",
    "    year_odds_comparison = year_data.join(probs_df, how=\"outer\")\n",
    "\n",
    "    return year_odds_comparison"
   ]
  },
  {
   "cell_type": "code",
   "execution_count": 130,
   "metadata": {},
   "outputs": [],
   "source": [
    "from sklearn.linear_model import LogisticRegression\n",
    "from sklearn.svm import SVC\n",
    "from sklearn.neighbors import KNeighborsClassifier\n",
    "from sklearn.tree import DecisionTreeClassifier \n",
    "from sklearn.ensemble import GradientBoostingClassifier, RandomForestClassifier\n",
    "from sklearn.naive_bayes import BernoulliNB\n",
    "\n",
    "clf_lr      = LogisticRegression(penalty='l2', solver=\"liblinear\")\n",
    "clf_svc     = SVC(kernel = 'rbf', probability = True)\n",
    "clf_xgboost = GradientBoostingClassifier()\n",
    "clf_forest   = RandomForestClassifier()\n",
    "clf_tree    = DecisionTreeClassifier()\n",
    "\n",
    "clf = clf_lr\n",
    "\n",
    "probs_df = five_year_pred(clf, X, y, year = year)"
   ]
  },
  {
   "cell_type": "code",
   "execution_count": 131,
   "metadata": {
    "collapsed": true
   },
   "outputs": [],
   "source": [
    "probs_df.drop(\"win_loc\", errors=\"ignore\", inplace=True, axis=1)"
   ]
  },
  {
   "cell_type": "code",
   "execution_count": 132,
   "metadata": {},
   "outputs": [
    {
     "data": {
      "text/html": [
       "<div>\n",
       "<style>\n",
       "    .dataframe thead tr:only-child th {\n",
       "        text-align: right;\n",
       "    }\n",
       "\n",
       "    .dataframe thead th {\n",
       "        text-align: left;\n",
       "    }\n",
       "\n",
       "    .dataframe tbody tr th {\n",
       "        vertical-align: top;\n",
       "    }\n",
       "</style>\n",
       "<table border=\"1\" class=\"dataframe\">\n",
       "  <thead>\n",
       "    <tr style=\"text-align: right;\">\n",
       "      <th></th>\n",
       "      <th>h_team</th>\n",
       "      <th>a_team</th>\n",
       "      <th>home_odds</th>\n",
       "      <th>away_odds</th>\n",
       "      <th>h_prob_us</th>\n",
       "      <th>a_prob_us</th>\n",
       "    </tr>\n",
       "  </thead>\n",
       "  <tbody>\n",
       "    <tr>\n",
       "      <th>0</th>\n",
       "      <td>West Coast</td>\n",
       "      <td>Sydney</td>\n",
       "      <td>2.60</td>\n",
       "      <td>1.50</td>\n",
       "      <td>0.24</td>\n",
       "      <td>0.76</td>\n",
       "    </tr>\n",
       "    <tr>\n",
       "      <th>1</th>\n",
       "      <td>Melbourne</td>\n",
       "      <td>Geelong</td>\n",
       "      <td>2.35</td>\n",
       "      <td>1.60</td>\n",
       "      <td>0.42</td>\n",
       "      <td>0.58</td>\n",
       "    </tr>\n",
       "    <tr>\n",
       "      <th>2</th>\n",
       "      <td>GWS Giants</td>\n",
       "      <td>Western Bulldogs</td>\n",
       "      <td>1.45</td>\n",
       "      <td>2.75</td>\n",
       "      <td>0.66</td>\n",
       "      <td>0.34</td>\n",
       "    </tr>\n",
       "  </tbody>\n",
       "</table>\n",
       "</div>"
      ],
      "text/plain": [
       "       h_team            a_team  home_odds  away_odds  h_prob_us  a_prob_us\n",
       "0  West Coast            Sydney       2.60       1.50       0.24       0.76\n",
       "1   Melbourne           Geelong       2.35       1.60       0.42       0.58\n",
       "2  GWS Giants  Western Bulldogs       1.45       2.75       0.66       0.34"
      ]
     },
     "execution_count": 132,
     "metadata": {},
     "output_type": "execute_result"
    }
   ],
   "source": [
    "betting_outcomes = probs_df[[\"h_team\", \"a_team\", \"home_odds\", \"away_odds\", \"h_prob_us\", \"a_prob_us\"]]\n",
    "betting_outcomes.head(3)"
   ]
  },
  {
   "cell_type": "code",
   "execution_count": 133,
   "metadata": {
    "collapsed": true
   },
   "outputs": [],
   "source": [
    "def team_to_bet(home_odds, away_odds, h_prob_us, a_prob_us, bet_type=\"home\"):\n",
    "    \"\"\"\n",
    "    Advises on which team to bet on.\n",
    "    \n",
    "    By comparing the odds of a model and public odds, returns which team should be bet on.\n",
    "\n",
    "    Parameters\n",
    "    ----------\n",
    "    \n",
    "    Returns\n",
    "    -------\n",
    "    int: The return value.\n",
    "    0 for away team.\n",
    "    1 for home team. \n",
    "    \"\"\"\n",
    "    \n",
    "    # This bet type plays the odds, in an ideal case where we have an accurate model, playing the odds will have a greater\n",
    "    # net gain compared to all other models.\n",
    "    if bet_type == \"odds\":\n",
    "        # Calculates bookie probabilities based on their odds: home_prob_bookie, away_prob_bookie\n",
    "        h_prob_bookie = 1/home_odds\n",
    "        a_prob_bookie = 1/away_odds\n",
    "\n",
    "        # Calculates differences in probabilities: home_prob_diff, away_prob_diff\n",
    "        home_prob_diff = h_prob_us - h_prob_bookie\n",
    "        away_prob_diff = a_prob_us - a_prob_bookie\n",
    "\n",
    "        # Returns 1 if we are more sure that the home team will win.\n",
    "        if (home_prob_diff > away_prob_diff):\n",
    "            return 1\n",
    "\n",
    "        # Returns -1 if we are more sure that the away team will win.\n",
    "        if (away_prob_diff > home_prob_diff):\n",
    "            return 0    \n",
    "    \n",
    "    # This bet type only predominantly bets on the home teams\n",
    "    if bet_type == \"home\":\n",
    "        \n",
    "        # Returns 1 if home team are favored\n",
    "        if (h_prob_us > a_prob_us):\n",
    "            return 1\n",
    "        \n",
    "        # Returns 0 if away team are favored\n",
    "        else:\n",
    "            return 0\n",
    "\n",
    "    \n",
    "        \n",
    "def kelly_criterion(prob, odds):\n",
    "    \"\"\"\n",
    "    Applies the kelly criterion to advise what percentage of bank to bet.\n",
    "    \n",
    "    Uses the probability of team winning with the expected odds to \n",
    "    \n",
    "    Returns\n",
    "    -------\n",
    "    float: The return value. 2 d.p.\n",
    "    The percentage of ones bank to bet on a game.\n",
    "    \"\"\"\n",
    "    \n",
    "    # Calculates the percentage to bet based on probability and odds\n",
    "    bet_perc = (prob * (odds + 1)-1) / odds\n",
    "    \n",
    "    # Returns bet_perc\n",
    "    return abs(round(bet_perc,2))\n",
    "\n",
    "def calc_win(bet, odds):\n",
    "    \"\"\"\n",
    "    Calculates the amount won from a winning bet given odds and the bet_size\n",
    "    \"\"\"\n",
    "    return (bet) * (odds-1)"
   ]
  },
  {
   "cell_type": "code",
   "execution_count": 134,
   "metadata": {
    "collapsed": true
   },
   "outputs": [],
   "source": [
    "# Creates a column that advises which team to bet on\n",
    "betting_outcomes[\"bet_on\"] = betting_outcomes.apply(lambda row: team_to_bet(row[\"home_odds\"], row[\"away_odds\"],\n",
    "                                                                            row[\"h_prob_us\"], row[\"a_prob_us\"],\n",
    "                                                                            bet_type = \"home\"), axis = 1)\n",
    "# Creates a column that advises how much to bet\n",
    "betting_outcomes[\"bet_perc\"] = betting_outcomes.apply(lambda row: kelly_criterion(row[\"h_prob_us\"], row[\"home_odds\"]), axis = 1)/3\n"
   ]
  },
  {
   "cell_type": "code",
   "execution_count": 135,
   "metadata": {},
   "outputs": [
    {
     "data": {
      "text/html": [
       "<div>\n",
       "<style>\n",
       "    .dataframe thead tr:only-child th {\n",
       "        text-align: right;\n",
       "    }\n",
       "\n",
       "    .dataframe thead th {\n",
       "        text-align: left;\n",
       "    }\n",
       "\n",
       "    .dataframe tbody tr th {\n",
       "        vertical-align: top;\n",
       "    }\n",
       "</style>\n",
       "<table border=\"1\" class=\"dataframe\">\n",
       "  <thead>\n",
       "    <tr style=\"text-align: right;\">\n",
       "      <th></th>\n",
       "      <th>h_team</th>\n",
       "      <th>a_team</th>\n",
       "      <th>home_odds</th>\n",
       "      <th>away_odds</th>\n",
       "      <th>h_prob_us</th>\n",
       "      <th>a_prob_us</th>\n",
       "      <th>bet_on</th>\n",
       "      <th>bet_perc</th>\n",
       "    </tr>\n",
       "  </thead>\n",
       "  <tbody>\n",
       "    <tr>\n",
       "      <th>0</th>\n",
       "      <td>West Coast</td>\n",
       "      <td>Sydney</td>\n",
       "      <td>2.60</td>\n",
       "      <td>1.50</td>\n",
       "      <td>0.24</td>\n",
       "      <td>0.76</td>\n",
       "      <td>0</td>\n",
       "      <td>0.016667</td>\n",
       "    </tr>\n",
       "    <tr>\n",
       "      <th>1</th>\n",
       "      <td>Melbourne</td>\n",
       "      <td>Geelong</td>\n",
       "      <td>2.35</td>\n",
       "      <td>1.60</td>\n",
       "      <td>0.42</td>\n",
       "      <td>0.58</td>\n",
       "      <td>0</td>\n",
       "      <td>0.056667</td>\n",
       "    </tr>\n",
       "    <tr>\n",
       "      <th>2</th>\n",
       "      <td>GWS Giants</td>\n",
       "      <td>Western Bulldogs</td>\n",
       "      <td>1.45</td>\n",
       "      <td>2.75</td>\n",
       "      <td>0.66</td>\n",
       "      <td>0.34</td>\n",
       "      <td>1</td>\n",
       "      <td>0.143333</td>\n",
       "    </tr>\n",
       "    <tr>\n",
       "      <th>3</th>\n",
       "      <td>Hawthorn</td>\n",
       "      <td>Collingwood</td>\n",
       "      <td>1.95</td>\n",
       "      <td>1.85</td>\n",
       "      <td>0.73</td>\n",
       "      <td>0.27</td>\n",
       "      <td>1</td>\n",
       "      <td>0.196667</td>\n",
       "    </tr>\n",
       "    <tr>\n",
       "      <th>4</th>\n",
       "      <td>Gold Coast</td>\n",
       "      <td>North Melbourne</td>\n",
       "      <td>1.85</td>\n",
       "      <td>1.95</td>\n",
       "      <td>0.42</td>\n",
       "      <td>0.58</td>\n",
       "      <td>0</td>\n",
       "      <td>0.036667</td>\n",
       "    </tr>\n",
       "    <tr>\n",
       "      <th>5</th>\n",
       "      <td>Port Adelaide</td>\n",
       "      <td>Fremantle</td>\n",
       "      <td>1.25</td>\n",
       "      <td>4.00</td>\n",
       "      <td>0.66</td>\n",
       "      <td>0.34</td>\n",
       "      <td>1</td>\n",
       "      <td>0.130000</td>\n",
       "    </tr>\n",
       "    <tr>\n",
       "      <th>6</th>\n",
       "      <td>St Kilda</td>\n",
       "      <td>Brisbane</td>\n",
       "      <td>1.31</td>\n",
       "      <td>3.50</td>\n",
       "      <td>0.67</td>\n",
       "      <td>0.33</td>\n",
       "      <td>1</td>\n",
       "      <td>0.140000</td>\n",
       "    </tr>\n",
       "    <tr>\n",
       "      <th>7</th>\n",
       "      <td>Essendon</td>\n",
       "      <td>Adelaide</td>\n",
       "      <td>2.05</td>\n",
       "      <td>1.78</td>\n",
       "      <td>0.75</td>\n",
       "      <td>0.25</td>\n",
       "      <td>1</td>\n",
       "      <td>0.210000</td>\n",
       "    </tr>\n",
       "    <tr>\n",
       "      <th>8</th>\n",
       "      <td>Richmond</td>\n",
       "      <td>Carlton</td>\n",
       "      <td>1.22</td>\n",
       "      <td>4.35</td>\n",
       "      <td>0.84</td>\n",
       "      <td>0.16</td>\n",
       "      <td>1</td>\n",
       "      <td>0.236667</td>\n",
       "    </tr>\n",
       "  </tbody>\n",
       "</table>\n",
       "</div>"
      ],
      "text/plain": [
       "          h_team            a_team  home_odds  away_odds  h_prob_us  \\\n",
       "0     West Coast            Sydney       2.60       1.50       0.24   \n",
       "1      Melbourne           Geelong       2.35       1.60       0.42   \n",
       "2     GWS Giants  Western Bulldogs       1.45       2.75       0.66   \n",
       "3       Hawthorn       Collingwood       1.95       1.85       0.73   \n",
       "4     Gold Coast   North Melbourne       1.85       1.95       0.42   \n",
       "5  Port Adelaide         Fremantle       1.25       4.00       0.66   \n",
       "6       St Kilda          Brisbane       1.31       3.50       0.67   \n",
       "7       Essendon          Adelaide       2.05       1.78       0.75   \n",
       "8       Richmond           Carlton       1.22       4.35       0.84   \n",
       "\n",
       "   a_prob_us  bet_on  bet_perc  \n",
       "0       0.76       0  0.016667  \n",
       "1       0.58       0  0.056667  \n",
       "2       0.34       1  0.143333  \n",
       "3       0.27       1  0.196667  \n",
       "4       0.58       0  0.036667  \n",
       "5       0.34       1  0.130000  \n",
       "6       0.33       1  0.140000  \n",
       "7       0.25       1  0.210000  \n",
       "8       0.16       1  0.236667  "
      ]
     },
     "execution_count": 135,
     "metadata": {},
     "output_type": "execute_result"
    }
   ],
   "source": [
    "betting_outcomes"
   ]
  },
  {
   "cell_type": "code",
   "execution_count": null,
   "metadata": {
    "collapsed": true
   },
   "outputs": [],
   "source": []
  },
  {
   "cell_type": "code",
   "execution_count": null,
   "metadata": {
    "collapsed": true
   },
   "outputs": [],
   "source": []
  },
  {
   "cell_type": "code",
   "execution_count": null,
   "metadata": {
    "collapsed": true
   },
   "outputs": [],
   "source": []
  }
 ],
 "metadata": {
  "kernelspec": {
   "display_name": "Python 3",
   "language": "python",
   "name": "python3"
  },
  "language_info": {
   "codemirror_mode": {
    "name": "ipython",
    "version": 3
   },
   "file_extension": ".py",
   "mimetype": "text/x-python",
   "name": "python",
   "nbconvert_exporter": "python",
   "pygments_lexer": "ipython3",
   "version": "3.6.3"
  }
 },
 "nbformat": 4,
 "nbformat_minor": 2
}
