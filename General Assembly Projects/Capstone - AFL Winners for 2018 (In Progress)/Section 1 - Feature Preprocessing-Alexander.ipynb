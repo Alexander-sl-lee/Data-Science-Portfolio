{
 "cells": [
  {
   "cell_type": "markdown",
   "metadata": {},
   "source": [
    "# Predicting AFL winners using Machine Learning - Cleaning & Feature Preprocessing\n",
    "\n",
    "---\n",
    "\n",
    "<img src='img/sportsbet.png' \n",
    "style=\"height:200px;width:700px;\">\n",
    "\n",
    "---\n",
    "\n",
    "\n",
    "\n",
    "Using the data provided by Sportsbet and CIKM 2015 challenge. We are going to try and maximize winnnings from bet tippings in any given season of AFL. This involves two steps:\n",
    "\n",
    "* Part 1: Predicting with a high enough accuracy the probability of the home team winning. \n",
    "\n",
    "* Part 2: Calculating what the best percentage of our capital to bet is.\n"
   ]
  },
  {
   "cell_type": "markdown",
   "metadata": {},
   "source": [
    "\n",
    "The data for this project is sourced from several websites. The meat of the dataset is provided under the **2015 CIKM & SportsBet AFL Challenge**, with others sections such as historical ladder rankings and historical betting odds coming from \n",
    "\n",
    "> [The Official AFL Site](http://www.afl.com.au/ladder)\n",
    "<img src='img/ladder.png'>\n",
    "\n",
    "---\n",
    "\n",
    "> [AFL Tables](https://afltables.com/afl/stats/stats_idx.html)\n",
    "<img src='img/afltables.png'>\n",
    "\n",
    "---\n",
    "\n",
    ">[aussportsbetting.com](http://www.aussportsbetting.com/data/historical-afl-results-and-odds-data/)\n",
    "<img src='img/aussportsbetting.png'>\n",
    "\n",
    "Since we are unable to use the game statistics of the current game to predict the outcome (\"Duh! Otherwise we'd all be millionaires.\") We are going to have to do a lot of feature preprocessing to create predictors for our models. Some important ones that come to mind are:\n",
    "\n",
    "* Previous year's ladder score\n",
    "\n",
    "* Head-on-head data\n",
    "\n",
    "* Current form for the team\n",
    "\n",
    "* Premiership match?\n",
    "\n",
    "But first lets import some dependencies"
   ]
  },
  {
   "cell_type": "markdown",
   "metadata": {},
   "source": [
    "#### Import Dependencies\n",
    "---"
   ]
  },
  {
   "cell_type": "code",
   "execution_count": 1,
   "metadata": {
    "collapsed": true
   },
   "outputs": [],
   "source": [
    "# Imports dependencies\n",
    "import matplotlib.pyplot as plt\n",
    "import numpy as np\n",
    "import pandas as pd\n",
    "import seaborn as sns\n",
    "\n",
    "import warnings\n",
    "warnings.filterwarnings('ignore')\n",
    "\n",
    "plt.style.use('fivethirtyeight')\n",
    "\n",
    "%matplotlib inline"
   ]
  },
  {
   "cell_type": "markdown",
   "metadata": {},
   "source": [
    "#### Exploring the dataset\n",
    "\n",
    "Since the data was originally meant for predicting the winners of premiership games, the data is actually split up into two parts. Finals and Season, because of this we would need to merge the two dataframes together.\n",
    "\n",
    "But first lets have a look to make sure that the data is A-OK."
   ]
  },
  {
   "cell_type": "code",
   "execution_count": 2,
   "metadata": {
    "collapsed": true
   },
   "outputs": [],
   "source": [
    "# Loads the data for finals and season games: finals, season\n",
    "finals = pd.read_csv(\"data/finals.csv\")\n",
    "season = pd.read_csv(\"data/seasons.csv\")"
   ]
  },
  {
   "cell_type": "code",
   "execution_count": 3,
   "metadata": {},
   "outputs": [
    {
     "name": "stdout",
     "output_type": "stream",
     "text": [
      "The dimensions of the season dataset is (2914, 37).\n",
      "The dimensions of the finals dataset is (136, 41).\n"
     ]
    }
   ],
   "source": [
    "# Displays the shape of each dataset\n",
    "\n",
    "print(\"The dimensions of the season dataset is {}.\".format(season.shape))\n",
    "print(\"The dimensions of the finals dataset is {}.\".format(finals.shape))"
   ]
  },
  {
   "cell_type": "code",
   "execution_count": 4,
   "metadata": {},
   "outputs": [
    {
     "data": {
      "text/html": [
       "<div>\n",
       "<style>\n",
       "    .dataframe thead tr:only-child th {\n",
       "        text-align: right;\n",
       "    }\n",
       "\n",
       "    .dataframe thead th {\n",
       "        text-align: left;\n",
       "    }\n",
       "\n",
       "    .dataframe tbody tr th {\n",
       "        vertical-align: top;\n",
       "    }\n",
       "</style>\n",
       "<table border=\"1\" class=\"dataframe\">\n",
       "  <thead>\n",
       "    <tr style=\"text-align: right;\">\n",
       "      <th></th>\n",
       "      <th>mid</th>\n",
       "      <th>season</th>\n",
       "      <th>round</th>\n",
       "      <th>tid1</th>\n",
       "      <th>tid2</th>\n",
       "      <th>tid1_loc</th>\n",
       "      <th>tid2_loc</th>\n",
       "      <th>start_dt</th>\n",
       "      <th>venue</th>\n",
       "      <th>att</th>\n",
       "      <th>...</th>\n",
       "      <th>a_tid</th>\n",
       "      <th>a_score</th>\n",
       "      <th>a_q1g</th>\n",
       "      <th>a_q2g</th>\n",
       "      <th>a_q3g</th>\n",
       "      <th>a_q4g</th>\n",
       "      <th>a_q1b</th>\n",
       "      <th>a_q2b</th>\n",
       "      <th>a_q3b</th>\n",
       "      <th>a_q4b</th>\n",
       "    </tr>\n",
       "  </thead>\n",
       "  <tbody>\n",
       "    <tr>\n",
       "      <th>0</th>\n",
       "      <td>2000_R01_111_114</td>\n",
       "      <td>2000</td>\n",
       "      <td>R01</td>\n",
       "      <td>111</td>\n",
       "      <td>114</td>\n",
       "      <td>a</td>\n",
       "      <td>h</td>\n",
       "      <td>2000-03-08 19:40</td>\n",
       "      <td>M.C.G.</td>\n",
       "      <td>41648</td>\n",
       "      <td>...</td>\n",
       "      <td>111</td>\n",
       "      <td>92</td>\n",
       "      <td>4</td>\n",
       "      <td>6</td>\n",
       "      <td>10</td>\n",
       "      <td>13</td>\n",
       "      <td>3</td>\n",
       "      <td>6</td>\n",
       "      <td>9</td>\n",
       "      <td>14</td>\n",
       "    </tr>\n",
       "    <tr>\n",
       "      <th>1</th>\n",
       "      <td>2000_R01_105_113</td>\n",
       "      <td>2000</td>\n",
       "      <td>R01</td>\n",
       "      <td>105</td>\n",
       "      <td>113</td>\n",
       "      <td>h</td>\n",
       "      <td>a</td>\n",
       "      <td>2000-03-09 20:15</td>\n",
       "      <td>Docklands</td>\n",
       "      <td>43012</td>\n",
       "      <td>...</td>\n",
       "      <td>113</td>\n",
       "      <td>62</td>\n",
       "      <td>0</td>\n",
       "      <td>2</td>\n",
       "      <td>6</td>\n",
       "      <td>8</td>\n",
       "      <td>3</td>\n",
       "      <td>8</td>\n",
       "      <td>13</td>\n",
       "      <td>14</td>\n",
       "    </tr>\n",
       "    <tr>\n",
       "      <th>2</th>\n",
       "      <td>2000_R01_112_117</td>\n",
       "      <td>2000</td>\n",
       "      <td>R01</td>\n",
       "      <td>112</td>\n",
       "      <td>117</td>\n",
       "      <td>h</td>\n",
       "      <td>a</td>\n",
       "      <td>2000-03-10 19:40</td>\n",
       "      <td>M.C.G.</td>\n",
       "      <td>20580</td>\n",
       "      <td>...</td>\n",
       "      <td>117</td>\n",
       "      <td>154</td>\n",
       "      <td>6</td>\n",
       "      <td>17</td>\n",
       "      <td>22</td>\n",
       "      <td>24</td>\n",
       "      <td>0</td>\n",
       "      <td>4</td>\n",
       "      <td>7</td>\n",
       "      <td>10</td>\n",
       "    </tr>\n",
       "  </tbody>\n",
       "</table>\n",
       "<p>3 rows × 37 columns</p>\n",
       "</div>"
      ],
      "text/plain": [
       "                mid  season round  tid1  tid2 tid1_loc tid2_loc  \\\n",
       "0  2000_R01_111_114    2000   R01   111   114        a        h   \n",
       "1  2000_R01_105_113    2000   R01   105   113        h        a   \n",
       "2  2000_R01_112_117    2000   R01   112   117        h        a   \n",
       "\n",
       "           start_dt      venue    att  ...    a_tid  a_score  a_q1g a_q2g  \\\n",
       "0  2000-03-08 19:40     M.C.G.  41648  ...      111       92      4     6   \n",
       "1  2000-03-09 20:15  Docklands  43012  ...      113       62      0     2   \n",
       "2  2000-03-10 19:40     M.C.G.  20580  ...      117      154      6    17   \n",
       "\n",
       "   a_q3g a_q4g  a_q1b  a_q2b  a_q3b  a_q4b  \n",
       "0     10    13      3      6      9     14  \n",
       "1      6     8      3      8     13     14  \n",
       "2     22    24      0      4      7     10  \n",
       "\n",
       "[3 rows x 37 columns]"
      ]
     },
     "execution_count": 4,
     "metadata": {},
     "output_type": "execute_result"
    }
   ],
   "source": [
    "# Displays the head of season\n",
    "season.head(3)"
   ]
  },
  {
   "cell_type": "code",
   "execution_count": 5,
   "metadata": {},
   "outputs": [
    {
     "data": {
      "text/html": [
       "<div>\n",
       "<style>\n",
       "    .dataframe thead tr:only-child th {\n",
       "        text-align: right;\n",
       "    }\n",
       "\n",
       "    .dataframe thead th {\n",
       "        text-align: left;\n",
       "    }\n",
       "\n",
       "    .dataframe tbody tr th {\n",
       "        vertical-align: top;\n",
       "    }\n",
       "</style>\n",
       "<table border=\"1\" class=\"dataframe\">\n",
       "  <thead>\n",
       "    <tr style=\"text-align: right;\">\n",
       "      <th></th>\n",
       "      <th>mid</th>\n",
       "      <th>season</th>\n",
       "      <th>round</th>\n",
       "      <th>tid1</th>\n",
       "      <th>tid2</th>\n",
       "      <th>tid1_loc</th>\n",
       "      <th>tid2_loc</th>\n",
       "      <th>start_dt</th>\n",
       "      <th>venue</th>\n",
       "      <th>att</th>\n",
       "      <th>...</th>\n",
       "      <th>a_q1g</th>\n",
       "      <th>a_q2g</th>\n",
       "      <th>a_q3g</th>\n",
       "      <th>a_q4g</th>\n",
       "      <th>a_etg</th>\n",
       "      <th>a_q1b</th>\n",
       "      <th>a_q2b</th>\n",
       "      <th>a_q3b</th>\n",
       "      <th>a_q4b</th>\n",
       "      <th>a_etb</th>\n",
       "    </tr>\n",
       "  </thead>\n",
       "  <tbody>\n",
       "    <tr>\n",
       "      <th>0</th>\n",
       "      <td>2000_EF_107_110</td>\n",
       "      <td>2000</td>\n",
       "      <td>EF</td>\n",
       "      <td>107</td>\n",
       "      <td>110</td>\n",
       "      <td>h</td>\n",
       "      <td>a</td>\n",
       "      <td>2000-08-11 19:45</td>\n",
       "      <td>Docklands</td>\n",
       "      <td>44709</td>\n",
       "      <td>...</td>\n",
       "      <td>4</td>\n",
       "      <td>6</td>\n",
       "      <td>11</td>\n",
       "      <td>14</td>\n",
       "      <td>0</td>\n",
       "      <td>2</td>\n",
       "      <td>3</td>\n",
       "      <td>5</td>\n",
       "      <td>8</td>\n",
       "      <td>0</td>\n",
       "    </tr>\n",
       "    <tr>\n",
       "      <th>1</th>\n",
       "      <td>2000_QF_105_112</td>\n",
       "      <td>2000</td>\n",
       "      <td>QF</td>\n",
       "      <td>105</td>\n",
       "      <td>112</td>\n",
       "      <td>h</td>\n",
       "      <td>a</td>\n",
       "      <td>2000-08-12 14:30</td>\n",
       "      <td>M.C.G.</td>\n",
       "      <td>68443</td>\n",
       "      <td>...</td>\n",
       "      <td>4</td>\n",
       "      <td>6</td>\n",
       "      <td>9</td>\n",
       "      <td>11</td>\n",
       "      <td>0</td>\n",
       "      <td>2</td>\n",
       "      <td>3</td>\n",
       "      <td>4</td>\n",
       "      <td>7</td>\n",
       "      <td>0</td>\n",
       "    </tr>\n",
       "    <tr>\n",
       "      <th>2</th>\n",
       "      <td>2000_EF_102_118</td>\n",
       "      <td>2000</td>\n",
       "      <td>EF</td>\n",
       "      <td>102</td>\n",
       "      <td>118</td>\n",
       "      <td>h</td>\n",
       "      <td>a</td>\n",
       "      <td>2000-08-12 19:45</td>\n",
       "      <td>Gabba</td>\n",
       "      <td>25925</td>\n",
       "      <td>...</td>\n",
       "      <td>3</td>\n",
       "      <td>5</td>\n",
       "      <td>7</td>\n",
       "      <td>10</td>\n",
       "      <td>0</td>\n",
       "      <td>3</td>\n",
       "      <td>7</td>\n",
       "      <td>13</td>\n",
       "      <td>16</td>\n",
       "      <td>0</td>\n",
       "    </tr>\n",
       "  </tbody>\n",
       "</table>\n",
       "<p>3 rows × 41 columns</p>\n",
       "</div>"
      ],
      "text/plain": [
       "               mid  season round  tid1  tid2 tid1_loc tid2_loc  \\\n",
       "0  2000_EF_107_110    2000    EF   107   110        h        a   \n",
       "1  2000_QF_105_112    2000    QF   105   112        h        a   \n",
       "2  2000_EF_102_118    2000    EF   102   118        h        a   \n",
       "\n",
       "           start_dt      venue    att  ...    a_q1g  a_q2g  a_q3g a_q4g  \\\n",
       "0  2000-08-11 19:45  Docklands  44709  ...        4      6     11    14   \n",
       "1  2000-08-12 14:30     M.C.G.  68443  ...        4      6      9    11   \n",
       "2  2000-08-12 19:45      Gabba  25925  ...        3      5      7    10   \n",
       "\n",
       "   a_etg a_q1b  a_q2b  a_q3b  a_q4b  a_etb  \n",
       "0      0     2      3      5      8      0  \n",
       "1      0     2      3      4      7      0  \n",
       "2      0     3      7     13     16      0  \n",
       "\n",
       "[3 rows x 41 columns]"
      ]
     },
     "execution_count": 5,
     "metadata": {},
     "output_type": "execute_result"
    }
   ],
   "source": [
    "# Displays the head of finals\n",
    "finals.head(3)"
   ]
  },
  {
   "cell_type": "markdown",
   "metadata": {},
   "source": [
    "### Premiership Matches\n",
    "\n",
    "Before we concatenate the two models, we're going to make premiership matches an predictor, to do this we're going to modify the round columns for both datasets"
   ]
  },
  {
   "cell_type": "code",
   "execution_count": 6,
   "metadata": {
    "collapsed": true
   },
   "outputs": [],
   "source": [
    "finals[\"round\"] = 1\n",
    "season[\"round\"] = 0"
   ]
  },
  {
   "cell_type": "code",
   "execution_count": 7,
   "metadata": {},
   "outputs": [
    {
     "name": "stdout",
     "output_type": "stream",
     "text": [
      "Index(['a_etb', 'a_etg', 'h_etb', 'h_etg'], dtype='object')\n"
     ]
    },
    {
     "data": {
      "text/html": [
       "<div>\n",
       "<style>\n",
       "    .dataframe thead tr:only-child th {\n",
       "        text-align: right;\n",
       "    }\n",
       "\n",
       "    .dataframe thead th {\n",
       "        text-align: left;\n",
       "    }\n",
       "\n",
       "    .dataframe tbody tr th {\n",
       "        vertical-align: top;\n",
       "    }\n",
       "</style>\n",
       "<table border=\"1\" class=\"dataframe\">\n",
       "  <thead>\n",
       "    <tr style=\"text-align: right;\">\n",
       "      <th></th>\n",
       "      <th>mid</th>\n",
       "      <th>season</th>\n",
       "      <th>round</th>\n",
       "      <th>tid1</th>\n",
       "      <th>tid2</th>\n",
       "      <th>tid1_loc</th>\n",
       "      <th>tid2_loc</th>\n",
       "      <th>start_dt</th>\n",
       "      <th>venue</th>\n",
       "      <th>att</th>\n",
       "      <th>...</th>\n",
       "      <th>a_tid</th>\n",
       "      <th>a_score</th>\n",
       "      <th>a_q1g</th>\n",
       "      <th>a_q2g</th>\n",
       "      <th>a_q3g</th>\n",
       "      <th>a_q4g</th>\n",
       "      <th>a_q1b</th>\n",
       "      <th>a_q2b</th>\n",
       "      <th>a_q3b</th>\n",
       "      <th>a_q4b</th>\n",
       "    </tr>\n",
       "  </thead>\n",
       "  <tbody>\n",
       "    <tr>\n",
       "      <th>0</th>\n",
       "      <td>2000_EF_107_110</td>\n",
       "      <td>2000</td>\n",
       "      <td>1</td>\n",
       "      <td>107</td>\n",
       "      <td>110</td>\n",
       "      <td>h</td>\n",
       "      <td>a</td>\n",
       "      <td>2000-08-11 19:45</td>\n",
       "      <td>Docklands</td>\n",
       "      <td>44709</td>\n",
       "      <td>...</td>\n",
       "      <td>110</td>\n",
       "      <td>92</td>\n",
       "      <td>4</td>\n",
       "      <td>6</td>\n",
       "      <td>11</td>\n",
       "      <td>14</td>\n",
       "      <td>2</td>\n",
       "      <td>3</td>\n",
       "      <td>5</td>\n",
       "      <td>8</td>\n",
       "    </tr>\n",
       "    <tr>\n",
       "      <th>1</th>\n",
       "      <td>2000_QF_105_112</td>\n",
       "      <td>2000</td>\n",
       "      <td>1</td>\n",
       "      <td>105</td>\n",
       "      <td>112</td>\n",
       "      <td>h</td>\n",
       "      <td>a</td>\n",
       "      <td>2000-08-12 14:30</td>\n",
       "      <td>M.C.G.</td>\n",
       "      <td>68443</td>\n",
       "      <td>...</td>\n",
       "      <td>112</td>\n",
       "      <td>73</td>\n",
       "      <td>4</td>\n",
       "      <td>6</td>\n",
       "      <td>9</td>\n",
       "      <td>11</td>\n",
       "      <td>2</td>\n",
       "      <td>3</td>\n",
       "      <td>4</td>\n",
       "      <td>7</td>\n",
       "    </tr>\n",
       "    <tr>\n",
       "      <th>2</th>\n",
       "      <td>2000_EF_102_118</td>\n",
       "      <td>2000</td>\n",
       "      <td>1</td>\n",
       "      <td>102</td>\n",
       "      <td>118</td>\n",
       "      <td>h</td>\n",
       "      <td>a</td>\n",
       "      <td>2000-08-12 19:45</td>\n",
       "      <td>Gabba</td>\n",
       "      <td>25925</td>\n",
       "      <td>...</td>\n",
       "      <td>118</td>\n",
       "      <td>76</td>\n",
       "      <td>3</td>\n",
       "      <td>5</td>\n",
       "      <td>7</td>\n",
       "      <td>10</td>\n",
       "      <td>3</td>\n",
       "      <td>7</td>\n",
       "      <td>13</td>\n",
       "      <td>16</td>\n",
       "    </tr>\n",
       "  </tbody>\n",
       "</table>\n",
       "<p>3 rows × 37 columns</p>\n",
       "</div>"
      ],
      "text/plain": [
       "               mid  season  round  tid1  tid2 tid1_loc tid2_loc  \\\n",
       "0  2000_EF_107_110    2000      1   107   110        h        a   \n",
       "1  2000_QF_105_112    2000      1   105   112        h        a   \n",
       "2  2000_EF_102_118    2000      1   102   118        h        a   \n",
       "\n",
       "           start_dt      venue    att  ...    a_tid  a_score  a_q1g a_q2g  \\\n",
       "0  2000-08-11 19:45  Docklands  44709  ...      110       92      4     6   \n",
       "1  2000-08-12 14:30     M.C.G.  68443  ...      112       73      4     6   \n",
       "2  2000-08-12 19:45      Gabba  25925  ...      118       76      3     5   \n",
       "\n",
       "   a_q3g a_q4g  a_q1b  a_q2b  a_q3b  a_q4b  \n",
       "0     11    14      2      3      5      8  \n",
       "1      9    11      2      3      4      7  \n",
       "2      7    10      3      7     13     16  \n",
       "\n",
       "[3 rows x 37 columns]"
      ]
     },
     "execution_count": 7,
     "metadata": {},
     "output_type": "execute_result"
    }
   ],
   "source": [
    "# As there are 4 more columns in the finals dataframe compared with the season, we're going to find the difference betweeen\n",
    "# the two, if the attributes are non important we will drop them\n",
    "\n",
    "# Prints the difference of the two dataframes\n",
    "print(finals.columns.difference(season.columns))\n",
    "\n",
    "# Drops the columns as they are not important\n",
    "finals.drop(finals.columns.difference(season.columns), axis = 1, inplace = True, errors = \"ignore\")\n",
    "\n",
    "finals.head(3)"
   ]
  },
  {
   "cell_type": "code",
   "execution_count": 8,
   "metadata": {},
   "outputs": [
    {
     "name": "stdout",
     "output_type": "stream",
     "text": [
      "The dimensions of the full_matches dataset is (3050, 37).\n"
     ]
    },
    {
     "data": {
      "text/html": [
       "<div>\n",
       "<style>\n",
       "    .dataframe thead tr:only-child th {\n",
       "        text-align: right;\n",
       "    }\n",
       "\n",
       "    .dataframe thead th {\n",
       "        text-align: left;\n",
       "    }\n",
       "\n",
       "    .dataframe tbody tr th {\n",
       "        vertical-align: top;\n",
       "    }\n",
       "</style>\n",
       "<table border=\"1\" class=\"dataframe\">\n",
       "  <thead>\n",
       "    <tr style=\"text-align: right;\">\n",
       "      <th></th>\n",
       "      <th>mid</th>\n",
       "      <th>season</th>\n",
       "      <th>round</th>\n",
       "      <th>tid1</th>\n",
       "      <th>tid2</th>\n",
       "      <th>tid1_loc</th>\n",
       "      <th>tid2_loc</th>\n",
       "      <th>start_dt</th>\n",
       "      <th>venue</th>\n",
       "      <th>att</th>\n",
       "      <th>...</th>\n",
       "      <th>a_tid</th>\n",
       "      <th>a_score</th>\n",
       "      <th>a_q1g</th>\n",
       "      <th>a_q2g</th>\n",
       "      <th>a_q3g</th>\n",
       "      <th>a_q4g</th>\n",
       "      <th>a_q1b</th>\n",
       "      <th>a_q2b</th>\n",
       "      <th>a_q3b</th>\n",
       "      <th>a_q4b</th>\n",
       "    </tr>\n",
       "  </thead>\n",
       "  <tbody>\n",
       "    <tr>\n",
       "      <th>0</th>\n",
       "      <td>2000_R01_111_114</td>\n",
       "      <td>2000</td>\n",
       "      <td>0</td>\n",
       "      <td>111</td>\n",
       "      <td>114</td>\n",
       "      <td>a</td>\n",
       "      <td>h</td>\n",
       "      <td>2000-03-08 19:40</td>\n",
       "      <td>M.C.G.</td>\n",
       "      <td>41648</td>\n",
       "      <td>...</td>\n",
       "      <td>111</td>\n",
       "      <td>92</td>\n",
       "      <td>4</td>\n",
       "      <td>6</td>\n",
       "      <td>10</td>\n",
       "      <td>13</td>\n",
       "      <td>3</td>\n",
       "      <td>6</td>\n",
       "      <td>9</td>\n",
       "      <td>14</td>\n",
       "    </tr>\n",
       "    <tr>\n",
       "      <th>1</th>\n",
       "      <td>2000_R01_105_113</td>\n",
       "      <td>2000</td>\n",
       "      <td>0</td>\n",
       "      <td>105</td>\n",
       "      <td>113</td>\n",
       "      <td>h</td>\n",
       "      <td>a</td>\n",
       "      <td>2000-03-09 20:15</td>\n",
       "      <td>Docklands</td>\n",
       "      <td>43012</td>\n",
       "      <td>...</td>\n",
       "      <td>113</td>\n",
       "      <td>62</td>\n",
       "      <td>0</td>\n",
       "      <td>2</td>\n",
       "      <td>6</td>\n",
       "      <td>8</td>\n",
       "      <td>3</td>\n",
       "      <td>8</td>\n",
       "      <td>13</td>\n",
       "      <td>14</td>\n",
       "    </tr>\n",
       "    <tr>\n",
       "      <th>2</th>\n",
       "      <td>2000_R01_112_117</td>\n",
       "      <td>2000</td>\n",
       "      <td>0</td>\n",
       "      <td>112</td>\n",
       "      <td>117</td>\n",
       "      <td>h</td>\n",
       "      <td>a</td>\n",
       "      <td>2000-03-10 19:40</td>\n",
       "      <td>M.C.G.</td>\n",
       "      <td>20580</td>\n",
       "      <td>...</td>\n",
       "      <td>117</td>\n",
       "      <td>154</td>\n",
       "      <td>6</td>\n",
       "      <td>17</td>\n",
       "      <td>22</td>\n",
       "      <td>24</td>\n",
       "      <td>0</td>\n",
       "      <td>4</td>\n",
       "      <td>7</td>\n",
       "      <td>10</td>\n",
       "    </tr>\n",
       "  </tbody>\n",
       "</table>\n",
       "<p>3 rows × 37 columns</p>\n",
       "</div>"
      ],
      "text/plain": [
       "                mid  season  round  tid1  tid2 tid1_loc tid2_loc  \\\n",
       "0  2000_R01_111_114    2000      0   111   114        a        h   \n",
       "1  2000_R01_105_113    2000      0   105   113        h        a   \n",
       "2  2000_R01_112_117    2000      0   112   117        h        a   \n",
       "\n",
       "           start_dt      venue    att  ...    a_tid  a_score  a_q1g a_q2g  \\\n",
       "0  2000-03-08 19:40     M.C.G.  41648  ...      111       92      4     6   \n",
       "1  2000-03-09 20:15  Docklands  43012  ...      113       62      0     2   \n",
       "2  2000-03-10 19:40     M.C.G.  20580  ...      117      154      6    17   \n",
       "\n",
       "   a_q3g a_q4g  a_q1b  a_q2b  a_q3b  a_q4b  \n",
       "0     10    13      3      6      9     14  \n",
       "1      6     8      3      8     13     14  \n",
       "2     22    24      0      4      7     10  \n",
       "\n",
       "[3 rows x 37 columns]"
      ]
     },
     "execution_count": 8,
     "metadata": {},
     "output_type": "execute_result"
    }
   ],
   "source": [
    "# Combining the two dataframes, finals and season: full_matches\n",
    "full_matches = pd.concat([season, finals])\n",
    "\n",
    "# Prints the dimensions of the full dataset\n",
    "print(\"The dimensions of the full_matches dataset is {}.\".format(full_matches.shape))\n",
    "\n",
    "# Displays the head of the full dataset\n",
    "full_matches.head(3)"
   ]
  },
  {
   "cell_type": "code",
   "execution_count": 9,
   "metadata": {
    "collapsed": true
   },
   "outputs": [],
   "source": [
    "# Resets the index and sorts by date\n",
    "full_matches = full_matches.reset_index(drop=True).sort_values(by=\"start_dt\")"
   ]
  },
  {
   "cell_type": "code",
   "execution_count": 10,
   "metadata": {
    "collapsed": true
   },
   "outputs": [],
   "source": [
    "# Changes the start_dt column to a datetime format\n",
    "full_matches[\"start_dt\"] = pd.to_datetime(full_matches[\"start_dt\"])"
   ]
  },
  {
   "cell_type": "code",
   "execution_count": 11,
   "metadata": {},
   "outputs": [
    {
     "data": {
      "text/plain": [
       "start_dt    datetime64[ns]\n",
       "dtype: object"
      ]
     },
     "execution_count": 11,
     "metadata": {},
     "output_type": "execute_result"
    }
   ],
   "source": [
    "# Confirms that start_dt is in a datetime format\n",
    "full_matches[[\"start_dt\"]].dtypes"
   ]
  },
  {
   "cell_type": "code",
   "execution_count": 12,
   "metadata": {},
   "outputs": [
    {
     "name": "stdout",
     "output_type": "stream",
     "text": [
      "<class 'pandas.core.frame.DataFrame'>\n",
      "Int64Index: 3050 entries, 0 to 2913\n",
      "Data columns (total 37 columns):\n",
      "mid           3050 non-null object\n",
      "season        3050 non-null int64\n",
      "round         3050 non-null int64\n",
      "tid1          3050 non-null int64\n",
      "tid2          3050 non-null int64\n",
      "tid1_loc      3050 non-null object\n",
      "tid2_loc      3050 non-null object\n",
      "start_dt      3050 non-null datetime64[ns]\n",
      "venue         3050 non-null object\n",
      "att           3050 non-null int64\n",
      "margin        3050 non-null int64\n",
      "win_score     3050 non-null int64\n",
      "win_tid       3050 non-null int64\n",
      "win_loc       3050 non-null object\n",
      "lose_score    3050 non-null int64\n",
      "lose_loc      3050 non-null object\n",
      "lose_tid      3050 non-null int64\n",
      "h_tid         3050 non-null int64\n",
      "h_score       3050 non-null int64\n",
      "h_q1g         3050 non-null int64\n",
      "h_q2g         3050 non-null int64\n",
      "h_q3g         3050 non-null int64\n",
      "h_q4g         3050 non-null int64\n",
      "h_q1b         3050 non-null int64\n",
      "h_q2b         3050 non-null int64\n",
      "h_q3b         3050 non-null int64\n",
      "h_q4b         3050 non-null int64\n",
      "a_tid         3050 non-null int64\n",
      "a_score       3050 non-null int64\n",
      "a_q1g         3050 non-null int64\n",
      "a_q2g         3050 non-null int64\n",
      "a_q3g         3050 non-null int64\n",
      "a_q4g         3050 non-null int64\n",
      "a_q1b         3050 non-null int64\n",
      "a_q2b         3050 non-null int64\n",
      "a_q3b         3050 non-null int64\n",
      "a_q4b         3050 non-null int64\n",
      "dtypes: datetime64[ns](1), int64(30), object(6)\n",
      "memory usage: 905.5+ KB\n"
     ]
    }
   ],
   "source": [
    "# Displays the info of the full dataset\n",
    "full_matches.info()"
   ]
  },
  {
   "cell_type": "code",
   "execution_count": 13,
   "metadata": {},
   "outputs": [
    {
     "data": {
      "image/png": "[encoded data removed]",
      "text/plain": [
       "<matplotlib.figure.Figure at 0x2a62b85d6a0>"
      ]
     },
     "metadata": {},
     "output_type": "display_data"
    }
   ],
   "source": [
    "fig, ax = plt.subplots(figsize = (14,8))\n",
    "\n",
    "sns.countplot(full_matches[\"win_loc\"])\n",
    "\n",
    "ax.set_title(\"Outcomes\", fontsize=20)\n",
    "\n",
    "ax.set_xlabel(\"Winning Team\", fontsize=15)\n",
    "ax.set_ylabel(\"Number of Wins\", fontsize=15)\n",
    "ax.set_xticklabels([\"Home\", \"Away\", \"Draw\"], fontsize=15)\n",
    "\n",
    "plt.show()"
   ]
  },
  {
   "cell_type": "code",
   "execution_count": 14,
   "metadata": {},
   "outputs": [
    {
     "data": {
      "text/plain": [
       "28"
      ]
     },
     "execution_count": 14,
     "metadata": {},
     "output_type": "execute_result"
    }
   ],
   "source": [
    "(full_matches[\"win_loc\"] == \"d\").sum()"
   ]
  },
  {
   "cell_type": "code",
   "execution_count": 15,
   "metadata": {},
   "outputs": [
    {
     "data": {
      "text/plain": [
       "0.009180327868852459"
      ]
     },
     "execution_count": 15,
     "metadata": {},
     "output_type": "execute_result"
    }
   ],
   "source": [
    "28/3050"
   ]
  },
  {
   "cell_type": "markdown",
   "metadata": {},
   "source": [
    "A large number of these columns are actually unneccessary to us since they refer to the score of the current game. Furthermore a lot of the information is also in another dataset that we have called **match_stats.csv**, as such we are only going to keep the ones that we need for now. \n",
    "\n",
    "While we're at it, we are also change the values in the win_loc column from \"h\", \"a\" and \"d\" to 1s and 0s. As a reminder our motivation for this section is to predict the probability of the home team winning, in which case we are not interested in draws. "
   ]
  },
  {
   "cell_type": "code",
   "execution_count": 16,
   "metadata": {
    "collapsed": true
   },
   "outputs": [],
   "source": [
    "# Keeps the columns of interest from the full_matches dataframe\n",
    "cols_tokeep = ['mid','start_dt', 'round','h_tid','a_tid', 'att', 'win_loc', 'season', \"win_score\", \"lose_score\"]\n",
    "full_matches = full_matches[cols_tokeep]"
   ]
  },
  {
   "cell_type": "code",
   "execution_count": 17,
   "metadata": {
    "collapsed": true
   },
   "outputs": [],
   "source": [
    "# Converts the win location (win_loc) column into a binary to prepare for a classification\n",
    "full_matches[\"win_loc\"] = full_matches[\"win_loc\"].map({\"h\": 1, \"a\":0,\"d\":0});"
   ]
  },
  {
   "cell_type": "code",
   "execution_count": 18,
   "metadata": {},
   "outputs": [
    {
     "data": {
      "text/html": [
       "<div>\n",
       "<style>\n",
       "    .dataframe thead tr:only-child th {\n",
       "        text-align: right;\n",
       "    }\n",
       "\n",
       "    .dataframe thead th {\n",
       "        text-align: left;\n",
       "    }\n",
       "\n",
       "    .dataframe tbody tr th {\n",
       "        vertical-align: top;\n",
       "    }\n",
       "</style>\n",
       "<table border=\"1\" class=\"dataframe\">\n",
       "  <thead>\n",
       "    <tr style=\"text-align: right;\">\n",
       "      <th></th>\n",
       "      <th>mid</th>\n",
       "      <th>start_dt</th>\n",
       "      <th>round</th>\n",
       "      <th>h_tid</th>\n",
       "      <th>a_tid</th>\n",
       "      <th>att</th>\n",
       "      <th>win_loc</th>\n",
       "      <th>season</th>\n",
       "      <th>win_score</th>\n",
       "      <th>lose_score</th>\n",
       "    </tr>\n",
       "  </thead>\n",
       "  <tbody>\n",
       "    <tr>\n",
       "      <th>0</th>\n",
       "      <td>2000_R01_111_114</td>\n",
       "      <td>2000-03-08 19:40:00</td>\n",
       "      <td>0</td>\n",
       "      <td>114</td>\n",
       "      <td>111</td>\n",
       "      <td>41648</td>\n",
       "      <td>1</td>\n",
       "      <td>2000</td>\n",
       "      <td>94</td>\n",
       "      <td>92</td>\n",
       "    </tr>\n",
       "    <tr>\n",
       "      <th>1</th>\n",
       "      <td>2000_R01_105_113</td>\n",
       "      <td>2000-03-09 20:15:00</td>\n",
       "      <td>0</td>\n",
       "      <td>105</td>\n",
       "      <td>113</td>\n",
       "      <td>43012</td>\n",
       "      <td>1</td>\n",
       "      <td>2000</td>\n",
       "      <td>156</td>\n",
       "      <td>62</td>\n",
       "    </tr>\n",
       "    <tr>\n",
       "      <th>2</th>\n",
       "      <td>2000_R01_112_117</td>\n",
       "      <td>2000-03-10 19:40:00</td>\n",
       "      <td>0</td>\n",
       "      <td>112</td>\n",
       "      <td>117</td>\n",
       "      <td>20580</td>\n",
       "      <td>0</td>\n",
       "      <td>2000</td>\n",
       "      <td>154</td>\n",
       "      <td>111</td>\n",
       "    </tr>\n",
       "  </tbody>\n",
       "</table>\n",
       "</div>"
      ],
      "text/plain": [
       "                mid            start_dt  round  h_tid  a_tid    att  win_loc  \\\n",
       "0  2000_R01_111_114 2000-03-08 19:40:00      0    114    111  41648        1   \n",
       "1  2000_R01_105_113 2000-03-09 20:15:00      0    105    113  43012        1   \n",
       "2  2000_R01_112_117 2000-03-10 19:40:00      0    112    117  20580        0   \n",
       "\n",
       "   season  win_score  lose_score  \n",
       "0    2000         94          92  \n",
       "1    2000        156          62  \n",
       "2    2000        154         111  "
      ]
     },
     "execution_count": 18,
     "metadata": {},
     "output_type": "execute_result"
    }
   ],
   "source": [
    "# Lets have a look at the head again\n",
    "full_matches.head(3)"
   ]
  },
  {
   "cell_type": "markdown",
   "metadata": {},
   "source": [
    "As we can see, there are actually no null values from the dataset (GREAT!). Now before we proceed further into the nitty gritty, lets have a look at the year on year attendanace."
   ]
  },
  {
   "cell_type": "code",
   "execution_count": 19,
   "metadata": {
    "collapsed": true
   },
   "outputs": [],
   "source": [
    "def value_format(x, pos):\n",
    "    \"\"\"\n",
    "    Formats any large value greater than 1,000,000 to use the M denotion. And values greater than 1000 to use the K denotion\n",
    "    \"\"\"\n",
    "    if x > 800000:\n",
    "        return '{:1.1f}M'.format(x*1e-6)\n",
    "    elif x > 1000:\n",
    "        return '{:1.1f}K'.format(x*1e-3)\n",
    "    else:\n",
    "        return x"
   ]
  },
  {
   "cell_type": "code",
   "execution_count": 20,
   "metadata": {},
   "outputs": [
    {
     "data": {
      "image/png": "[encoded data removed]",
      "text/plain": [
       "<matplotlib.figure.Figure at 0x2a62b85de80>"
      ]
     },
     "metadata": {},
     "output_type": "display_data"
    }
   ],
   "source": [
    "from matplotlib.ticker import FuncFormatter\n",
    "\n",
    "fig, ax = plt.subplots(figsize = (14,8))\n",
    "\n",
    "formatter = FuncFormatter(value_format)\n",
    "ax.yaxis.set_major_formatter(formatter)\n",
    "\n",
    "ax.set_title(\"Year on Year - Total AFL Attendance up to 2015\", fontsize=20)\n",
    "\n",
    "ax = full_matches[[\"season\", \"att\"]].groupby(\"season\").sum().plot(ax = ax)\n",
    "ax.set_ylabel(\"Attendance\", fontsize=15)\n",
    "ax.set_xlabel(\"Year\", fontsize=15)\n",
    "plt.show()"
   ]
  },
  {
   "cell_type": "markdown",
   "metadata": {},
   "source": [
    "Now do remember that this dataset was only till right before the 2015 premiership games.That explains the sharp drop in attendance after 2014."
   ]
  },
  {
   "cell_type": "code",
   "execution_count": 21,
   "metadata": {
    "collapsed": true
   },
   "outputs": [],
   "source": [
    "present_attendance = pd.read_html(\"https://afltables.com/afl/crowds/summary.html\", header = 2)[0][[\"Year\", \"Attendance.2\"]]"
   ]
  },
  {
   "cell_type": "code",
   "execution_count": 22,
   "metadata": {
    "collapsed": true
   },
   "outputs": [],
   "source": [
    "present_attendance.columns = \"Year\", \"Attendance\"\n",
    "present_attendance.sort_values(\"Year\", ascending=True, inplace=True)"
   ]
  },
  {
   "cell_type": "code",
   "execution_count": 23,
   "metadata": {
    "collapsed": true
   },
   "outputs": [],
   "source": [
    "present_attendance.set_index(\"Year\", inplace=True);"
   ]
  },
  {
   "cell_type": "code",
   "execution_count": 24,
   "metadata": {
    "collapsed": true
   },
   "outputs": [],
   "source": [
    "present_attendance.drop(\"Totals\", inplace=True, errors=\"ignore\")"
   ]
  },
  {
   "cell_type": "code",
   "execution_count": 25,
   "metadata": {},
   "outputs": [
    {
     "data": {
      "image/png": "[encoded data removed]",
      "text/plain": [
       "<matplotlib.figure.Figure at 0x2a62cc57f60>"
      ]
     },
     "metadata": {},
     "output_type": "display_data"
    }
   ],
   "source": [
    "fig, ax = plt.subplots(figsize = (14,8))\n",
    "\n",
    "ax.set_title(\"Year on Year - Total AFL Attendance up to 2017\", fontsize=20)\n",
    "\n",
    "formatter = FuncFormatter(value_format)\n",
    "ax.yaxis.set_major_formatter(formatter)\n",
    "\n",
    "ax = present_attendance.plot(ax=ax)\n",
    "ax.set_ylabel(\"Attendance\", fontsize=15)\n",
    "ax.set_xlabel(\"Year\", fontsize=15)\n",
    "\n",
    "plt.show()"
   ]
  },
  {
   "cell_type": "markdown",
   "metadata": {},
   "source": [
    "### Adding Previous years ladder fixures\n",
    "\n",
    "The next thing on our list would be to add the previous year's ladder scores for both the home and away teams. Altough teams do differ year on year, the large core part of a team remains unchanged. As such while naive, the previous year's results should prove to be a decent baseline for our model. \n",
    "\n",
    "To add the data into our dataset, we're going to create 2 new columns in full_matches. One for the home team and a second for the away team.\n",
    "\n",
    "**Note: It is important to mention that the data obtained only contained information from 2001 onwards. As such games from 2001 and before would not have a previous year's ladder score**\n",
    "\n",
    "As mentioned at the start, the data obtained in this section is scraped from the [official AFL site](http://www.afl.com.au/ladder.)"
   ]
  },
  {
   "cell_type": "code",
   "execution_count": 26,
   "metadata": {
    "collapsed": true
   },
   "outputs": [],
   "source": [
    "# Loads the ladder rankings: ladder_rankings\n",
    "ladder_rankings = pd.read_csv(\"data/ladder_rankings.csv\", index_col = 0)"
   ]
  },
  {
   "cell_type": "code",
   "execution_count": 27,
   "metadata": {},
   "outputs": [
    {
     "data": {
      "text/html": [
       "<div>\n",
       "<style>\n",
       "    .dataframe thead tr:only-child th {\n",
       "        text-align: right;\n",
       "    }\n",
       "\n",
       "    .dataframe thead th {\n",
       "        text-align: left;\n",
       "    }\n",
       "\n",
       "    .dataframe tbody tr th {\n",
       "        vertical-align: top;\n",
       "    }\n",
       "</style>\n",
       "<table border=\"1\" class=\"dataframe\">\n",
       "  <thead>\n",
       "    <tr style=\"text-align: right;\">\n",
       "      <th></th>\n",
       "      <th>tname</th>\n",
       "      <th>2017</th>\n",
       "      <th>2016</th>\n",
       "      <th>2015</th>\n",
       "      <th>2014</th>\n",
       "      <th>2013</th>\n",
       "      <th>2012</th>\n",
       "      <th>2011</th>\n",
       "      <th>2010</th>\n",
       "      <th>2009</th>\n",
       "      <th>2008</th>\n",
       "      <th>2007</th>\n",
       "      <th>2006</th>\n",
       "      <th>2005</th>\n",
       "      <th>2004</th>\n",
       "      <th>2003</th>\n",
       "      <th>2002</th>\n",
       "      <th>2001</th>\n",
       "    </tr>\n",
       "    <tr>\n",
       "      <th>tid</th>\n",
       "      <th></th>\n",
       "      <th></th>\n",
       "      <th></th>\n",
       "      <th></th>\n",
       "      <th></th>\n",
       "      <th></th>\n",
       "      <th></th>\n",
       "      <th></th>\n",
       "      <th></th>\n",
       "      <th></th>\n",
       "      <th></th>\n",
       "      <th></th>\n",
       "      <th></th>\n",
       "      <th></th>\n",
       "      <th></th>\n",
       "      <th></th>\n",
       "      <th></th>\n",
       "      <th></th>\n",
       "    </tr>\n",
       "  </thead>\n",
       "  <tbody>\n",
       "    <tr>\n",
       "      <th>101.0</th>\n",
       "      <td>Adelaide</td>\n",
       "      <td>62.0</td>\n",
       "      <td>64.0</td>\n",
       "      <td>54.0</td>\n",
       "      <td>44.0</td>\n",
       "      <td>40.0</td>\n",
       "      <td>68.0</td>\n",
       "      <td>28.0</td>\n",
       "      <td>36.0</td>\n",
       "      <td>56.0</td>\n",
       "      <td>52.0</td>\n",
       "      <td>48.0</td>\n",
       "      <td>64.0</td>\n",
       "      <td>68.0</td>\n",
       "      <td>68.0</td>\n",
       "      <td>14.0</td>\n",
       "      <td>60.0</td>\n",
       "      <td>48.0</td>\n",
       "    </tr>\n",
       "    <tr>\n",
       "      <th>102.0</th>\n",
       "      <td>Brisbane</td>\n",
       "      <td>20.0</td>\n",
       "      <td>12.0</td>\n",
       "      <td>16.0</td>\n",
       "      <td>28.0</td>\n",
       "      <td>40.0</td>\n",
       "      <td>40.0</td>\n",
       "      <td>16.0</td>\n",
       "      <td>28.0</td>\n",
       "      <td>54.0</td>\n",
       "      <td>40.0</td>\n",
       "      <td>40.0</td>\n",
       "      <td>28.0</td>\n",
       "      <td>40.0</td>\n",
       "      <td>64.0</td>\n",
       "      <td>16.0</td>\n",
       "      <td>68.0</td>\n",
       "      <td>68.0</td>\n",
       "    </tr>\n",
       "    <tr>\n",
       "      <th>103.0</th>\n",
       "      <td>Carlton</td>\n",
       "      <td>24.0</td>\n",
       "      <td>28.0</td>\n",
       "      <td>16.0</td>\n",
       "      <td>30.0</td>\n",
       "      <td>44.0</td>\n",
       "      <td>44.0</td>\n",
       "      <td>58.0</td>\n",
       "      <td>44.0</td>\n",
       "      <td>52.0</td>\n",
       "      <td>40.0</td>\n",
       "      <td>16.0</td>\n",
       "      <td>14.0</td>\n",
       "      <td>18.0</td>\n",
       "      <td>64.0</td>\n",
       "      <td>20.0</td>\n",
       "      <td>12.0</td>\n",
       "      <td>56.0</td>\n",
       "    </tr>\n",
       "  </tbody>\n",
       "</table>\n",
       "</div>"
      ],
      "text/plain": [
       "          tname  2017  2016  2015  2014  2013  2012  2011  2010  2009  2008  \\\n",
       "tid                                                                           \n",
       "101.0  Adelaide  62.0  64.0  54.0  44.0  40.0  68.0  28.0  36.0  56.0  52.0   \n",
       "102.0  Brisbane  20.0  12.0  16.0  28.0  40.0  40.0  16.0  28.0  54.0  40.0   \n",
       "103.0   Carlton  24.0  28.0  16.0  30.0  44.0  44.0  58.0  44.0  52.0  40.0   \n",
       "\n",
       "       2007  2006  2005  2004  2003  2002  2001  \n",
       "tid                                              \n",
       "101.0  48.0  64.0  68.0  68.0  14.0  60.0  48.0  \n",
       "102.0  40.0  28.0  40.0  64.0  16.0  68.0  68.0  \n",
       "103.0  16.0  14.0  18.0  64.0  20.0  12.0  56.0  "
      ]
     },
     "execution_count": 27,
     "metadata": {},
     "output_type": "execute_result"
    }
   ],
   "source": [
    "# Displays first 3 rows of ladder_rankings\n",
    "ladder_rankings.head(3)"
   ]
  },
  {
   "cell_type": "code",
   "execution_count": 28,
   "metadata": {
    "collapsed": true
   },
   "outputs": [],
   "source": [
    "def get_prev_score(tid, year):\n",
    "    \"\"\"\n",
    "    Returns the previous years ladder scores given home and away team id's and the year\n",
    "    \"\"\"\n",
    "    try:\n",
    "        prev_score = ladder_rankings.loc[tid, str(year-1)]\n",
    "    except KeyError:\n",
    "        prev_score = 0     \n",
    "    \n",
    "    return prev_score"
   ]
  },
  {
   "cell_type": "code",
   "execution_count": 29,
   "metadata": {
    "collapsed": true
   },
   "outputs": [],
   "source": [
    "# Initializes and concats the previous year scores for the home and away team: 'h_prev_score', 'a_prev_score'\n",
    "full_matches['h_prevladder_score'] = full_matches.apply(lambda row: get_prev_score(row[\"h_tid\"], row[\"season\"]), axis=1)\n",
    "full_matches['a_prevladder_score'] = full_matches.apply(lambda row: get_prev_score(row[\"a_tid\"], row[\"season\"]), axis=1)"
   ]
  },
  {
   "cell_type": "code",
   "execution_count": 30,
   "metadata": {
    "collapsed": true
   },
   "outputs": [],
   "source": [
    "#Looks at a few rows\n",
    "full_matches.sort_values(by=\"start_dt\", inplace=True)\n",
    "full_matches.reset_index(drop=True, inplace=True)"
   ]
  },
  {
   "cell_type": "code",
   "execution_count": 31,
   "metadata": {},
   "outputs": [
    {
     "data": {
      "text/html": [
       "<div>\n",
       "<style>\n",
       "    .dataframe thead tr:only-child th {\n",
       "        text-align: right;\n",
       "    }\n",
       "\n",
       "    .dataframe thead th {\n",
       "        text-align: left;\n",
       "    }\n",
       "\n",
       "    .dataframe tbody tr th {\n",
       "        vertical-align: top;\n",
       "    }\n",
       "</style>\n",
       "<table border=\"1\" class=\"dataframe\">\n",
       "  <thead>\n",
       "    <tr style=\"text-align: right;\">\n",
       "      <th></th>\n",
       "      <th>mid</th>\n",
       "      <th>start_dt</th>\n",
       "      <th>round</th>\n",
       "      <th>h_tid</th>\n",
       "      <th>a_tid</th>\n",
       "      <th>att</th>\n",
       "      <th>win_loc</th>\n",
       "      <th>season</th>\n",
       "      <th>win_score</th>\n",
       "      <th>lose_score</th>\n",
       "      <th>h_prevladder_score</th>\n",
       "      <th>a_prevladder_score</th>\n",
       "    </tr>\n",
       "  </thead>\n",
       "  <tbody>\n",
       "    <tr>\n",
       "      <th>3000</th>\n",
       "      <td>2015_R18_103_112</td>\n",
       "      <td>2015-08-01 19:20:00</td>\n",
       "      <td>0</td>\n",
       "      <td>103</td>\n",
       "      <td>112</td>\n",
       "      <td>25251</td>\n",
       "      <td>0</td>\n",
       "      <td>2015</td>\n",
       "      <td>118</td>\n",
       "      <td>54</td>\n",
       "      <td>30.0</td>\n",
       "      <td>56.0</td>\n",
       "    </tr>\n",
       "    <tr>\n",
       "      <th>3001</th>\n",
       "      <td>2015_R18_108_117</td>\n",
       "      <td>2015-08-01 19:20:00</td>\n",
       "      <td>0</td>\n",
       "      <td>108</td>\n",
       "      <td>117</td>\n",
       "      <td>9341</td>\n",
       "      <td>0</td>\n",
       "      <td>2015</td>\n",
       "      <td>83</td>\n",
       "      <td>83</td>\n",
       "      <td>40.0</td>\n",
       "      <td>44.0</td>\n",
       "    </tr>\n",
       "    <tr>\n",
       "      <th>3002</th>\n",
       "      <td>2015_R18_113_115</td>\n",
       "      <td>2015-08-02 12:40:00</td>\n",
       "      <td>0</td>\n",
       "      <td>113</td>\n",
       "      <td>115</td>\n",
       "      <td>36850</td>\n",
       "      <td>1</td>\n",
       "      <td>2015</td>\n",
       "      <td>112</td>\n",
       "      <td>49</td>\n",
       "      <td>56.0</td>\n",
       "      <td>16.0</td>\n",
       "    </tr>\n",
       "    <tr>\n",
       "      <th>3003</th>\n",
       "      <td>2015_R18_106_109</td>\n",
       "      <td>2015-08-02 14:40:00</td>\n",
       "      <td>0</td>\n",
       "      <td>106</td>\n",
       "      <td>109</td>\n",
       "      <td>34625</td>\n",
       "      <td>1</td>\n",
       "      <td>2015</td>\n",
       "      <td>84</td>\n",
       "      <td>63</td>\n",
       "      <td>64.0</td>\n",
       "      <td>24.0</td>\n",
       "    </tr>\n",
       "    <tr>\n",
       "      <th>3004</th>\n",
       "      <td>2015_R18_105_118</td>\n",
       "      <td>2015-08-02 15:20:00</td>\n",
       "      <td>0</td>\n",
       "      <td>105</td>\n",
       "      <td>118</td>\n",
       "      <td>33466</td>\n",
       "      <td>0</td>\n",
       "      <td>2015</td>\n",
       "      <td>127</td>\n",
       "      <td>40</td>\n",
       "      <td>50.0</td>\n",
       "      <td>28.0</td>\n",
       "    </tr>\n",
       "  </tbody>\n",
       "</table>\n",
       "</div>"
      ],
      "text/plain": [
       "                   mid            start_dt  round  h_tid  a_tid    att  \\\n",
       "3000  2015_R18_103_112 2015-08-01 19:20:00      0    103    112  25251   \n",
       "3001  2015_R18_108_117 2015-08-01 19:20:00      0    108    117   9341   \n",
       "3002  2015_R18_113_115 2015-08-02 12:40:00      0    113    115  36850   \n",
       "3003  2015_R18_106_109 2015-08-02 14:40:00      0    106    109  34625   \n",
       "3004  2015_R18_105_118 2015-08-02 15:20:00      0    105    118  33466   \n",
       "\n",
       "      win_loc  season  win_score  lose_score  h_prevladder_score  \\\n",
       "3000        0    2015        118          54                30.0   \n",
       "3001        0    2015         83          83                40.0   \n",
       "3002        1    2015        112          49                56.0   \n",
       "3003        1    2015         84          63                64.0   \n",
       "3004        0    2015        127          40                50.0   \n",
       "\n",
       "      a_prevladder_score  \n",
       "3000                56.0  \n",
       "3001                44.0  \n",
       "3002                16.0  \n",
       "3003                24.0  \n",
       "3004                28.0  "
      ]
     },
     "execution_count": 31,
     "metadata": {},
     "output_type": "execute_result"
    }
   ],
   "source": [
    "full_matches.iloc[3000:3005,:]"
   ]
  },
  {
   "cell_type": "markdown",
   "metadata": {},
   "source": [
    "### Changing team_ids to team names.\n",
    "\n",
    "Back to preprocessing. For the next part, we are simply converting the team_id columns to their respective team names. Although isnt neccessary, it helps keep my engagement throughout this project, being able to identify teams.\n",
    "\n",
    "<img src='img/afl_teams.jpg'>"
   ]
  },
  {
   "cell_type": "code",
   "execution_count": 32,
   "metadata": {},
   "outputs": [
    {
     "ename": "FileNotFoundError",
     "evalue": "File b'teams.csv' does not exist",
     "output_type": "error",
     "traceback": [
      "\u001b[1;31m---------------------------------------------------------------------------\u001b[0m",
      "\u001b[1;31mFileNotFoundError\u001b[0m                         Traceback (most recent call last)",
      "\u001b[1;32m<ipython-input-32-6060b633a18b>\u001b[0m in \u001b[0;36m<module>\u001b[1;34m()\u001b[0m\n\u001b[0;32m      1\u001b[0m \u001b[1;31m# Loads the data containing team names and their respective team ids: teams\u001b[0m\u001b[1;33m\u001b[0m\u001b[1;33m\u001b[0m\u001b[0m\n\u001b[1;32m----> 2\u001b[1;33m \u001b[0mteams\u001b[0m \u001b[1;33m=\u001b[0m \u001b[0mpd\u001b[0m\u001b[1;33m.\u001b[0m\u001b[0mread_csv\u001b[0m\u001b[1;33m(\u001b[0m\u001b[1;34m\"teams.csv\"\u001b[0m\u001b[1;33m,\u001b[0m \u001b[0mindex_col\u001b[0m \u001b[1;33m=\u001b[0m \u001b[1;36m0\u001b[0m\u001b[1;33m)\u001b[0m\u001b[1;33m\u001b[0m\u001b[0m\n\u001b[0m\u001b[0;32m      3\u001b[0m \u001b[1;33m\u001b[0m\u001b[0m\n\u001b[0;32m      4\u001b[0m \u001b[1;31m# Displays the head\u001b[0m\u001b[1;33m\u001b[0m\u001b[1;33m\u001b[0m\u001b[0m\n\u001b[0;32m      5\u001b[0m \u001b[0mteams\u001b[0m\u001b[1;33m.\u001b[0m\u001b[0mhead\u001b[0m\u001b[1;33m(\u001b[0m\u001b[1;36m3\u001b[0m\u001b[1;33m)\u001b[0m\u001b[1;33m\u001b[0m\u001b[0m\n",
      "\u001b[1;32mC:\\ProgramData\\Anaconda3\\lib\\site-packages\\pandas\\io\\parsers.py\u001b[0m in \u001b[0;36mparser_f\u001b[1;34m(filepath_or_buffer, sep, delimiter, header, names, index_col, usecols, squeeze, prefix, mangle_dupe_cols, dtype, engine, converters, true_values, false_values, skipinitialspace, skiprows, nrows, na_values, keep_default_na, na_filter, verbose, skip_blank_lines, parse_dates, infer_datetime_format, keep_date_col, date_parser, dayfirst, iterator, chunksize, compression, thousands, decimal, lineterminator, quotechar, quoting, escapechar, comment, encoding, dialect, tupleize_cols, error_bad_lines, warn_bad_lines, skipfooter, skip_footer, doublequote, delim_whitespace, as_recarray, compact_ints, use_unsigned, low_memory, buffer_lines, memory_map, float_precision)\u001b[0m\n\u001b[0;32m    653\u001b[0m                     skip_blank_lines=skip_blank_lines)\n\u001b[0;32m    654\u001b[0m \u001b[1;33m\u001b[0m\u001b[0m\n\u001b[1;32m--> 655\u001b[1;33m         \u001b[1;32mreturn\u001b[0m \u001b[0m_read\u001b[0m\u001b[1;33m(\u001b[0m\u001b[0mfilepath_or_buffer\u001b[0m\u001b[1;33m,\u001b[0m \u001b[0mkwds\u001b[0m\u001b[1;33m)\u001b[0m\u001b[1;33m\u001b[0m\u001b[0m\n\u001b[0m\u001b[0;32m    656\u001b[0m \u001b[1;33m\u001b[0m\u001b[0m\n\u001b[0;32m    657\u001b[0m     \u001b[0mparser_f\u001b[0m\u001b[1;33m.\u001b[0m\u001b[0m__name__\u001b[0m \u001b[1;33m=\u001b[0m \u001b[0mname\u001b[0m\u001b[1;33m\u001b[0m\u001b[0m\n",
      "\u001b[1;32mC:\\ProgramData\\Anaconda3\\lib\\site-packages\\pandas\\io\\parsers.py\u001b[0m in \u001b[0;36m_read\u001b[1;34m(filepath_or_buffer, kwds)\u001b[0m\n\u001b[0;32m    403\u001b[0m \u001b[1;33m\u001b[0m\u001b[0m\n\u001b[0;32m    404\u001b[0m     \u001b[1;31m# Create the parser.\u001b[0m\u001b[1;33m\u001b[0m\u001b[1;33m\u001b[0m\u001b[0m\n\u001b[1;32m--> 405\u001b[1;33m     \u001b[0mparser\u001b[0m \u001b[1;33m=\u001b[0m \u001b[0mTextFileReader\u001b[0m\u001b[1;33m(\u001b[0m\u001b[0mfilepath_or_buffer\u001b[0m\u001b[1;33m,\u001b[0m \u001b[1;33m**\u001b[0m\u001b[0mkwds\u001b[0m\u001b[1;33m)\u001b[0m\u001b[1;33m\u001b[0m\u001b[0m\n\u001b[0m\u001b[0;32m    406\u001b[0m \u001b[1;33m\u001b[0m\u001b[0m\n\u001b[0;32m    407\u001b[0m     \u001b[1;32mif\u001b[0m \u001b[0mchunksize\u001b[0m \u001b[1;32mor\u001b[0m \u001b[0miterator\u001b[0m\u001b[1;33m:\u001b[0m\u001b[1;33m\u001b[0m\u001b[0m\n",
      "\u001b[1;32mC:\\ProgramData\\Anaconda3\\lib\\site-packages\\pandas\\io\\parsers.py\u001b[0m in \u001b[0;36m__init__\u001b[1;34m(self, f, engine, **kwds)\u001b[0m\n\u001b[0;32m    762\u001b[0m             \u001b[0mself\u001b[0m\u001b[1;33m.\u001b[0m\u001b[0moptions\u001b[0m\u001b[1;33m[\u001b[0m\u001b[1;34m'has_index_names'\u001b[0m\u001b[1;33m]\u001b[0m \u001b[1;33m=\u001b[0m \u001b[0mkwds\u001b[0m\u001b[1;33m[\u001b[0m\u001b[1;34m'has_index_names'\u001b[0m\u001b[1;33m]\u001b[0m\u001b[1;33m\u001b[0m\u001b[0m\n\u001b[0;32m    763\u001b[0m \u001b[1;33m\u001b[0m\u001b[0m\n\u001b[1;32m--> 764\u001b[1;33m         \u001b[0mself\u001b[0m\u001b[1;33m.\u001b[0m\u001b[0m_make_engine\u001b[0m\u001b[1;33m(\u001b[0m\u001b[0mself\u001b[0m\u001b[1;33m.\u001b[0m\u001b[0mengine\u001b[0m\u001b[1;33m)\u001b[0m\u001b[1;33m\u001b[0m\u001b[0m\n\u001b[0m\u001b[0;32m    765\u001b[0m \u001b[1;33m\u001b[0m\u001b[0m\n\u001b[0;32m    766\u001b[0m     \u001b[1;32mdef\u001b[0m \u001b[0mclose\u001b[0m\u001b[1;33m(\u001b[0m\u001b[0mself\u001b[0m\u001b[1;33m)\u001b[0m\u001b[1;33m:\u001b[0m\u001b[1;33m\u001b[0m\u001b[0m\n",
      "\u001b[1;32mC:\\ProgramData\\Anaconda3\\lib\\site-packages\\pandas\\io\\parsers.py\u001b[0m in \u001b[0;36m_make_engine\u001b[1;34m(self, engine)\u001b[0m\n\u001b[0;32m    983\u001b[0m     \u001b[1;32mdef\u001b[0m \u001b[0m_make_engine\u001b[0m\u001b[1;33m(\u001b[0m\u001b[0mself\u001b[0m\u001b[1;33m,\u001b[0m \u001b[0mengine\u001b[0m\u001b[1;33m=\u001b[0m\u001b[1;34m'c'\u001b[0m\u001b[1;33m)\u001b[0m\u001b[1;33m:\u001b[0m\u001b[1;33m\u001b[0m\u001b[0m\n\u001b[0;32m    984\u001b[0m         \u001b[1;32mif\u001b[0m \u001b[0mengine\u001b[0m \u001b[1;33m==\u001b[0m \u001b[1;34m'c'\u001b[0m\u001b[1;33m:\u001b[0m\u001b[1;33m\u001b[0m\u001b[0m\n\u001b[1;32m--> 985\u001b[1;33m             \u001b[0mself\u001b[0m\u001b[1;33m.\u001b[0m\u001b[0m_engine\u001b[0m \u001b[1;33m=\u001b[0m \u001b[0mCParserWrapper\u001b[0m\u001b[1;33m(\u001b[0m\u001b[0mself\u001b[0m\u001b[1;33m.\u001b[0m\u001b[0mf\u001b[0m\u001b[1;33m,\u001b[0m \u001b[1;33m**\u001b[0m\u001b[0mself\u001b[0m\u001b[1;33m.\u001b[0m\u001b[0moptions\u001b[0m\u001b[1;33m)\u001b[0m\u001b[1;33m\u001b[0m\u001b[0m\n\u001b[0m\u001b[0;32m    986\u001b[0m         \u001b[1;32melse\u001b[0m\u001b[1;33m:\u001b[0m\u001b[1;33m\u001b[0m\u001b[0m\n\u001b[0;32m    987\u001b[0m             \u001b[1;32mif\u001b[0m \u001b[0mengine\u001b[0m \u001b[1;33m==\u001b[0m \u001b[1;34m'python'\u001b[0m\u001b[1;33m:\u001b[0m\u001b[1;33m\u001b[0m\u001b[0m\n",
      "\u001b[1;32mC:\\ProgramData\\Anaconda3\\lib\\site-packages\\pandas\\io\\parsers.py\u001b[0m in \u001b[0;36m__init__\u001b[1;34m(self, src, **kwds)\u001b[0m\n\u001b[0;32m   1603\u001b[0m         \u001b[0mkwds\u001b[0m\u001b[1;33m[\u001b[0m\u001b[1;34m'allow_leading_cols'\u001b[0m\u001b[1;33m]\u001b[0m \u001b[1;33m=\u001b[0m \u001b[0mself\u001b[0m\u001b[1;33m.\u001b[0m\u001b[0mindex_col\u001b[0m \u001b[1;32mis\u001b[0m \u001b[1;32mnot\u001b[0m \u001b[1;32mFalse\u001b[0m\u001b[1;33m\u001b[0m\u001b[0m\n\u001b[0;32m   1604\u001b[0m \u001b[1;33m\u001b[0m\u001b[0m\n\u001b[1;32m-> 1605\u001b[1;33m         \u001b[0mself\u001b[0m\u001b[1;33m.\u001b[0m\u001b[0m_reader\u001b[0m \u001b[1;33m=\u001b[0m \u001b[0mparsers\u001b[0m\u001b[1;33m.\u001b[0m\u001b[0mTextReader\u001b[0m\u001b[1;33m(\u001b[0m\u001b[0msrc\u001b[0m\u001b[1;33m,\u001b[0m \u001b[1;33m**\u001b[0m\u001b[0mkwds\u001b[0m\u001b[1;33m)\u001b[0m\u001b[1;33m\u001b[0m\u001b[0m\n\u001b[0m\u001b[0;32m   1606\u001b[0m \u001b[1;33m\u001b[0m\u001b[0m\n\u001b[0;32m   1607\u001b[0m         \u001b[1;31m# XXX\u001b[0m\u001b[1;33m\u001b[0m\u001b[1;33m\u001b[0m\u001b[0m\n",
      "\u001b[1;32mpandas/_libs/parsers.pyx\u001b[0m in \u001b[0;36mpandas._libs.parsers.TextReader.__cinit__ (pandas\\_libs\\parsers.c:4209)\u001b[1;34m()\u001b[0m\n",
      "\u001b[1;32mpandas/_libs/parsers.pyx\u001b[0m in \u001b[0;36mpandas._libs.parsers.TextReader._setup_parser_source (pandas\\_libs\\parsers.c:8873)\u001b[1;34m()\u001b[0m\n",
      "\u001b[1;31mFileNotFoundError\u001b[0m: File b'teams.csv' does not exist"
     ]
    }
   ],
   "source": [
    "# Loads the data containing team names and their respective team ids: teams\n",
    "teams = pd.read_csv(\"teams.csv\", index_col = 0)\n",
    "\n",
    "# Displays the head\n",
    "teams.head(3)"
   ]
  },
  {
   "cell_type": "code",
   "execution_count": null,
   "metadata": {
    "collapsed": true
   },
   "outputs": [],
   "source": [
    "def id_toname(id):\n",
    "    \"\"\" Converts the team id to its respective team name. If the value is \"\"\"\n",
    "    if id == 100:\n",
    "        return \"Draw\"\n",
    "    else:\n",
    "        return teams.loc[id,\"tname\"]\n",
    "\n",
    "team_names = full_matches[[\"a_tid\", \"h_tid\"]].applymap(id_toname)"
   ]
  },
  {
   "cell_type": "code",
   "execution_count": null,
   "metadata": {
    "collapsed": true
   },
   "outputs": [],
   "source": [
    "# Changes the team ids to their respective team names.\n",
    "full_matches[\"h_tid\"]   = team_names[\"h_tid\"]\n",
    "full_matches[\"a_tid\"]   = team_names[\"a_tid\"]"
   ]
  },
  {
   "cell_type": "code",
   "execution_count": null,
   "metadata": {},
   "outputs": [],
   "source": [
    "full_matches.head(3)"
   ]
  },
  {
   "cell_type": "markdown",
   "metadata": {},
   "source": [
    "### Betting Odds - Head to Head\n",
    "\n",
    "For the head to head data, we are going to take the margin of the last 5 matches that those two teams had played against each other. The margin will be viewed from the perspective of the home team. \n",
    "\n",
    "e.g. If in the previous game Swans lost against the Hawthorn by 2 points. The margin for that game will be -2. Vice versa, if swans had one that game, the margin would be +2."
   ]
  },
  {
   "cell_type": "code",
   "execution_count": null,
   "metadata": {},
   "outputs": [],
   "source": [
    "full_matches.head(3)"
   ]
  },
  {
   "cell_type": "code",
   "execution_count": null,
   "metadata": {
    "collapsed": true
   },
   "outputs": [],
   "source": [
    "full_matches[\"margin\"] = full_matches[\"win_score\"] - full_matches[\"lose_score\"]"
   ]
  },
  {
   "cell_type": "code",
   "execution_count": null,
   "metadata": {},
   "outputs": [],
   "source": [
    "# Applies a lambda function which makes the turns the margin into a negative if winning team is not the same the home team\n",
    "\n",
    "full_matches[\"margin\"] = full_matches.apply(lambda row: -row[\"margin\"] if row[\"win_loc\"] == 0\n",
    "                                            else row[\"margin\"], axis=1)\n",
    "\n",
    "full_matches.head(3)"
   ]
  },
  {
   "cell_type": "code",
   "execution_count": null,
   "metadata": {
    "collapsed": true
   },
   "outputs": [],
   "source": [
    "# Drops the columns that are no longer of interest\n",
    "full_matches.drop([\"win_score\", \"lose_score\"], axis=1, inplace=True, errors=\"ignore\")"
   ]
  },
  {
   "cell_type": "code",
   "execution_count": null,
   "metadata": {
    "collapsed": true
   },
   "outputs": [],
   "source": [
    "def get_previous_margins(home_team, away_team, mid):\n",
    "    \"\"\"\n",
    "    Obtains the margin for the previous X games (5 being default) between these two teams\n",
    "    \n",
    "    \"\"\"\n",
    "    \n",
    "    years_to_shift = 5\n",
    "    \n",
    "    # Sets the condition such that either team can be home or away: condition\n",
    "    condition = ((full_matches[\"a_tid\"]==home_team) & (full_matches[\"h_tid\"]==away_team))|\\\n",
    "                ((full_matches[\"h_tid\"]==home_team) & (full_matches[\"a_tid\"]==away_team))\n",
    "    \n",
    "    # Finds all games in the full_matches dataframe that fits this condition: previous_faceoffs\n",
    "    previous_faceoffs = full_matches[condition]\n",
    "    \n",
    "    # Initiatlizes the index for the current match: index\n",
    "    index = previous_faceoffs.index[previous_faceoffs[\"mid\"] == mid][0]\n",
    "    \n",
    "    # Changes the margin to a negative if the home team in the current game, plays as an away team in a previous game\n",
    "    previous_faceoffs[\"margin\"] = previous_faceoffs.apply(lambda row: -row[\"margin\"] if home_team != row[\"h_tid\"]\n",
    "                                            else row[\"margin\"], axis=1)\n",
    "    \n",
    "    # Shifts the data depending on years_to_shift and concats it among itself: margins_data\n",
    "    margins_data = pd.concat((previous_faceoffs[[\"margin\"]].shift(x).add_suffix(\"_year{}\".format(x)) for x in range(1,years_to_shift+1)), axis = 1)\n",
    "    \n",
    "    # Concats the data with the previous faceoffs dataframe: combined_data\n",
    "    combined_data = pd.concat([previous_faceoffs, margins_data], axis = 1)\n",
    "    \n",
    "    # returns the margins of the previous X games\n",
    "    return combined_data.loc[index,\"margin_year1\":]"
   ]
  },
  {
   "cell_type": "code",
   "execution_count": null,
   "metadata": {
    "collapsed": true
   },
   "outputs": [],
   "source": [
    "home_team = \"Carlton\"\n",
    "away_team = \"North Melbourne\"\n",
    "mid = \"2015_R18_103_112\""
   ]
  },
  {
   "cell_type": "code",
   "execution_count": null,
   "metadata": {},
   "outputs": [],
   "source": [
    "# Initiates 5 columns filled with 0s to be filled with previous margins data\n",
    "full_matches[\"margins_prev_match1\"] = 0\n",
    "full_matches[\"margins_prev_match2\"] = 0\n",
    "full_matches[\"margins_prev_match3\"] = 0\n",
    "full_matches[\"margins_prev_match4\"] = 0\n",
    "full_matches[\"margins_prev_match5\"] = 0\n",
    "\n",
    "full_matches.head(3)"
   ]
  },
  {
   "cell_type": "code",
   "execution_count": null,
   "metadata": {
    "collapsed": true
   },
   "outputs": [],
   "source": [
    "# Applies a lambda function which makes the turns the margin into a negative if winning team is not the same the home team\n",
    "\n",
    "for index, row in full_matches.iterrows():\n",
    "    margins = get_previous_margins(row[\"h_tid\"], row[\"a_tid\"], row[\"mid\"])\n",
    "    full_matches.iloc[index,-5:] = list(margins)"
   ]
  },
  {
   "cell_type": "code",
   "execution_count": null,
   "metadata": {},
   "outputs": [],
   "source": [
    "full_matches.tail()"
   ]
  },
  {
   "cell_type": "code",
   "execution_count": null,
   "metadata": {},
   "outputs": [],
   "source": [
    "full_matches.isnull().sum()"
   ]
  },
  {
   "cell_type": "code",
   "execution_count": null,
   "metadata": {
    "collapsed": true
   },
   "outputs": [],
   "source": [
    "# Fills the null values with 0's\n",
    "full_matches.fillna(value=0, inplace =  True)"
   ]
  },
  {
   "cell_type": "code",
   "execution_count": null,
   "metadata": {
    "collapsed": true
   },
   "outputs": [],
   "source": [
    "# Drops the margin column as otherwise it would be highly correlated with win_loc\n",
    "full_matches.drop(\"margin\", axis=1, inplace=True, errors=\"ignore\")"
   ]
  },
  {
   "cell_type": "markdown",
   "metadata": {},
   "source": [
    "### Betting Odds - For Comparisons\n",
    "\n",
    "We're now approaching information that would be needed for Part 3 of our project (Maximising bet winnings). Unfortunately the data obtained from Sportsbet & CIKM did not inherently include the betting odds in their datasets. This raises a few problems, the first being that although the names of the teams are highly similar, there are small differences. \n",
    "\n",
    "If the changes are few and far between, these can be manually changed. But in the case of numerous differences, Fuzzy String Matching would have to be used to compare the two. "
   ]
  },
  {
   "cell_type": "code",
   "execution_count": null,
   "metadata": {},
   "outputs": [],
   "source": [
    "# Loads the dataset containing betting odds: betting_odss\n",
    "betting_odds = pd.read_csv(\"data/betting_odds.csv\")\n",
    "\n",
    "# Displays the head\n",
    "betting_odds.head(3)"
   ]
  },
  {
   "cell_type": "code",
   "execution_count": null,
   "metadata": {},
   "outputs": [],
   "source": [
    "print(\"The dimensions of the finals dataset is {}.\".format(betting_odds.shape))"
   ]
  },
  {
   "cell_type": "code",
   "execution_count": null,
   "metadata": {},
   "outputs": [],
   "source": [
    "# Lets have a look at the symmetric differences in team names between the datasets.\n",
    "\n",
    "print(betting_odds[\"Home Team\"].unique())\n",
    "\n",
    "set(teams[\"tname\"]).symmetric_difference(set(betting_odds[\"Home Team\"]))"
   ]
  },
  {
   "cell_type": "markdown",
   "metadata": {},
   "source": [
    "Since there are only two teams with different team names, we are going to change these mannually"
   ]
  },
  {
   "cell_type": "code",
   "execution_count": null,
   "metadata": {
    "collapsed": true
   },
   "outputs": [],
   "source": [
    "# Creates a loop that changes standardises the team names\n",
    "for col in [\"Home Team\", \"Away Team\"]:\n",
    "    betting_odds[col].apply(lambda x: \"Brisbane Lions\" if x == \"Brisbane\" else\n",
    "                              \"Greater Western Sydney\" if x == \"GWS Giants\" else 1)"
   ]
  },
  {
   "cell_type": "code",
   "execution_count": null,
   "metadata": {},
   "outputs": [],
   "source": [
    "# Checks for no different team names\n",
    "set(teams[\"tname\"]).symmetric_difference(set(betting_odds[\"Home Team\"]))"
   ]
  },
  {
   "cell_type": "code",
   "execution_count": null,
   "metadata": {},
   "outputs": [],
   "source": [
    "# Changes the column data type to datetime\n",
    "betting_odds[\"Date\"] = pd.to_datetime(betting_odds[\"Date\"])\n",
    "\n",
    "# Confirms that the column data type is datetime\n",
    "betting_odds[[\"Date\"]].dtypes"
   ]
  },
  {
   "cell_type": "code",
   "execution_count": null,
   "metadata": {
    "collapsed": true
   },
   "outputs": [],
   "source": [
    "# Keeps the columns of interest\n",
    "betting_odds = betting_odds[[\"Home Team\", \"Away Team\", \"Home Odds\", \"Away Odds\", \"Date\"]]"
   ]
  },
  {
   "cell_type": "code",
   "execution_count": null,
   "metadata": {},
   "outputs": [],
   "source": [
    "# Displays the head\n",
    "betting_odds.head(3)"
   ]
  },
  {
   "cell_type": "code",
   "execution_count": null,
   "metadata": {},
   "outputs": [],
   "source": [
    "# Displays the datatype of the date column in each dataframe\n",
    "print(\"The datatype of the date column in the betting_odds dataframe is {}.\".format(betting_odds[[\"Date\"]].dtypes.Date))\n",
    "print(\"The datatype of the date column in the full_matches dataframe is {}.\".format(full_matches[[\"start_dt\"]].dtypes.start_dt))"
   ]
  },
  {
   "cell_type": "code",
   "execution_count": null,
   "metadata": {
    "collapsed": true
   },
   "outputs": [],
   "source": [
    "# Takes the Date without the hour and minutes in the full_matches dataframe\n",
    "full_matches.start_dt = full_matches.start_dt.dt.date;"
   ]
  },
  {
   "cell_type": "code",
   "execution_count": null,
   "metadata": {
    "collapsed": true
   },
   "outputs": [],
   "source": [
    "# Changes the data type of the date columns in each dataframe\n",
    "full_matches[\"start_dt\"] = pd.to_datetime(full_matches[\"start_dt\"])\n",
    "betting_odds[\"Date\"] = pd.to_datetime(betting_odds[\"Date\"])"
   ]
  },
  {
   "cell_type": "code",
   "execution_count": null,
   "metadata": {
    "collapsed": true
   },
   "outputs": [],
   "source": [
    "# Merges the two dataframes on the date, away and home team columns\n",
    "full_matches = pd.merge(full_matches, betting_odds, left_on = [\"start_dt\", \"a_tid\", \"h_tid\"],\n",
    "                        right_on = [\"Date\", \"Away Team\", \"Home Team\"])"
   ]
  },
  {
   "cell_type": "code",
   "execution_count": null,
   "metadata": {
    "collapsed": true
   },
   "outputs": [],
   "source": [
    "# Drops the columns that have been duplicated from the merge.\n",
    "full_matches.drop([\"a_tid\", \"h_tid\", \"start_dt\"], axis=1, inplace=True, errors=\"ignore\")"
   ]
  },
  {
   "cell_type": "code",
   "execution_count": null,
   "metadata": {},
   "outputs": [],
   "source": [
    "print(\"The dimensions of the full matches with odds dataset is {}.\".format(full_matches.shape))"
   ]
  },
  {
   "cell_type": "markdown",
   "metadata": {},
   "source": [
    "Unfortunately the odds for AFL games are only publicly available from 2009 onwards for this dataset. This means that for the most part a large portion 2/3 of our games wont have odds listed with them. As such we will be creating a model for years 2001 onwards, but only implementing the Kelly Criterion for years between 2009 - 2015. Now before we retire this section, lets have a final look at the features."
   ]
  },
  {
   "cell_type": "code",
   "execution_count": null,
   "metadata": {
    "collapsed": true
   },
   "outputs": [],
   "source": [
    "def corr_heatmap(data, annot = True, method = \"pearson\"):\n",
    "\n",
    "    mean_corr = data.corr(method = method)\n",
    "\n",
    "    fig, ax = plt.subplots(figsize=(15,10))\n",
    "    ax = sns.heatmap(mean_corr, ax=ax,  square = True, linecolor='white', annot = annot, cmap='RdBu', vmin=-1, vmax=1, fmt = '.2f')\n",
    "\n",
    "    ax.set_xticklabels(ax.xaxis.get_ticklabels(), fontsize=14, rotation=90)\n",
    "    ax.set_yticklabels(ax.yaxis.get_ticklabels(), fontsize=14, rotation=0)\n",
    "\n",
    "    plt.show()"
   ]
  },
  {
   "cell_type": "code",
   "execution_count": null,
   "metadata": {},
   "outputs": [],
   "source": [
    "full_matches"
   ]
  },
  {
   "cell_type": "code",
   "execution_count": null,
   "metadata": {},
   "outputs": [],
   "source": [
    "corr_heatmap(full_matches.drop([\"home_odds\", \"away_odds\"], axis = 1))"
   ]
  },
  {
   "cell_type": "code",
   "execution_count": null,
   "metadata": {
    "collapsed": true
   },
   "outputs": [],
   "source": [
    "full_matches.rename(index = str, columns = {\"Home Team\" : \"home_team\",\n",
    "                     \"round\"     : \"premiership\",\n",
    "                     \"Away Team\" : \"away_team\",\n",
    "                     \"Home Odds\" : \"home_odds\",\n",
    "                     \"Away Odds\" : \"away_odds\",\n",
    "                     \"Date\"      : \"date\"}, inplace = True)"
   ]
  },
  {
   "cell_type": "code",
   "execution_count": null,
   "metadata": {
    "collapsed": true
   },
   "outputs": [],
   "source": [
    "# Exports the full_matches dataframe as \"full_matches_clean.csv\"\n",
    "full_matches.to_csv(\"data/full_matches_clean.csv\")"
   ]
  },
  {
   "cell_type": "markdown",
   "metadata": {},
   "source": [
    "### Feature Preprocessing - Conclusion\n",
    "\n",
    "---\n",
    "\n",
    "To recap over a few things done in this notebook:\n",
    "\n",
    "* Finals and Seasons games combined\n",
    "* Created a new feature which is the Previous Year's ladder results for each team\n",
    "* Added the margins for the head to head data for any pair of teams spanning back for the previous 5 games\n",
    "* Scraped and combined the betting odds from another source\n",
    "* Export the cleaned dataset to be used for predictions\n",
    "\n",
    "Which leads us to actually using what we've created to attempt some predicting.\n",
    "\n",
    "Low and Behold **[Section 2 - Predictions](Attempt 5 - Predictions.ipynb)**\n"
   ]
  }
 ],
 "metadata": {
  "kernelspec": {
   "display_name": "Python 3",
   "language": "python",
   "name": "python3"
  },
  "language_info": {
   "codemirror_mode": {
    "name": "ipython",
    "version": 3
   },
   "file_extension": ".py",
   "mimetype": "text/x-python",
   "name": "python",
   "nbconvert_exporter": "python",
   "pygments_lexer": "ipython3",
   "version": "3.6.3"
  }
 },
 "nbformat": 4,
 "nbformat_minor": 2
}
