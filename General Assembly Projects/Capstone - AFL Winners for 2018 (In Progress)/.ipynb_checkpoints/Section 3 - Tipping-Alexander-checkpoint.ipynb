{
 "cells": [
  {
   "cell_type": "markdown",
   "metadata": {},
   "source": [
    "# Predicting AFL winners using Machine Learning - Predictions\n",
    "\n",
    "---\n",
    "\n",
    "<img src='img/coinflip.jpg'>\n",
    "\n",
    "---\n",
    "\n",
    "Great! We have a good thing going. With the accuracy that we have we'd make bank in no time. Or will we? According to a study set by Victor Haghani & Richard Dewey in 2016 suggested otherwise. In their study 61 people young men and women were given \\$25 and 30 minutes to bet on a coin 300 times, of which they were allowed to keep their winnings up to a cap of $250.\n",
    "\n",
    "The catch? The coin was biased. They were advised ahead of time that the coin would flip heads 60% of the time, and that their bets were double or nothing. Now with a simple percentage betting strategy. 95% of the time you should be able to reach the maximum payout.\n",
    "\n",
    "Here is a link to the study: [Rational Decision-Making Under Uncertainty: Observed Betting Patterns on a Biased Coin](https://poseidon01.ssrn.com/delivery.php?ID=458117106069071089112102093104086118051053051021058043068127070104100112011076090102036054032126054012052113019031090109078011038007053017081066016119005031087091101047050010104102015004105093021076114091122126095070021096124120114123120087067121003027&EXT=pdf)\n",
    "\n",
    "**The Results**\n",
    "\n",
    "     - 3 in 10 people went bust.\n",
    "     \n",
    "     - The Average Payout of those that did reach the maximum and didnt go bust was $75. Representing 51%\n",
    "     \n",
    "     - 67% of people at one point bet Tails\n",
    "\n",
    "<img src='img/3in10.png'>\n",
    "\n",
    "\n",
    "     \n",
    "I guess what I'm trying to say here is that, I wouldnt trust myself to bet either. So might as well get the computer to do that part as well. Which leads up to Section 3 - Tipping."
   ]
  },
  {
   "cell_type": "markdown",
   "metadata": {},
   "source": [
    "### Kelly Criterion\n",
    "\n",
    "---\n",
    "\n",
    "The basic premise behind this section is to compare our predicted probabilities of each team winning with the bookies open odds. From there we can bet an appropriate proportion of our bank maximize our long term gain.\n",
    "\n",
    "### $$f^{\\prime} = \\frac{bp-q}{b} = \\frac{p(b+1)-1}{b}$$\n",
    "\n",
    "    - f* is the fraction of the current bankroll to wager, i.e. how much to bet\n",
    "    - b is the net odds received on the wager (\"b to 1\")\n",
    "    - p is the probability of winning;\n",
    "    - q is the probability of losing, which is 1 − p."
   ]
  },
  {
   "cell_type": "code",
   "execution_count": 436,
   "metadata": {
    "collapsed": true
   },
   "outputs": [],
   "source": [
    "# Imports dependencies\n",
    "import matplotlib.pyplot as plt\n",
    "from IPython.display import display, HTML\n",
    "import numpy as np\n",
    "import pandas as pd\n",
    "import seaborn as sns\n",
    "\n",
    "sns.set(font_scale=2)\n",
    "\n",
    "import warnings\n",
    "warnings.filterwarnings('ignore')\n",
    "\n",
    "plt.style.use('ggplot')\n",
    "\n",
    "%matplotlib inline"
   ]
  },
  {
   "cell_type": "code",
   "execution_count": 437,
   "metadata": {
    "collapsed": true
   },
   "outputs": [],
   "source": [
    "full_matches = pd.read_csv(\"data/afl_2018_test.csv\", index_col = 0)"
   ]
  },
  {
   "cell_type": "code",
   "execution_count": 438,
   "metadata": {},
   "outputs": [
    {
     "data": {
      "text/html": [
       "<div>\n",
       "<style>\n",
       "    .dataframe thead tr:only-child th {\n",
       "        text-align: right;\n",
       "    }\n",
       "\n",
       "    .dataframe thead th {\n",
       "        text-align: left;\n",
       "    }\n",
       "\n",
       "    .dataframe tbody tr th {\n",
       "        vertical-align: top;\n",
       "    }\n",
       "</style>\n",
       "<table border=\"1\" class=\"dataframe\">\n",
       "  <thead>\n",
       "    <tr style=\"text-align: right;\">\n",
       "      <th></th>\n",
       "      <th>Date</th>\n",
       "      <th>h_team</th>\n",
       "      <th>a_team</th>\n",
       "      <th>Home Score</th>\n",
       "      <th>Away Score</th>\n",
       "      <th>play_off</th>\n",
       "      <th>home_odds</th>\n",
       "      <th>away_odds</th>\n",
       "      <th>season</th>\n",
       "      <th>margin</th>\n",
       "      <th>h_prevladder_score</th>\n",
       "      <th>a_prevladder_score</th>\n",
       "      <th>margins_prev_match1</th>\n",
       "      <th>margins_prev_match2</th>\n",
       "      <th>margins_prev_match3</th>\n",
       "      <th>margins_prev_match4</th>\n",
       "      <th>margins_prev_match5</th>\n",
       "      <th>win_loc</th>\n",
       "    </tr>\n",
       "  </thead>\n",
       "  <tbody>\n",
       "    <tr>\n",
       "      <th>0</th>\n",
       "      <td>2018-03-25</td>\n",
       "      <td>West Coast</td>\n",
       "      <td>Sydney</td>\n",
       "      <td>0</td>\n",
       "      <td>0</td>\n",
       "      <td>0</td>\n",
       "      <td>2.60</td>\n",
       "      <td>1.50</td>\n",
       "      <td>2018</td>\n",
       "      <td>0</td>\n",
       "      <td>48.0</td>\n",
       "      <td>56.0</td>\n",
       "      <td>26.0</td>\n",
       "      <td>-39.0</td>\n",
       "      <td>52.0</td>\n",
       "      <td>-28.0</td>\n",
       "      <td>-34.0</td>\n",
       "      <td>0</td>\n",
       "    </tr>\n",
       "    <tr>\n",
       "      <th>1</th>\n",
       "      <td>2018-03-25</td>\n",
       "      <td>Melbourne</td>\n",
       "      <td>Geelong</td>\n",
       "      <td>0</td>\n",
       "      <td>0</td>\n",
       "      <td>0</td>\n",
       "      <td>2.35</td>\n",
       "      <td>1.60</td>\n",
       "      <td>2018</td>\n",
       "      <td>0</td>\n",
       "      <td>48.0</td>\n",
       "      <td>62.0</td>\n",
       "      <td>-29.0</td>\n",
       "      <td>-111.0</td>\n",
       "      <td>24.0</td>\n",
       "      <td>-66.0</td>\n",
       "      <td>-68.0</td>\n",
       "      <td>0</td>\n",
       "    </tr>\n",
       "    <tr>\n",
       "      <th>2</th>\n",
       "      <td>2018-03-25</td>\n",
       "      <td>GWS Giants</td>\n",
       "      <td>Western Bulldogs</td>\n",
       "      <td>0</td>\n",
       "      <td>0</td>\n",
       "      <td>0</td>\n",
       "      <td>1.45</td>\n",
       "      <td>2.75</td>\n",
       "      <td>2018</td>\n",
       "      <td>0</td>\n",
       "      <td>60.0</td>\n",
       "      <td>44.0</td>\n",
       "      <td>48.0</td>\n",
       "      <td>2.0</td>\n",
       "      <td>-6.0</td>\n",
       "      <td>25.0</td>\n",
       "      <td>-45.0</td>\n",
       "      <td>0</td>\n",
       "    </tr>\n",
       "  </tbody>\n",
       "</table>\n",
       "</div>"
      ],
      "text/plain": [
       "         Date      h_team            a_team  Home Score  Away Score  play_off  \\\n",
       "0  2018-03-25  West Coast            Sydney           0           0         0   \n",
       "1  2018-03-25   Melbourne           Geelong           0           0         0   \n",
       "2  2018-03-25  GWS Giants  Western Bulldogs           0           0         0   \n",
       "\n",
       "   home_odds  away_odds  season  margin  h_prevladder_score  \\\n",
       "0       2.60       1.50    2018       0                48.0   \n",
       "1       2.35       1.60    2018       0                48.0   \n",
       "2       1.45       2.75    2018       0                60.0   \n",
       "\n",
       "   a_prevladder_score  margins_prev_match1  margins_prev_match2  \\\n",
       "0                56.0                 26.0                -39.0   \n",
       "1                62.0                -29.0               -111.0   \n",
       "2                44.0                 48.0                  2.0   \n",
       "\n",
       "   margins_prev_match3  margins_prev_match4  margins_prev_match5  win_loc  \n",
       "0                 52.0                -28.0                -34.0        0  \n",
       "1                 24.0                -66.0                -68.0        0  \n",
       "2                 -6.0                 25.0                -45.0        0  "
      ]
     },
     "execution_count": 438,
     "metadata": {},
     "output_type": "execute_result"
    }
   ],
   "source": [
    "full_matches.head(3)"
   ]
  },
  {
   "cell_type": "markdown",
   "metadata": {},
   "source": [
    "### Bringing back the Helper Code"
   ]
  },
  {
   "cell_type": "code",
   "execution_count": 439,
   "metadata": {
    "collapsed": true
   },
   "outputs": [],
   "source": [
    "from time import time \n",
    "from sklearn.metrics import f1_score\n",
    "from sklearn.model_selection import cross_val_score, cross_val_predict\n",
    "\n",
    "def train_classifier(clf, X_train, y_train):\n",
    "    ''' Fits a classifier to the training data. '''\n",
    "    \n",
    "    # Start the clock, train the classifier, then stop the clock\n",
    "    start = time()\n",
    "    clf.fit(X_train, y_train)\n",
    "    end = time()\n",
    "    \n",
    "    # Print the results\n",
    "    print (\"Trained model in {:.4f} seconds\".format(end - start))\n",
    "\n",
    "    \n",
    "def predict_labels(clf, features, target):\n",
    "    ''' Makes predictions using a fit classifier based on F1 score. '''\n",
    "    \n",
    "    # Start the clock, make predictions, then stop the clock\n",
    "    start = time()\n",
    "    y_pred = cross_val_predict(clf, features, target, cv=5)\n",
    "    \n",
    "    score = cross_val_score(clf, features, target, cv = 5).mean()\n",
    "    \n",
    "    end = time()\n",
    "    # Print and return results\n",
    "    print (\"Made predictions in {:.4f} seconds.\".format(end - start))\n",
    "    \n",
    "    return f1_score(target, y_pred), score\n",
    "\n",
    "\n",
    "def train_predict(clf, X_train, y_train, X_test, y_test):\n",
    "    ''' Train and predict using a classifer based on F1 score. '''\n",
    "    \n",
    "    # Indicate the classifier and the training set size\n",
    "    print (\"Training a {} using a training set size of {}. . .\".format(clf.__class__.__name__, len(X_train)))\n",
    "    \n",
    "    # Train the classifier\n",
    "    train_classifier(clf, X_train, y_train)\n",
    "    \n",
    "    # Print the results of prediction for both training and testing\n",
    "    f1, acc = predict_labels(clf, X_train, y_train)\n",
    "    print (\"F1 score and accuracy score for training set: {:.4f} , {:.4f}.\".format(f1 , acc))\n",
    "    \n",
    "    f1, acc = predict_labels(clf, X_test, y_test)\n",
    "    \n",
    "    print (\"F1 score and accuracy score for test set: {:.4f} , {:.4f}.\".format(f1 , acc))\n",
    "    print(\"-----------------------------------------------------------------------\")"
   ]
  },
  {
   "cell_type": "markdown",
   "metadata": {},
   "source": [
    "<a id='change_year'></a>\n",
    "\n",
    "### Lets set the year!\n",
    "\n",
    "---\n",
    "\n",
    "One of the more important sections in this notebook would be the year - So lets set it here!!! Because it will take the 4 previous years to train on.\n",
    "\n",
    "<a href='#go_back'>Go Back!</a>"
   ]
  },
  {
   "cell_type": "code",
   "execution_count": 440,
   "metadata": {
    "collapsed": true
   },
   "outputs": [],
   "source": [
    "# Sets the year of the model: year\n",
    "year = 2018"
   ]
  },
  {
   "cell_type": "markdown",
   "metadata": {},
   "source": [
    "### And the model itself!\n",
    "\n",
    "---\n",
    "\n",
    "There wouldn't be much to do if we didn't have the model itself."
   ]
  },
  {
   "cell_type": "code",
   "execution_count": 441,
   "metadata": {
    "collapsed": true
   },
   "outputs": [],
   "source": [
    "import patsy\n",
    "\n",
    "features = '~ season + h_prevladder_score + a_prevladder_score + play_off + margins_prev_match1 + margins_prev_match2 + \\\n",
    "            + margins_prev_match3 + margins_prev_match4 + margins_prev_match5 + home_odds + away_odds + C(h_team) + C(a_team) - 1'"
   ]
  },
  {
   "cell_type": "code",
   "execution_count": 442,
   "metadata": {
    "collapsed": true
   },
   "outputs": [],
   "source": [
    "# Initiates the predictors: X\n",
    "X = patsy.dmatrix(features, data=full_matches, return_type='dataframe')\n",
    "\n",
    "# Initiates the target as winloc: y\n",
    "y = full_matches[[\"season\", \"win_loc\"]]"
   ]
  },
  {
   "cell_type": "code",
   "execution_count": 443,
   "metadata": {},
   "outputs": [
    {
     "data": {
      "text/plain": [
       "(1724, 46)"
      ]
     },
     "execution_count": 443,
     "metadata": {},
     "output_type": "execute_result"
    }
   ],
   "source": [
    "X.shape"
   ]
  },
  {
   "cell_type": "code",
   "execution_count": 444,
   "metadata": {},
   "outputs": [
    {
     "data": {
      "text/plain": [
       "(1724, 2)"
      ]
     },
     "execution_count": 444,
     "metadata": {},
     "output_type": "execute_result"
    }
   ],
   "source": [
    "y.shape"
   ]
  },
  {
   "cell_type": "code",
   "execution_count": 445,
   "metadata": {
    "collapsed": true
   },
   "outputs": [],
   "source": [
    "def five_year_pred(clf, X, y, year):\n",
    "    \n",
    "    global baseline\n",
    "    baseline = full_matches[full_matches[\"season\"] == year][\"win_loc\"].mean()\n",
    "    \n",
    "    \n",
    "    print(\"The baseline score for year {} is {:.2f}%\\n\".format(year, baseline))\n",
    "    print(\"-----------------------------------------------------------------------\")\n",
    "    \n",
    "    global X_train\n",
    "    X_train = X[(X[\"season\"] >= year-5) & (X[\"season\"] <= year-1)].drop([\"season\"], axis=1)\n",
    "    global X_test\n",
    "    X_test  = X[X[\"season\"] == year].drop([\"season\"], axis=1)\n",
    "    global y_train\n",
    "    y_train = y[(y[\"season\"] >= year-5) & (y[\"season\"] <= year-1)][\"win_loc\"]\n",
    "    global y_test\n",
    "    y_test  = y[y[\"season\"] == year][\"win_loc\"]\n",
    "  \n",
    "    train_predict(clf, X_train, y_train, X_test, y_test)\n",
    "\n",
    "    predictions =  clf.predict_proba(X_test)\n",
    "    \n",
    "    year_data = full_matches[full_matches[\"season\"] == year]\n",
    "\n",
    "    cols_to_keep = [\"win_loc\", \"season\", \"h_team\", \"a_team\", \"home_odds\", \"away_odds\"]\n",
    "    year_data = year_data[cols_to_keep].reset_index(drop=True)\n",
    "    \n",
    "    probs_df = pd.DataFrame(predictions, columns = [\"a_prob_us\", \"h_prob_us\"]).round(2)\n",
    "    probs_df = probs_df[[\"h_prob_us\", \"a_prob_us\"]]\n",
    "    \n",
    "    year_odds_comparison = year_data.join(probs_df, how=\"outer\")\n",
    "\n",
    "    return year_odds_comparison"
   ]
  },
  {
   "cell_type": "code",
   "execution_count": 446,
   "metadata": {},
   "outputs": [
    {
     "name": "stdout",
     "output_type": "stream",
     "text": [
      "The baseline score for year 2018 is 0.00%\n",
      "\n",
      "-----------------------------------------------------------------------\n",
      "Training a LogisticRegression using a training set size of 1034. . .\n",
      "Trained model in 0.0060 seconds\n",
      "Made predictions in 0.0592 seconds.\n",
      "F1 score and accuracy score for training set: 0.7225 , 0.6799.\n"
     ]
    },
    {
     "ename": "ValueError",
     "evalue": "This solver needs samples of at least 2 classes in the data, but the data contains only one class: 0",
     "output_type": "error",
     "traceback": [
      "\u001b[1;31m---------------------------------------------------------------------------\u001b[0m",
      "\u001b[1;31mValueError\u001b[0m                                Traceback (most recent call last)",
      "\u001b[1;32m<ipython-input-446-54e02cb7c21d>\u001b[0m in \u001b[0;36m<module>\u001b[1;34m()\u001b[0m\n\u001b[0;32m     14\u001b[0m \u001b[0mclf\u001b[0m \u001b[1;33m=\u001b[0m \u001b[0mclf_lr\u001b[0m\u001b[1;33m\u001b[0m\u001b[0m\n\u001b[0;32m     15\u001b[0m \u001b[1;33m\u001b[0m\u001b[0m\n\u001b[1;32m---> 16\u001b[1;33m \u001b[0mprobs_df\u001b[0m \u001b[1;33m=\u001b[0m \u001b[0mfive_year_pred\u001b[0m\u001b[1;33m(\u001b[0m\u001b[0mclf\u001b[0m\u001b[1;33m,\u001b[0m \u001b[0mX\u001b[0m\u001b[1;33m,\u001b[0m \u001b[0my\u001b[0m\u001b[1;33m,\u001b[0m \u001b[0myear\u001b[0m \u001b[1;33m=\u001b[0m \u001b[0myear\u001b[0m\u001b[1;33m)\u001b[0m\u001b[1;33m\u001b[0m\u001b[0m\n\u001b[0m",
      "\u001b[1;32m<ipython-input-445-151535a23b2e>\u001b[0m in \u001b[0;36mfive_year_pred\u001b[1;34m(clf, X, y, year)\u001b[0m\n\u001b[0;32m     17\u001b[0m     \u001b[0my_test\u001b[0m  \u001b[1;33m=\u001b[0m \u001b[0my\u001b[0m\u001b[1;33m[\u001b[0m\u001b[0my\u001b[0m\u001b[1;33m[\u001b[0m\u001b[1;34m\"season\"\u001b[0m\u001b[1;33m]\u001b[0m \u001b[1;33m==\u001b[0m \u001b[0myear\u001b[0m\u001b[1;33m]\u001b[0m\u001b[1;33m[\u001b[0m\u001b[1;34m\"win_loc\"\u001b[0m\u001b[1;33m]\u001b[0m\u001b[1;33m\u001b[0m\u001b[0m\n\u001b[0;32m     18\u001b[0m \u001b[1;33m\u001b[0m\u001b[0m\n\u001b[1;32m---> 19\u001b[1;33m     \u001b[0mtrain_predict\u001b[0m\u001b[1;33m(\u001b[0m\u001b[0mclf\u001b[0m\u001b[1;33m,\u001b[0m \u001b[0mX_train\u001b[0m\u001b[1;33m,\u001b[0m \u001b[0my_train\u001b[0m\u001b[1;33m,\u001b[0m \u001b[0mX_test\u001b[0m\u001b[1;33m,\u001b[0m \u001b[0my_test\u001b[0m\u001b[1;33m)\u001b[0m\u001b[1;33m\u001b[0m\u001b[0m\n\u001b[0m\u001b[0;32m     20\u001b[0m \u001b[1;33m\u001b[0m\u001b[0m\n\u001b[0;32m     21\u001b[0m     \u001b[0mpredictions\u001b[0m \u001b[1;33m=\u001b[0m  \u001b[0mclf\u001b[0m\u001b[1;33m.\u001b[0m\u001b[0mpredict_proba\u001b[0m\u001b[1;33m(\u001b[0m\u001b[0mX_test\u001b[0m\u001b[1;33m)\u001b[0m\u001b[1;33m\u001b[0m\u001b[0m\n",
      "\u001b[1;32m<ipython-input-439-4946f5f54d3d>\u001b[0m in \u001b[0;36mtrain_predict\u001b[1;34m(clf, X_train, y_train, X_test, y_test)\u001b[0m\n\u001b[0;32m     44\u001b[0m     \u001b[0mprint\u001b[0m \u001b[1;33m(\u001b[0m\u001b[1;34m\"F1 score and accuracy score for training set: {:.4f} , {:.4f}.\"\u001b[0m\u001b[1;33m.\u001b[0m\u001b[0mformat\u001b[0m\u001b[1;33m(\u001b[0m\u001b[0mf1\u001b[0m \u001b[1;33m,\u001b[0m \u001b[0macc\u001b[0m\u001b[1;33m)\u001b[0m\u001b[1;33m)\u001b[0m\u001b[1;33m\u001b[0m\u001b[0m\n\u001b[0;32m     45\u001b[0m \u001b[1;33m\u001b[0m\u001b[0m\n\u001b[1;32m---> 46\u001b[1;33m     \u001b[0mf1\u001b[0m\u001b[1;33m,\u001b[0m \u001b[0macc\u001b[0m \u001b[1;33m=\u001b[0m \u001b[0mpredict_labels\u001b[0m\u001b[1;33m(\u001b[0m\u001b[0mclf\u001b[0m\u001b[1;33m,\u001b[0m \u001b[0mX_test\u001b[0m\u001b[1;33m,\u001b[0m \u001b[0my_test\u001b[0m\u001b[1;33m)\u001b[0m\u001b[1;33m\u001b[0m\u001b[0m\n\u001b[0m\u001b[0;32m     47\u001b[0m \u001b[1;33m\u001b[0m\u001b[0m\n\u001b[0;32m     48\u001b[0m     \u001b[0mprint\u001b[0m \u001b[1;33m(\u001b[0m\u001b[1;34m\"F1 score and accuracy score for test set: {:.4f} , {:.4f}.\"\u001b[0m\u001b[1;33m.\u001b[0m\u001b[0mformat\u001b[0m\u001b[1;33m(\u001b[0m\u001b[0mf1\u001b[0m \u001b[1;33m,\u001b[0m \u001b[0macc\u001b[0m\u001b[1;33m)\u001b[0m\u001b[1;33m)\u001b[0m\u001b[1;33m\u001b[0m\u001b[0m\n",
      "\u001b[1;32m<ipython-input-439-4946f5f54d3d>\u001b[0m in \u001b[0;36mpredict_labels\u001b[1;34m(clf, features, target)\u001b[0m\n\u001b[0;32m     20\u001b[0m     \u001b[1;31m# Start the clock, make predictions, then stop the clock\u001b[0m\u001b[1;33m\u001b[0m\u001b[1;33m\u001b[0m\u001b[0m\n\u001b[0;32m     21\u001b[0m     \u001b[0mstart\u001b[0m \u001b[1;33m=\u001b[0m \u001b[0mtime\u001b[0m\u001b[1;33m(\u001b[0m\u001b[1;33m)\u001b[0m\u001b[1;33m\u001b[0m\u001b[0m\n\u001b[1;32m---> 22\u001b[1;33m     \u001b[0my_pred\u001b[0m \u001b[1;33m=\u001b[0m \u001b[0mcross_val_predict\u001b[0m\u001b[1;33m(\u001b[0m\u001b[0mclf\u001b[0m\u001b[1;33m,\u001b[0m \u001b[0mfeatures\u001b[0m\u001b[1;33m,\u001b[0m \u001b[0mtarget\u001b[0m\u001b[1;33m,\u001b[0m \u001b[0mcv\u001b[0m\u001b[1;33m=\u001b[0m\u001b[1;36m5\u001b[0m\u001b[1;33m)\u001b[0m\u001b[1;33m\u001b[0m\u001b[0m\n\u001b[0m\u001b[0;32m     23\u001b[0m \u001b[1;33m\u001b[0m\u001b[0m\n\u001b[0;32m     24\u001b[0m     \u001b[0mscore\u001b[0m \u001b[1;33m=\u001b[0m \u001b[0mcross_val_score\u001b[0m\u001b[1;33m(\u001b[0m\u001b[0mclf\u001b[0m\u001b[1;33m,\u001b[0m \u001b[0mfeatures\u001b[0m\u001b[1;33m,\u001b[0m \u001b[0mtarget\u001b[0m\u001b[1;33m,\u001b[0m \u001b[0mcv\u001b[0m \u001b[1;33m=\u001b[0m \u001b[1;36m5\u001b[0m\u001b[1;33m)\u001b[0m\u001b[1;33m.\u001b[0m\u001b[0mmean\u001b[0m\u001b[1;33m(\u001b[0m\u001b[1;33m)\u001b[0m\u001b[1;33m\u001b[0m\u001b[0m\n",
      "\u001b[1;32mC:\\ProgramData\\Anaconda3\\lib\\site-packages\\sklearn\\model_selection\\_validation.py\u001b[0m in \u001b[0;36mcross_val_predict\u001b[1;34m(estimator, X, y, groups, cv, n_jobs, verbose, fit_params, pre_dispatch, method)\u001b[0m\n\u001b[0;32m    399\u001b[0m     prediction_blocks = parallel(delayed(_fit_and_predict)(\n\u001b[0;32m    400\u001b[0m         clone(estimator), X, y, train, test, verbose, fit_params, method)\n\u001b[1;32m--> 401\u001b[1;33m         for train, test in cv_iter)\n\u001b[0m\u001b[0;32m    402\u001b[0m \u001b[1;33m\u001b[0m\u001b[0m\n\u001b[0;32m    403\u001b[0m     \u001b[1;31m# Concatenate the predictions\u001b[0m\u001b[1;33m\u001b[0m\u001b[1;33m\u001b[0m\u001b[0m\n",
      "\u001b[1;32mC:\\ProgramData\\Anaconda3\\lib\\site-packages\\sklearn\\externals\\joblib\\parallel.py\u001b[0m in \u001b[0;36m__call__\u001b[1;34m(self, iterable)\u001b[0m\n\u001b[0;32m    756\u001b[0m             \u001b[1;31m# was dispatched. In particular this covers the edge\u001b[0m\u001b[1;33m\u001b[0m\u001b[1;33m\u001b[0m\u001b[0m\n\u001b[0;32m    757\u001b[0m             \u001b[1;31m# case of Parallel used with an exhausted iterator.\u001b[0m\u001b[1;33m\u001b[0m\u001b[1;33m\u001b[0m\u001b[0m\n\u001b[1;32m--> 758\u001b[1;33m             \u001b[1;32mwhile\u001b[0m \u001b[0mself\u001b[0m\u001b[1;33m.\u001b[0m\u001b[0mdispatch_one_batch\u001b[0m\u001b[1;33m(\u001b[0m\u001b[0miterator\u001b[0m\u001b[1;33m)\u001b[0m\u001b[1;33m:\u001b[0m\u001b[1;33m\u001b[0m\u001b[0m\n\u001b[0m\u001b[0;32m    759\u001b[0m                 \u001b[0mself\u001b[0m\u001b[1;33m.\u001b[0m\u001b[0m_iterating\u001b[0m \u001b[1;33m=\u001b[0m \u001b[1;32mTrue\u001b[0m\u001b[1;33m\u001b[0m\u001b[0m\n\u001b[0;32m    760\u001b[0m             \u001b[1;32melse\u001b[0m\u001b[1;33m:\u001b[0m\u001b[1;33m\u001b[0m\u001b[0m\n",
      "\u001b[1;32mC:\\ProgramData\\Anaconda3\\lib\\site-packages\\sklearn\\externals\\joblib\\parallel.py\u001b[0m in \u001b[0;36mdispatch_one_batch\u001b[1;34m(self, iterator)\u001b[0m\n\u001b[0;32m    606\u001b[0m                 \u001b[1;32mreturn\u001b[0m \u001b[1;32mFalse\u001b[0m\u001b[1;33m\u001b[0m\u001b[0m\n\u001b[0;32m    607\u001b[0m             \u001b[1;32melse\u001b[0m\u001b[1;33m:\u001b[0m\u001b[1;33m\u001b[0m\u001b[0m\n\u001b[1;32m--> 608\u001b[1;33m                 \u001b[0mself\u001b[0m\u001b[1;33m.\u001b[0m\u001b[0m_dispatch\u001b[0m\u001b[1;33m(\u001b[0m\u001b[0mtasks\u001b[0m\u001b[1;33m)\u001b[0m\u001b[1;33m\u001b[0m\u001b[0m\n\u001b[0m\u001b[0;32m    609\u001b[0m                 \u001b[1;32mreturn\u001b[0m \u001b[1;32mTrue\u001b[0m\u001b[1;33m\u001b[0m\u001b[0m\n\u001b[0;32m    610\u001b[0m \u001b[1;33m\u001b[0m\u001b[0m\n",
      "\u001b[1;32mC:\\ProgramData\\Anaconda3\\lib\\site-packages\\sklearn\\externals\\joblib\\parallel.py\u001b[0m in \u001b[0;36m_dispatch\u001b[1;34m(self, batch)\u001b[0m\n\u001b[0;32m    569\u001b[0m         \u001b[0mdispatch_timestamp\u001b[0m \u001b[1;33m=\u001b[0m \u001b[0mtime\u001b[0m\u001b[1;33m.\u001b[0m\u001b[0mtime\u001b[0m\u001b[1;33m(\u001b[0m\u001b[1;33m)\u001b[0m\u001b[1;33m\u001b[0m\u001b[0m\n\u001b[0;32m    570\u001b[0m         \u001b[0mcb\u001b[0m \u001b[1;33m=\u001b[0m \u001b[0mBatchCompletionCallBack\u001b[0m\u001b[1;33m(\u001b[0m\u001b[0mdispatch_timestamp\u001b[0m\u001b[1;33m,\u001b[0m \u001b[0mlen\u001b[0m\u001b[1;33m(\u001b[0m\u001b[0mbatch\u001b[0m\u001b[1;33m)\u001b[0m\u001b[1;33m,\u001b[0m \u001b[0mself\u001b[0m\u001b[1;33m)\u001b[0m\u001b[1;33m\u001b[0m\u001b[0m\n\u001b[1;32m--> 571\u001b[1;33m         \u001b[0mjob\u001b[0m \u001b[1;33m=\u001b[0m \u001b[0mself\u001b[0m\u001b[1;33m.\u001b[0m\u001b[0m_backend\u001b[0m\u001b[1;33m.\u001b[0m\u001b[0mapply_async\u001b[0m\u001b[1;33m(\u001b[0m\u001b[0mbatch\u001b[0m\u001b[1;33m,\u001b[0m \u001b[0mcallback\u001b[0m\u001b[1;33m=\u001b[0m\u001b[0mcb\u001b[0m\u001b[1;33m)\u001b[0m\u001b[1;33m\u001b[0m\u001b[0m\n\u001b[0m\u001b[0;32m    572\u001b[0m         \u001b[0mself\u001b[0m\u001b[1;33m.\u001b[0m\u001b[0m_jobs\u001b[0m\u001b[1;33m.\u001b[0m\u001b[0mappend\u001b[0m\u001b[1;33m(\u001b[0m\u001b[0mjob\u001b[0m\u001b[1;33m)\u001b[0m\u001b[1;33m\u001b[0m\u001b[0m\n\u001b[0;32m    573\u001b[0m \u001b[1;33m\u001b[0m\u001b[0m\n",
      "\u001b[1;32mC:\\ProgramData\\Anaconda3\\lib\\site-packages\\sklearn\\externals\\joblib\\_parallel_backends.py\u001b[0m in \u001b[0;36mapply_async\u001b[1;34m(self, func, callback)\u001b[0m\n\u001b[0;32m    107\u001b[0m     \u001b[1;32mdef\u001b[0m \u001b[0mapply_async\u001b[0m\u001b[1;33m(\u001b[0m\u001b[0mself\u001b[0m\u001b[1;33m,\u001b[0m \u001b[0mfunc\u001b[0m\u001b[1;33m,\u001b[0m \u001b[0mcallback\u001b[0m\u001b[1;33m=\u001b[0m\u001b[1;32mNone\u001b[0m\u001b[1;33m)\u001b[0m\u001b[1;33m:\u001b[0m\u001b[1;33m\u001b[0m\u001b[0m\n\u001b[0;32m    108\u001b[0m         \u001b[1;34m\"\"\"Schedule a func to be run\"\"\"\u001b[0m\u001b[1;33m\u001b[0m\u001b[0m\n\u001b[1;32m--> 109\u001b[1;33m         \u001b[0mresult\u001b[0m \u001b[1;33m=\u001b[0m \u001b[0mImmediateResult\u001b[0m\u001b[1;33m(\u001b[0m\u001b[0mfunc\u001b[0m\u001b[1;33m)\u001b[0m\u001b[1;33m\u001b[0m\u001b[0m\n\u001b[0m\u001b[0;32m    110\u001b[0m         \u001b[1;32mif\u001b[0m \u001b[0mcallback\u001b[0m\u001b[1;33m:\u001b[0m\u001b[1;33m\u001b[0m\u001b[0m\n\u001b[0;32m    111\u001b[0m             \u001b[0mcallback\u001b[0m\u001b[1;33m(\u001b[0m\u001b[0mresult\u001b[0m\u001b[1;33m)\u001b[0m\u001b[1;33m\u001b[0m\u001b[0m\n",
      "\u001b[1;32mC:\\ProgramData\\Anaconda3\\lib\\site-packages\\sklearn\\externals\\joblib\\_parallel_backends.py\u001b[0m in \u001b[0;36m__init__\u001b[1;34m(self, batch)\u001b[0m\n\u001b[0;32m    324\u001b[0m         \u001b[1;31m# Don't delay the application, to avoid keeping the input\u001b[0m\u001b[1;33m\u001b[0m\u001b[1;33m\u001b[0m\u001b[0m\n\u001b[0;32m    325\u001b[0m         \u001b[1;31m# arguments in memory\u001b[0m\u001b[1;33m\u001b[0m\u001b[1;33m\u001b[0m\u001b[0m\n\u001b[1;32m--> 326\u001b[1;33m         \u001b[0mself\u001b[0m\u001b[1;33m.\u001b[0m\u001b[0mresults\u001b[0m \u001b[1;33m=\u001b[0m \u001b[0mbatch\u001b[0m\u001b[1;33m(\u001b[0m\u001b[1;33m)\u001b[0m\u001b[1;33m\u001b[0m\u001b[0m\n\u001b[0m\u001b[0;32m    327\u001b[0m \u001b[1;33m\u001b[0m\u001b[0m\n\u001b[0;32m    328\u001b[0m     \u001b[1;32mdef\u001b[0m \u001b[0mget\u001b[0m\u001b[1;33m(\u001b[0m\u001b[0mself\u001b[0m\u001b[1;33m)\u001b[0m\u001b[1;33m:\u001b[0m\u001b[1;33m\u001b[0m\u001b[0m\n",
      "\u001b[1;32mC:\\ProgramData\\Anaconda3\\lib\\site-packages\\sklearn\\externals\\joblib\\parallel.py\u001b[0m in \u001b[0;36m__call__\u001b[1;34m(self)\u001b[0m\n\u001b[0;32m    129\u001b[0m \u001b[1;33m\u001b[0m\u001b[0m\n\u001b[0;32m    130\u001b[0m     \u001b[1;32mdef\u001b[0m \u001b[0m__call__\u001b[0m\u001b[1;33m(\u001b[0m\u001b[0mself\u001b[0m\u001b[1;33m)\u001b[0m\u001b[1;33m:\u001b[0m\u001b[1;33m\u001b[0m\u001b[0m\n\u001b[1;32m--> 131\u001b[1;33m         \u001b[1;32mreturn\u001b[0m \u001b[1;33m[\u001b[0m\u001b[0mfunc\u001b[0m\u001b[1;33m(\u001b[0m\u001b[1;33m*\u001b[0m\u001b[0margs\u001b[0m\u001b[1;33m,\u001b[0m \u001b[1;33m**\u001b[0m\u001b[0mkwargs\u001b[0m\u001b[1;33m)\u001b[0m \u001b[1;32mfor\u001b[0m \u001b[0mfunc\u001b[0m\u001b[1;33m,\u001b[0m \u001b[0margs\u001b[0m\u001b[1;33m,\u001b[0m \u001b[0mkwargs\u001b[0m \u001b[1;32min\u001b[0m \u001b[0mself\u001b[0m\u001b[1;33m.\u001b[0m\u001b[0mitems\u001b[0m\u001b[1;33m]\u001b[0m\u001b[1;33m\u001b[0m\u001b[0m\n\u001b[0m\u001b[0;32m    132\u001b[0m \u001b[1;33m\u001b[0m\u001b[0m\n\u001b[0;32m    133\u001b[0m     \u001b[1;32mdef\u001b[0m \u001b[0m__len__\u001b[0m\u001b[1;33m(\u001b[0m\u001b[0mself\u001b[0m\u001b[1;33m)\u001b[0m\u001b[1;33m:\u001b[0m\u001b[1;33m\u001b[0m\u001b[0m\n",
      "\u001b[1;32mC:\\ProgramData\\Anaconda3\\lib\\site-packages\\sklearn\\externals\\joblib\\parallel.py\u001b[0m in \u001b[0;36m<listcomp>\u001b[1;34m(.0)\u001b[0m\n\u001b[0;32m    129\u001b[0m \u001b[1;33m\u001b[0m\u001b[0m\n\u001b[0;32m    130\u001b[0m     \u001b[1;32mdef\u001b[0m \u001b[0m__call__\u001b[0m\u001b[1;33m(\u001b[0m\u001b[0mself\u001b[0m\u001b[1;33m)\u001b[0m\u001b[1;33m:\u001b[0m\u001b[1;33m\u001b[0m\u001b[0m\n\u001b[1;32m--> 131\u001b[1;33m         \u001b[1;32mreturn\u001b[0m \u001b[1;33m[\u001b[0m\u001b[0mfunc\u001b[0m\u001b[1;33m(\u001b[0m\u001b[1;33m*\u001b[0m\u001b[0margs\u001b[0m\u001b[1;33m,\u001b[0m \u001b[1;33m**\u001b[0m\u001b[0mkwargs\u001b[0m\u001b[1;33m)\u001b[0m \u001b[1;32mfor\u001b[0m \u001b[0mfunc\u001b[0m\u001b[1;33m,\u001b[0m \u001b[0margs\u001b[0m\u001b[1;33m,\u001b[0m \u001b[0mkwargs\u001b[0m \u001b[1;32min\u001b[0m \u001b[0mself\u001b[0m\u001b[1;33m.\u001b[0m\u001b[0mitems\u001b[0m\u001b[1;33m]\u001b[0m\u001b[1;33m\u001b[0m\u001b[0m\n\u001b[0m\u001b[0;32m    132\u001b[0m \u001b[1;33m\u001b[0m\u001b[0m\n\u001b[0;32m    133\u001b[0m     \u001b[1;32mdef\u001b[0m \u001b[0m__len__\u001b[0m\u001b[1;33m(\u001b[0m\u001b[0mself\u001b[0m\u001b[1;33m)\u001b[0m\u001b[1;33m:\u001b[0m\u001b[1;33m\u001b[0m\u001b[0m\n",
      "\u001b[1;32mC:\\ProgramData\\Anaconda3\\lib\\site-packages\\sklearn\\model_selection\\_validation.py\u001b[0m in \u001b[0;36m_fit_and_predict\u001b[1;34m(estimator, X, y, train, test, verbose, fit_params, method)\u001b[0m\n\u001b[0;32m    472\u001b[0m         \u001b[0mestimator\u001b[0m\u001b[1;33m.\u001b[0m\u001b[0mfit\u001b[0m\u001b[1;33m(\u001b[0m\u001b[0mX_train\u001b[0m\u001b[1;33m,\u001b[0m \u001b[1;33m**\u001b[0m\u001b[0mfit_params\u001b[0m\u001b[1;33m)\u001b[0m\u001b[1;33m\u001b[0m\u001b[0m\n\u001b[0;32m    473\u001b[0m     \u001b[1;32melse\u001b[0m\u001b[1;33m:\u001b[0m\u001b[1;33m\u001b[0m\u001b[0m\n\u001b[1;32m--> 474\u001b[1;33m         \u001b[0mestimator\u001b[0m\u001b[1;33m.\u001b[0m\u001b[0mfit\u001b[0m\u001b[1;33m(\u001b[0m\u001b[0mX_train\u001b[0m\u001b[1;33m,\u001b[0m \u001b[0my_train\u001b[0m\u001b[1;33m,\u001b[0m \u001b[1;33m**\u001b[0m\u001b[0mfit_params\u001b[0m\u001b[1;33m)\u001b[0m\u001b[1;33m\u001b[0m\u001b[0m\n\u001b[0m\u001b[0;32m    475\u001b[0m     \u001b[0mfunc\u001b[0m \u001b[1;33m=\u001b[0m \u001b[0mgetattr\u001b[0m\u001b[1;33m(\u001b[0m\u001b[0mestimator\u001b[0m\u001b[1;33m,\u001b[0m \u001b[0mmethod\u001b[0m\u001b[1;33m)\u001b[0m\u001b[1;33m\u001b[0m\u001b[0m\n\u001b[0;32m    476\u001b[0m     \u001b[0mpredictions\u001b[0m \u001b[1;33m=\u001b[0m \u001b[0mfunc\u001b[0m\u001b[1;33m(\u001b[0m\u001b[0mX_test\u001b[0m\u001b[1;33m)\u001b[0m\u001b[1;33m\u001b[0m\u001b[0m\n",
      "\u001b[1;32mC:\\ProgramData\\Anaconda3\\lib\\site-packages\\sklearn\\linear_model\\logistic.py\u001b[0m in \u001b[0;36mfit\u001b[1;34m(self, X, y, sample_weight)\u001b[0m\n\u001b[0;32m   1184\u001b[0m                 \u001b[0mself\u001b[0m\u001b[1;33m.\u001b[0m\u001b[0mclass_weight\u001b[0m\u001b[1;33m,\u001b[0m \u001b[0mself\u001b[0m\u001b[1;33m.\u001b[0m\u001b[0mpenalty\u001b[0m\u001b[1;33m,\u001b[0m \u001b[0mself\u001b[0m\u001b[1;33m.\u001b[0m\u001b[0mdual\u001b[0m\u001b[1;33m,\u001b[0m \u001b[0mself\u001b[0m\u001b[1;33m.\u001b[0m\u001b[0mverbose\u001b[0m\u001b[1;33m,\u001b[0m\u001b[1;33m\u001b[0m\u001b[0m\n\u001b[0;32m   1185\u001b[0m                 \u001b[0mself\u001b[0m\u001b[1;33m.\u001b[0m\u001b[0mmax_iter\u001b[0m\u001b[1;33m,\u001b[0m \u001b[0mself\u001b[0m\u001b[1;33m.\u001b[0m\u001b[0mtol\u001b[0m\u001b[1;33m,\u001b[0m \u001b[0mself\u001b[0m\u001b[1;33m.\u001b[0m\u001b[0mrandom_state\u001b[0m\u001b[1;33m,\u001b[0m\u001b[1;33m\u001b[0m\u001b[0m\n\u001b[1;32m-> 1186\u001b[1;33m                 sample_weight=sample_weight)\n\u001b[0m\u001b[0;32m   1187\u001b[0m             \u001b[0mself\u001b[0m\u001b[1;33m.\u001b[0m\u001b[0mn_iter_\u001b[0m \u001b[1;33m=\u001b[0m \u001b[0mnp\u001b[0m\u001b[1;33m.\u001b[0m\u001b[0marray\u001b[0m\u001b[1;33m(\u001b[0m\u001b[1;33m[\u001b[0m\u001b[0mn_iter_\u001b[0m\u001b[1;33m]\u001b[0m\u001b[1;33m)\u001b[0m\u001b[1;33m\u001b[0m\u001b[0m\n\u001b[0;32m   1188\u001b[0m             \u001b[1;32mreturn\u001b[0m \u001b[0mself\u001b[0m\u001b[1;33m\u001b[0m\u001b[0m\n",
      "\u001b[1;32mC:\\ProgramData\\Anaconda3\\lib\\site-packages\\sklearn\\svm\\base.py\u001b[0m in \u001b[0;36m_fit_liblinear\u001b[1;34m(X, y, C, fit_intercept, intercept_scaling, class_weight, penalty, dual, verbose, max_iter, tol, random_state, multi_class, loss, epsilon, sample_weight)\u001b[0m\n\u001b[0;32m    873\u001b[0m             raise ValueError(\"This solver needs samples of at least 2 classes\"\n\u001b[0;32m    874\u001b[0m                              \u001b[1;34m\" in the data, but the data contains only one\"\u001b[0m\u001b[1;33m\u001b[0m\u001b[0m\n\u001b[1;32m--> 875\u001b[1;33m                              \" class: %r\" % classes_[0])\n\u001b[0m\u001b[0;32m    876\u001b[0m \u001b[1;33m\u001b[0m\u001b[0m\n\u001b[0;32m    877\u001b[0m         \u001b[0mclass_weight_\u001b[0m \u001b[1;33m=\u001b[0m \u001b[0mcompute_class_weight\u001b[0m\u001b[1;33m(\u001b[0m\u001b[0mclass_weight\u001b[0m\u001b[1;33m,\u001b[0m \u001b[0mclasses_\u001b[0m\u001b[1;33m,\u001b[0m \u001b[0my\u001b[0m\u001b[1;33m)\u001b[0m\u001b[1;33m\u001b[0m\u001b[0m\n",
      "\u001b[1;31mValueError\u001b[0m: This solver needs samples of at least 2 classes in the data, but the data contains only one class: 0"
     ]
    }
   ],
   "source": [
    "from sklearn.linear_model import LogisticRegression\n",
    "from sklearn.svm import SVC\n",
    "from sklearn.neighbors import KNeighborsClassifier\n",
    "from sklearn.tree import DecisionTreeClassifier \n",
    "from sklearn.ensemble import GradientBoostingClassifier, RandomForestClassifier\n",
    "from sklearn.naive_bayes import BernoulliNB\n",
    "\n",
    "clf_lr      = LogisticRegression(penalty='l2', solver=\"liblinear\")\n",
    "clf_svc     = SVC(kernel = 'rbf', probability = True)\n",
    "clf_xgboost = GradientBoostingClassifier()\n",
    "clf_forest   = RandomForestClassifier()\n",
    "clf_tree    = DecisionTreeClassifier()\n",
    "\n",
    "clf = clf_lr\n",
    "\n",
    "probs_df = five_year_pred(clf, X, y, year = year)"
   ]
  },
  {
   "cell_type": "markdown",
   "metadata": {},
   "source": [
    "### GridSearch - Helper code.\n",
    "\n",
    "--- \n",
    "\n",
    "For the purpose of this notebook I have opted not to apply a gridsearch. But the code is as below."
   ]
  },
  {
   "cell_type": "raw",
   "metadata": {},
   "source": [
    "from sklearn.grid_search import GridSearchCV\n",
    "from sklearn.cross_validation import KFold\n",
    "\n",
    "def gridsearch(model, params):\n",
    "    \n",
    "    \"\"\"\n",
    "    This function simplifies the process of a gridsearch by taking parameters and a model. It searches over a 5 cross\\\n",
    "    validations and prints out the best parameters that it's found as well as the best score\n",
    "\n",
    "    \"\"\"\n",
    "    \n",
    "    # Initiates a 5-fold gridsearch with specified params\n",
    "    gs = GridSearchCV(model, params, cv=5)\n",
    "    \n",
    "    # Fits the gridsearch to the standardized predictors and target\n",
    "    gs.fit(X_train,y_train)\n",
    "    \n",
    "    # Displays the best parameters it has found and its corresponding accuracy\n",
    "    print (\"------------------------------------------------------------------------------------\")\n",
    "    print (\"Best parameters: {}\".format(gs.best_params_))\n",
    "    print (\"Best accuracy score before splitting and training dataset: {:.2f}%\\n\".format(gs.best_score_*100))\n",
    "    \n",
    "    return gs"
   ]
  },
  {
   "cell_type": "raw",
   "metadata": {},
   "source": [
    "# Gridsearch Parameters for Support Vector Machines\n",
    "svm_params = [{'kernel': ['rbf'],\n",
    "               'gamma': [1e-3, 1e-4],\n",
    "               'C': [1, 10, 100, 1000]},\n",
    "              {'kernel': ['linear'],\n",
    "               'C': [1, 10, 100, 1000]}]\n",
    "\n",
    "print (\"Support Vector Machines with Grid Search\\n\")\n",
    "\n",
    "# Gridsearchs over the given parameters\n",
    "gs_svm = gridsearch(clf_svc, svm_params)\n",
    "\n",
    "# Displays the findings\n",
    "evaluate_model(gs_svm.best_estimator_)"
   ]
  },
  {
   "cell_type": "markdown",
   "metadata": {},
   "source": [
    "### $$f^{\\prime} = \\frac{bp-q}{b} = \\frac{p(b+1)-1}{b}$$\n",
    "\n",
    "    - f' is the fraction of the current bankroll to wager, i.e. how much to bet\n",
    "    - b is the net odds received on the wager (\"b to 1\")\n",
    "    - p is the probability of winning;\n",
    "    - q is the probability of losing, which is 1 − p."
   ]
  },
  {
   "cell_type": "code",
   "execution_count": null,
   "metadata": {},
   "outputs": [],
   "source": [
    "betting_outcomes = probs_df[[\"h_team\", \"a_team\", \"win_loc\", \"home_odds\", \"away_odds\", \"h_prob_us\", \"a_prob_us\"]]\n",
    "betting_outcomes.head(3)"
   ]
  },
  {
   "cell_type": "code",
   "execution_count": null,
   "metadata": {
    "collapsed": true
   },
   "outputs": [],
   "source": [
    "def team_to_bet(home_odds, away_odds, h_prob_us, a_prob_us, bet_type=\"home\"):\n",
    "    \"\"\"\n",
    "    Advises on which team to bet on.\n",
    "    \n",
    "    By comparing the odds of a model and public odds, returns which team should be bet on.\n",
    "\n",
    "    Parameters\n",
    "    ----------\n",
    "    \n",
    "    Returns\n",
    "    -------\n",
    "    int: The return value.\n",
    "    0 for away team.\n",
    "    1 for home team. \n",
    "    \"\"\"\n",
    "    \n",
    "    # This bet type plays the odds, in an ideal case where we have an accurate model, playing the odds will have a greater\n",
    "    # net gain compared to all other models.\n",
    "    if bet_type == \"odds\":\n",
    "        # Calculates bookie probabilities based on their odds: home_prob_bookie, away_prob_bookie\n",
    "        h_prob_bookie = 1/home_odds\n",
    "        a_prob_bookie = 1/away_odds\n",
    "\n",
    "        # Calculates differences in probabilities: home_prob_diff, away_prob_diff\n",
    "        home_prob_diff = h_prob_us - h_prob_bookie\n",
    "        away_prob_diff = a_prob_us - a_prob_bookie\n",
    "\n",
    "        # Returns 1 if we are more sure that the home team will win.\n",
    "        if (home_prob_diff > away_prob_diff):\n",
    "            return 1\n",
    "\n",
    "        # Returns -1 if we are more sure that the away team will win.\n",
    "        if (away_prob_diff > home_prob_diff):\n",
    "            return 0    \n",
    "    \n",
    "    # This bet type only predominantly bets on the home teams\n",
    "    if bet_type == \"home\":\n",
    "        \n",
    "        # Returns 1 if home team are favored\n",
    "        if (h_prob_us > a_prob_us):\n",
    "            return 1\n",
    "        \n",
    "        # Returns 0 if away team are favored\n",
    "        else:\n",
    "            return 0\n",
    "\n",
    "    \n",
    "        \n",
    "def kelly_criterion(prob, odds):\n",
    "    \"\"\"\n",
    "    Applies the kelly criterion to advise what percentage of bank to bet.\n",
    "    \n",
    "    Uses the probability of team winning with the expected odds to \n",
    "    \n",
    "    Returns\n",
    "    -------\n",
    "    float: The return value. 2 d.p.\n",
    "    The percentage of ones bank to bet on a game.\n",
    "    \"\"\"\n",
    "    \n",
    "    # Calculates the percentage to bet based on probability and odds\n",
    "    bet_perc = (prob * (odds + 1)-1) / odds\n",
    "    \n",
    "    # Returns bet_perc\n",
    "    return abs(round(bet_perc,2))\n",
    "\n",
    "def calc_win(bet, odds):\n",
    "    \"\"\"\n",
    "    Calculates the amount won from a winning bet given odds and the bet_size\n",
    "    \"\"\"\n",
    "    return (bet) * (odds-1)\n"
   ]
  },
  {
   "cell_type": "markdown",
   "metadata": {},
   "source": [
    "### Which team to bet on & how much?\n",
    "\n",
    "---\n",
    "\n",
    "Lets create 2 additional columns, one which advises us who to bet on and the other which tells us how much to bet"
   ]
  },
  {
   "cell_type": "code",
   "execution_count": null,
   "metadata": {
    "collapsed": true
   },
   "outputs": [],
   "source": [
    "# Creates a column that advises which team to bet on\n",
    "betting_outcomes[\"bet_on\"] = betting_outcomes.apply(lambda row: team_to_bet(row[\"home_odds\"], row[\"away_odds\"],\n",
    "                                                                            row[\"h_prob_us\"], row[\"a_prob_us\"],\n",
    "                                                                            bet_type = \"home\"), axis = 1)\n",
    "# Creates a column that advises how much to bet\n",
    "betting_outcomes[\"bet_perc\"] = betting_outcomes.apply(lambda row: kelly_criterion(row[\"h_prob_us\"], row[\"home_odds\"]), axis = 1)/5\n"
   ]
  },
  {
   "cell_type": "code",
   "execution_count": null,
   "metadata": {
    "collapsed": true
   },
   "outputs": [],
   "source": [
    "# Initiates the columns for later use\n",
    "betting_outcomes[\"bet_size\"]  = 100.00\n",
    "betting_outcomes[\"bank\"]      = 100.00\n",
    "betting_outcomes[\"new_bank\"]  = 100.00\n",
    "betting_outcomes[\"bet_size\"]  = 0.00\n",
    "betting_outcomes[\"earn_loss\"] = 0.00"
   ]
  },
  {
   "cell_type": "markdown",
   "metadata": {},
   "source": [
    "<a id='change_bettype'></a>\n",
    "\n",
    "### Should we always bet on the home team recommendations? Away team recommendations? Or both?\n",
    "\n",
    "---\n",
    "\n",
    "<a href='#go_back'>Go Back!</a>"
   ]
  },
  {
   "cell_type": "code",
   "execution_count": null,
   "metadata": {},
   "outputs": [],
   "source": [
    "betting_outcomes_home = betting_outcomes[betting_outcomes[\"bet_on\"] == 0]\n",
    "betting_outcomes_home.index.names = ['match_num']\n",
    "betting_outcomes_home.reset_index(inplace=True)\n",
    "betting_outcomes_home.head(3)"
   ]
  },
  {
   "cell_type": "code",
   "execution_count": null,
   "metadata": {
    "collapsed": true,
    "scrolled": true
   },
   "outputs": [],
   "source": [
    "for index, row in betting_outcomes_home.iterrows():\n",
    "    \n",
    "    bet_size = betting_outcomes_home.iloc[index, -3] * betting_outcomes_home.iloc[index, -5]\n",
    "    betting_outcomes_home.set_value(index, \"bet_size\", round(bet_size,2))\n",
    "    \n",
    "    if row[\"bet_on\"] == 1:\n",
    "        if row[\"bank\"] <= 10:\n",
    "            print(\"Index is {}\".format(index))\n",
    "\n",
    "            bank = betting_outcomes.iloc[index, -3]    \n",
    "\n",
    "            betting_outcomes.set_value(index, \"earn_loss\", 0)\n",
    "            betting_outcomes.set_value(index, \"new_bank\", bank)\n",
    "            betting_outcomes.set_value(index+1, \"bank\", bank)\n",
    "            betting_outcomes.set_value(index, \"bet_size\", 0.00)   \n",
    "\n",
    "        else:\n",
    "            if row[\"win_loc\"] == 1:\n",
    "                earn = calc_win(betting_outcomes_home.iloc[index, -4], betting_outcomes_home.iloc[index, 4])\n",
    "                new_bank = betting_outcomes_home.iloc[index, -3] + earn \n",
    "                bank = betting_outcomes_home.iloc[index, -3]\n",
    "\n",
    "                betting_outcomes_home.set_value(index, \"earn_loss\", earn)\n",
    "                betting_outcomes_home.set_value(index, \"new_bank\", new_bank)\n",
    "                betting_outcomes_home.set_value(index+1, \"bank\", new_bank)  \n",
    "\n",
    "            elif row[\"win_loc\"] == 0:\n",
    "                loss = betting_outcomes_home.iloc[index, -4]\n",
    "                new_bank = betting_outcomes_home.iloc[index, -3] - loss\n",
    "                bank = betting_outcomes_home.iloc[index, -3]\n",
    "\n",
    "                betting_outcomes_home.set_value(index, \"earn_loss\", -loss)\n",
    "                betting_outcomes_home.set_value(index, \"new_bank\", new_bank)\n",
    "                betting_outcomes_home.set_value(index+1, \"bank\", new_bank)   \n",
    "                \n",
    "    if row[\"bet_on\"] == 0:\n",
    "        if row[\"bank\"] <= 10:\n",
    "            print(\"Index is {}\".format(index))\n",
    "\n",
    "            bank = betting_outcomes.iloc[index, -3]    \n",
    "\n",
    "            betting_outcomes.set_value(index, \"earn_loss\", 0)\n",
    "            betting_outcomes.set_value(index, \"new_bank\", bank)\n",
    "            betting_outcomes.set_value(index+1, \"bank\", bank)\n",
    "            betting_outcomes.set_value(index, \"bet_size\", 0.00)  \n",
    "        \n",
    "        else:\n",
    "            if row[\"win_loc\"] == 1:\n",
    "                loss = betting_outcomes_home.iloc[index, -4]\n",
    "                new_bank = betting_outcomes_home.iloc[index, -3] - loss\n",
    "                bank = betting_outcomes_home.iloc[index, -3]\n",
    "\n",
    "                betting_outcomes_home.set_value(index, \"earn_loss\", -loss)\n",
    "                betting_outcomes_home.set_value(index, \"new_bank\", new_bank)\n",
    "                betting_outcomes_home.set_value(index+1, \"bank\", new_bank)\n",
    "\n",
    "            elif row[\"win_loc\"] == 0:\n",
    "                earn = calc_win(betting_outcomes_home.iloc[index, -4], betting_outcomes_home.iloc[index, 4])\n",
    "                new_bank = betting_outcomes_home.iloc[index, -3] + earn \n",
    "                bank = betting_outcomes_home.iloc[index, -3]\n",
    "\n",
    "                betting_outcomes_home.set_value(index, \"earn_loss\", earn)\n",
    "                betting_outcomes_home.set_value(index, \"new_bank\", new_bank)\n",
    "                betting_outcomes_home.set_value(index+1, \"bank\", new_bank)  \n",
    "                \n",
    "betting_outcomes_home = betting_outcomes_home.round({'bet_size': 2,\n",
    "                           'bet_perc': 2,\n",
    "                           'bank': 2,\n",
    "                           'new_bank':2,\n",
    "                           'earn_loss':2})"
   ]
  },
  {
   "cell_type": "code",
   "execution_count": null,
   "metadata": {
    "collapsed": true
   },
   "outputs": [],
   "source": [
    "betting_outcomes_home.fillna(0, inplace=True)"
   ]
  },
  {
   "cell_type": "code",
   "execution_count": null,
   "metadata": {
    "collapsed": true
   },
   "outputs": [],
   "source": [
    "cols_to_change = ['match_num', 'win_loc', 'bet_on']\n",
    "\n",
    "for col in cols_to_change:\n",
    "    betting_outcomes_home[col] = betting_outcomes_home[col].astype(int)"
   ]
  },
  {
   "cell_type": "markdown",
   "metadata": {},
   "source": [
    "### Results\n",
    "\n",
    "---\n",
    "\n",
    "First of all lets have a look at the starting and trailing few bets."
   ]
  },
  {
   "cell_type": "code",
   "execution_count": null,
   "metadata": {
    "scrolled": false
   },
   "outputs": [],
   "source": [
    "# First 10 bets\n",
    "betting_outcomes_home.head(10)"
   ]
  },
  {
   "cell_type": "code",
   "execution_count": null,
   "metadata": {},
   "outputs": [],
   "source": [
    "# Last 10 bets\n",
    "betting_outcomes_home.tail(10)"
   ]
  },
  {
   "cell_type": "markdown",
   "metadata": {},
   "source": [
    "### Analysis\n",
    "\n",
    "---"
   ]
  },
  {
   "cell_type": "code",
   "execution_count": null,
   "metadata": {
    "collapsed": true
   },
   "outputs": [],
   "source": [
    "def year_analysis(year):\n",
    "    print(\"-------------------------------------------------------------------------------------\")\n",
    "    print(\"Here are the betting results for the {} AFL season:\\n\".format(year))\n",
    "    \n",
    "    print(\"-------------------------------------------------------------------------------------\")\n",
    "    \n",
    "    print(\"Distribution of earnings/losses\")\n",
    "    \n",
    "    graph_distr(year)\n",
    "    \n",
    "    print(\"-------------------------------------------------------------------------------------\")\n",
    "    print(\"The final 10 bets for the year\")\n",
    "    \n",
    "    # Displays the final 10 games as well as the final bank\n",
    "    tail = betting_outcomes_home[[\"match_num\", \"h_team\", \"a_team\", \"win_loc\", \"bet_on\", \"bank\", \"new_bank\", \"earn_loss\"]].tail(10)\n",
    "    display(tail)\n",
    "    \n",
    "    print(\"-------------------------------------------------------------------------------------\")\n",
    "    \n",
    "    print(\"The largest 5 winning bets:\")\n",
    "    \n",
    "    betting_outcomes_home[['new_bank','earn_loss']] = betting_outcomes_home[['new_bank','earn_loss']].apply(pd.to_numeric)\n",
    "    display(betting_outcomes_home[[\"match_num\", \"h_team\", \"a_team\", \"win_loc\", \"bet_on\",\"bank\", \"new_bank\", \"earn_loss\"]].nlargest(5, 'earn_loss'))\n",
    "    \n",
    "    print(\"The largest 5 losing bets:\")\n",
    "    \n",
    "    betting_outcomes_home[['new_bank','earn_loss']] = betting_outcomes_home[['new_bank','earn_loss']].apply(pd.to_numeric)\n",
    "    display(betting_outcomes_home[[\"match_num\", \"h_team\", \"a_team\", \"win_loc\", \"bet_on\",\"bank\", \"new_bank\", \"earn_loss\"]].nsmallest(5, 'earn_loss'))\n",
    "    \n",
    "    print(\"-------------------------------------------------------------------------------------\")   \n",
    "    \n",
    "    # A time graph showing the winnings and losings over each match\n",
    "    graph_winnings(year)    \n",
    "\n",
    "    \n",
    "    \n",
    "def graph_winnings(year):\n",
    "    fig, ax = plt.subplots(figsize = (15,10))\n",
    "\n",
    "    ax = betting_outcomes_home[\"bank\"].plot()\n",
    "\n",
    "    ax.set_title(\"{} Betting results\".format(year))\n",
    "    ax.set_xlabel(\"Match number\")\n",
    "    ax.set_ylabel(\"$ in Bank\")\n",
    "\n",
    "    plt.show()\n",
    "    \n",
    "def graph_distr(year):\n",
    "    fig, ax = plt.subplots(figsize = (15,10))\n",
    "\n",
    "    ax = sns.distplot(betting_outcomes_home[:-1][\"earn_loss\"], kde=False)\n",
    "\n",
    "    ax.set_title(\"{} Results Distribution\".format(year))\n",
    "    ax.set_xlabel(\"Amount won/loss\")\n",
    "    ax.set_ylabel(\"Number of games\")\n",
    "    \n",
    "    plt.show()"
   ]
  },
  {
   "cell_type": "code",
   "execution_count": null,
   "metadata": {
    "scrolled": false
   },
   "outputs": [],
   "source": [
    "year_analysis(year)"
   ]
  },
  {
   "cell_type": "markdown",
   "metadata": {},
   "source": [
    "<a id='go_back'></a>\n",
    "\n",
    "### Change year\n",
    "<a href='#change_year'>Change year here</a>\n",
    "\n",
    "<a href='#change_bettype'>Change bet type here</a>\n"
   ]
  }
 ],
 "metadata": {
  "kernelspec": {
   "display_name": "Python 3",
   "language": "python",
   "name": "python3"
  },
  "language_info": {
   "codemirror_mode": {
    "name": "ipython",
    "version": 3
   },
   "file_extension": ".py",
   "mimetype": "text/x-python",
   "name": "python",
   "nbconvert_exporter": "python",
   "pygments_lexer": "ipython3",
   "version": "3.6.3"
  }
 },
 "nbformat": 4,
 "nbformat_minor": 2
}
