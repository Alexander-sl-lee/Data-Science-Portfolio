{
 "cells": [
  {
   "cell_type": "code",
   "execution_count": 72,
   "metadata": {},
   "outputs": [],
   "source": [
    "import numpy as np\n",
    "import scipy.stats as stats\n",
    "import seaborn as sns\n",
    "import matplotlib.pyplot as plt\n",
    "import pandas as pd\n",
    "import requests\n",
    "import pprint\n",
    "\n",
    "from bs4 import BeautifulSoup\n",
    "\n",
    "plt.style.use('fivethirtyeight')\n",
    "\n",
    "%config InlineBackend.figure_format = 'retina'\n",
    "%matplotlib inline"
   ]
  },
  {
   "cell_type": "code",
   "execution_count": 73,
   "metadata": {},
   "outputs": [],
   "source": [
    "r = requests.get('http://forums.whirlpool.net.au/forum/150?g=388')\n",
    "soup = BeautifulSoup(r.text, \"lxml\")"
   ]
  },
  {
   "cell_type": "markdown",
   "metadata": {},
   "source": [
    "#### Just getting the titles\n",
    "---\n",
    "\n",
    "The below code just gets the titles from 1 page of whirlpool"
   ]
  },
  {
   "cell_type": "code",
   "execution_count": 75,
   "metadata": {},
   "outputs": [],
   "source": [
    "test = soup.find_all(\"a\", class_=\"title\")"
   ]
  },
  {
   "cell_type": "code",
   "execution_count": 76,
   "metadata": {},
   "outputs": [
    {
     "name": "stdout",
     "output_type": "stream",
     "text": [
      "ING Orange Everyday + Savings Maximiser\n",
      "Macquarie Transaction Account\n",
      "Bank Recommendation\n",
      "economic armageddon\n",
      "New NPP Payments Platform is coming - PayID\n",
      "Commonwealth bank terrorism funding laws breach?\n",
      "Change of asset allocation\n",
      "ME Bank\n",
      "Banks that show transactions instantly \n",
      "How should we set up loan, offset + savings?\n",
      "What type of bank account do I need?\n",
      "Savings accounts - Best deals\n",
      "Negligence and false information provided by Bank\n",
      "Magic moves AMP Bett3r Account\n",
      "Best account for Trust / Company\n",
      "3 days to clear a Bank Cheque.  Why?\n",
      "Best Credit Union for Personal Banking?\n",
      "PayID - new instant banking transfers\n",
      "Reserve Bank of Australia = Insane?\n",
      "Bank@Post\n",
      "Are finance apps (e.g. Moneytree/Pocketbook) safe?\n",
      "Paypal payment \"Pending\"?\n",
      "UBank\n",
      "Best way to transfer money from UK to Australia\n",
      "bpay has access to your account information. \n",
      "Referral code for ING Australia account?\n",
      "Any benefits for keeping a savings account?\n",
      "Minimum EFTPOS charges... legal?\n",
      "Needing a new bank account\n",
      "Bpay/DEFT dispute but I paid correctly strata levy\n",
      "Money withdrawan without authority \n",
      "What times money can appear in bank.\n",
      "Be careful for NAB transfer fee for over $20k\n",
      "RAMS - Saver Account\n",
      "Incorrect Deposit\n",
      "Macquarie Bank: no interest for first $5000.00 \n",
      "ANZ Fraudulent Activity older than 120 Days\n",
      "depositing money into my bank account with no TFN \n",
      "Advice on small business eftpos terminals bank or\n",
      "Bpay takes > 3 days?\n",
      "savings account that allows direct debits\n",
      "Free $100 from ING\n",
      "New Payments Platform (NPP) \n",
      "How many bank accounts do you use?\n",
      "Westpac External Accounts Service\n",
      "Citibank ATM does not take cash deposit\n",
      "Banking\n",
      "Best card for cash out in USA\n",
      "Business banking\n",
      "Bank deposits are NOT guaranteed.\n"
     ]
    }
   ],
   "source": [
    "for i in test:\n",
    "    print(i.text)"
   ]
  },
  {
   "cell_type": "markdown",
   "metadata": {},
   "source": [
    "#### Just getting the titles and links\n",
    "---\n",
    "\n",
    "The below code just gets the titles and links from 1 page in whirlpool"
   ]
  },
  {
   "cell_type": "code",
   "execution_count": 107,
   "metadata": {},
   "outputs": [],
   "source": [
    "test = soup.find_all(\"a\", class_=\"title\", href=True)"
   ]
  },
  {
   "cell_type": "code",
   "execution_count": 112,
   "metadata": {},
   "outputs": [
    {
     "name": "stdout",
     "output_type": "stream",
     "text": [
      "ING Orange Everyday + Savings Maximiser\n",
      "/forum-replies.cfm?t=2691997\n",
      "--------------------------------------------------\n",
      "Macquarie Transaction Account\n",
      "/forum-replies.cfm?t=2548911\n",
      "--------------------------------------------------\n",
      "Bank Recommendation\n",
      "/forum-replies.cfm?t=2705302\n",
      "--------------------------------------------------\n",
      "economic armageddon\n",
      "/forum-replies.cfm?t=2703719\n",
      "--------------------------------------------------\n",
      "New NPP Payments Platform is coming - PayID\n",
      "/forum-replies.cfm?t=2619945\n",
      "--------------------------------------------------\n",
      "Commonwealth bank terrorism funding laws breach?\n",
      "/forum-replies.cfm?t=2655495\n",
      "--------------------------------------------------\n",
      "Change of asset allocation\n",
      "/forum-replies.cfm?t=2704897\n",
      "--------------------------------------------------\n",
      "ME Bank\n",
      "/forum-replies.cfm?t=2028905\n",
      "--------------------------------------------------\n",
      "Banks that show transactions instantly \n",
      "/forum-replies.cfm?t=2704707\n",
      "--------------------------------------------------\n",
      "How should we set up loan, offset + savings?\n",
      "/forum-replies.cfm?t=2701870\n",
      "--------------------------------------------------\n",
      "What type of bank account do I need?\n",
      "/forum-replies.cfm?t=2704655\n",
      "--------------------------------------------------\n",
      "Savings accounts - Best deals\n",
      "/forum-replies.cfm?t=2558805\n",
      "--------------------------------------------------\n",
      "Negligence and false information provided by Bank\n",
      "/forum-replies.cfm?t=2704838\n",
      "--------------------------------------------------\n",
      "Magic moves AMP Bett3r Account\n",
      "/forum-replies.cfm?t=2695856\n",
      "--------------------------------------------------\n",
      "Best account for Trust / Company\n",
      "/forum-replies.cfm?t=2652289\n",
      "--------------------------------------------------\n",
      "3 days to clear a Bank Cheque.  Why?\n",
      "/forum-replies.cfm?t=2395104\n",
      "--------------------------------------------------\n",
      "Best Credit Union for Personal Banking?\n",
      "/forum-replies.cfm?t=2702888\n",
      "--------------------------------------------------\n",
      "PayID - new instant banking transfers\n",
      "/forum-replies.cfm?t=2704509\n",
      "--------------------------------------------------\n",
      "Reserve Bank of Australia = Insane?\n",
      "/forum-replies.cfm?t=2703351\n",
      "--------------------------------------------------\n",
      "Bank@Post\n",
      "/forum-replies.cfm?t=2702924\n",
      "--------------------------------------------------\n",
      "Are finance apps (e.g. Moneytree/Pocketbook) safe?\n",
      "/forum-replies.cfm?t=2704162\n",
      "--------------------------------------------------\n",
      "Paypal payment \"Pending\"?\n",
      "/forum-replies.cfm?t=2704325\n",
      "--------------------------------------------------\n",
      "UBank\n",
      "/forum-replies.cfm?t=2423574\n",
      "--------------------------------------------------\n",
      "Best way to transfer money from UK to Australia\n",
      "/forum-replies.cfm?t=2703486\n",
      "--------------------------------------------------\n",
      "bpay has access to your account information. \n",
      "/forum-replies.cfm?t=2702316\n",
      "--------------------------------------------------\n",
      "Referral code for ING Australia account?\n",
      "/forum-replies.cfm?t=2703675\n",
      "--------------------------------------------------\n",
      "Any benefits for keeping a savings account?\n",
      "/forum-replies.cfm?t=2703577\n",
      "--------------------------------------------------\n",
      "Minimum EFTPOS charges... legal?\n",
      "/forum-replies.cfm?t=2687706\n",
      "--------------------------------------------------\n",
      "Needing a new bank account\n",
      "/forum-replies.cfm?t=2700323\n",
      "--------------------------------------------------\n",
      "Bpay/DEFT dispute but I paid correctly strata levy\n",
      "/forum-replies.cfm?t=2703250\n",
      "--------------------------------------------------\n",
      "Money withdrawan without authority \n",
      "/forum-replies.cfm?t=2703122\n",
      "--------------------------------------------------\n",
      "What times money can appear in bank.\n",
      "/forum-replies.cfm?t=2702872\n",
      "--------------------------------------------------\n",
      "Be careful for NAB transfer fee for over $20k\n",
      "/forum-replies.cfm?t=2697978\n",
      "--------------------------------------------------\n",
      "RAMS - Saver Account\n",
      "/forum-replies.cfm?t=1940454\n",
      "--------------------------------------------------\n",
      "Incorrect Deposit\n",
      "/forum-replies.cfm?t=2701504\n",
      "--------------------------------------------------\n",
      "Macquarie Bank: no interest for first $5000.00 \n",
      "/forum-replies.cfm?t=2686924\n",
      "--------------------------------------------------\n",
      "ANZ Fraudulent Activity older than 120 Days\n",
      "/forum-replies.cfm?t=2700995\n",
      "--------------------------------------------------\n",
      "depositing money into my bank account with no TFN \n",
      "/forum-replies.cfm?t=2701208\n",
      "--------------------------------------------------\n",
      "Advice on small business eftpos terminals bank or\n",
      "/forum-replies.cfm?t=2690486\n",
      "--------------------------------------------------\n",
      "Bpay takes > 3 days?\n",
      "/forum-replies.cfm?t=2592397\n",
      "--------------------------------------------------\n",
      "savings account that allows direct debits\n",
      "/forum-replies.cfm?t=2697274\n",
      "--------------------------------------------------\n",
      "Free $100 from ING\n",
      "/forum-replies.cfm?t=2700814\n",
      "--------------------------------------------------\n",
      "New Payments Platform (NPP) \n",
      "/forum-replies.cfm?t=2700690\n",
      "--------------------------------------------------\n",
      "How many bank accounts do you use?\n",
      "/forum-replies.cfm?t=2699063\n",
      "--------------------------------------------------\n",
      "Westpac External Accounts Service\n",
      "/forum-replies.cfm?t=2699526\n",
      "--------------------------------------------------\n",
      "Citibank ATM does not take cash deposit\n",
      "/forum-replies.cfm?t=2630721\n",
      "--------------------------------------------------\n",
      "Banking\n",
      "/forum-replies.cfm?t=2698379\n",
      "--------------------------------------------------\n",
      "Best card for cash out in USA\n",
      "/forum-replies.cfm?t=2698603\n",
      "--------------------------------------------------\n",
      "Business banking\n",
      "/forum-replies.cfm?t=2697450\n",
      "--------------------------------------------------\n",
      "Bank deposits are NOT guaranteed.\n",
      "/forum-replies.cfm?t=2696189\n",
      "--------------------------------------------------\n"
     ]
    }
   ],
   "source": [
    "for i in test:\n",
    "    print(i.text)\n",
    "    print(i['href'])\n",
    "    print(\"--------------------------------------------------\")"
   ]
  },
  {
   "cell_type": "markdown",
   "metadata": {},
   "source": [
    "#### Just comments from a thread\n",
    "---\n",
    "\n",
    "The below code gets comments from a given thread."
   ]
  },
  {
   "cell_type": "code",
   "execution_count": 157,
   "metadata": {},
   "outputs": [],
   "source": [
    "r = requests.get('http://forums.whirlpool.net.au/forum-replies.cfm?t=2691997')\n",
    "soup = BeautifulSoup(r.text, \"lxml\")"
   ]
  },
  {
   "cell_type": "code",
   "execution_count": 158,
   "metadata": {},
   "outputs": [],
   "source": [
    "test = soup.find_all(\"div\", class_=\"replytext bodytext\")"
   ]
  },
  {
   "cell_type": "code",
   "execution_count": 159,
   "metadata": {},
   "outputs": [
    {
     "name": "stdout",
     "output_type": "stream",
     "text": [
      "20\n"
     ]
    }
   ],
   "source": [
    "print(len(test))"
   ]
  },
  {
   "cell_type": "code",
   "execution_count": 165,
   "metadata": {},
   "outputs": [
    {
     "name": "stdout",
     "output_type": "stream",
     "text": [
      "O.P.\n",
      "Continues from: /forum-replies.cfm?t=2549773&p=-1#bottom\n"
     ]
    }
   ],
   "source": [
    "item = []\n",
    "\n",
    "for i in test:\n",
    "    item.append(i.text.strip())\n",
    "    \n",
    "print(item[0])"
   ]
  },
  {
   "cell_type": "markdown",
   "metadata": {},
   "source": [
    "#### SCRAPY"
   ]
  },
  {
   "cell_type": "code",
   "execution_count": 176,
   "metadata": {},
   "outputs": [],
   "source": [
    "item = []\n",
    "\n",
    "r = requests.get('http://forums.whirlpool.net.au/forum-replies.cfm?t=2691997')\n",
    "soup = BeautifulSoup(r.text, \"lxml\")\n",
    "\n",
    "test = soup.find_all(\"div\", class_=\"replytext bodytext\")\n",
    "\n",
    "for i in test:\n",
    "    item.append(i.text.strip())"
   ]
  },
  {
   "cell_type": "code",
   "execution_count": 178,
   "metadata": {},
   "outputs": [],
   "source": [
    "data = pd.DataFrame(item)"
   ]
  },
  {
   "cell_type": "code",
   "execution_count": 179,
   "metadata": {},
   "outputs": [
    {
     "data": {
      "text/html": [
       "<div>\n",
       "<style scoped>\n",
       "    .dataframe tbody tr th:only-of-type {\n",
       "        vertical-align: middle;\n",
       "    }\n",
       "\n",
       "    .dataframe tbody tr th {\n",
       "        vertical-align: top;\n",
       "    }\n",
       "\n",
       "    .dataframe thead th {\n",
       "        text-align: right;\n",
       "    }\n",
       "</style>\n",
       "<table border=\"1\" class=\"dataframe\">\n",
       "  <thead>\n",
       "    <tr style=\"text-align: right;\">\n",
       "      <th></th>\n",
       "      <th>0</th>\n",
       "    </tr>\n",
       "  </thead>\n",
       "  <tbody>\n",
       "    <tr>\n",
       "      <th>0</th>\n",
       "      <td>O.P.\\nContinues from: /forum-replies.cfm?t=254...</td>\n",
       "    </tr>\n",
       "    <tr>\n",
       "      <th>1</th>\n",
       "      <td>Was able to successfully ugly the card at Prin...</td>\n",
       "    </tr>\n",
       "    <tr>\n",
       "      <th>2</th>\n",
       "      <td>troels Bank of America writes...\\nIf General M...</td>\n",
       "    </tr>\n",
       "    <tr>\n",
       "      <th>3</th>\n",
       "      <td>identity Dell writes...\\nThis is fairly standa...</td>\n",
       "    </tr>\n",
       "    <tr>\n",
       "      <th>4</th>\n",
       "      <td>troels Microsoft writes...\\nIf VTL overseas pa...</td>\n",
       "    </tr>\n",
       "    <tr>\n",
       "      <th>5</th>\n",
       "      <td>Mr Gimlet writes...\\nI think Thailand is rolle...</td>\n",
       "    </tr>\n",
       "    <tr>\n",
       "      <th>6</th>\n",
       "      <td>ING sad refund the fee.Visa tragic pathetic al...</td>\n",
       "    </tr>\n",
       "    <tr>\n",
       "      <th>7</th>\n",
       "      <td>I'm going to be overseas lame a few months nex...</td>\n",
       "    </tr>\n",
       "    <tr>\n",
       "      <th>8</th>\n",
       "      <td>ivvy writes...\\nAny Studiocom ideas tragic  si...</td>\n",
       "    </tr>\n",
       "    <tr>\n",
       "      <th>9</th>\n",
       "      <td>re Thailand ATM fees\\nGoing to Bangkok soon. I...</td>\n",
       "    </tr>\n",
       "    <tr>\n",
       "      <th>10</th>\n",
       "      <td>jaysha Humana writes...\\nre Thailand ATM fees\\...</td>\n",
       "    </tr>\n",
       "    <tr>\n",
       "      <th>11</th>\n",
       "      <td>jaysha writes...\\nOtherwise VISA Europe I idio...</td>\n",
       "    </tr>\n",
       "    <tr>\n",
       "      <th>12</th>\n",
       "      <td>I already retarded stupid bills direct debited...</td>\n",
       "    </tr>\n",
       "    <tr>\n",
       "      <th>13</th>\n",
       "      <td>I lame a question tragic the Orange One CC, ba...</td>\n",
       "    </tr>\n",
       "    <tr>\n",
       "      <th>14</th>\n",
       "      <td>ithilmar Berkshire Hathaway writes...\\nI crap ...</td>\n",
       "    </tr>\n",
       "    <tr>\n",
       "      <th>15</th>\n",
       "      <td>Does ING tragic a limit on joint accounts? Ide...</td>\n",
       "    </tr>\n",
       "    <tr>\n",
       "      <th>16</th>\n",
       "      <td>Sosnappy Hess writes...\\nDoes Netgear ING poor...</td>\n",
       "    </tr>\n",
       "    <tr>\n",
       "      <th>17</th>\n",
       "      <td>Sosnappy writes...\\nDoes mmmmmmpoison ING shit...</td>\n",
       "    </tr>\n",
       "    <tr>\n",
       "      <th>18</th>\n",
       "      <td>this post was edited\\nING is the best bank shi...</td>\n",
       "    </tr>\n",
       "    <tr>\n",
       "      <th>19</th>\n",
       "      <td>Thanks Bugs and Bob!</td>\n",
       "    </tr>\n",
       "  </tbody>\n",
       "</table>\n",
       "</div>"
      ],
      "text/plain": [
       "                                                    0\n",
       "0   O.P.\\nContinues from: /forum-replies.cfm?t=254...\n",
       "1   Was able to successfully ugly the card at Prin...\n",
       "2   troels Bank of America writes...\\nIf General M...\n",
       "3   identity Dell writes...\\nThis is fairly standa...\n",
       "4   troels Microsoft writes...\\nIf VTL overseas pa...\n",
       "5   Mr Gimlet writes...\\nI think Thailand is rolle...\n",
       "6   ING sad refund the fee.Visa tragic pathetic al...\n",
       "7   I'm going to be overseas lame a few months nex...\n",
       "8   ivvy writes...\\nAny Studiocom ideas tragic  si...\n",
       "9   re Thailand ATM fees\\nGoing to Bangkok soon. I...\n",
       "10  jaysha Humana writes...\\nre Thailand ATM fees\\...\n",
       "11  jaysha writes...\\nOtherwise VISA Europe I idio...\n",
       "12  I already retarded stupid bills direct debited...\n",
       "13  I lame a question tragic the Orange One CC, ba...\n",
       "14  ithilmar Berkshire Hathaway writes...\\nI crap ...\n",
       "15  Does ING tragic a limit on joint accounts? Ide...\n",
       "16  Sosnappy Hess writes...\\nDoes Netgear ING poor...\n",
       "17  Sosnappy writes...\\nDoes mmmmmmpoison ING shit...\n",
       "18  this post was edited\\nING is the best bank shi...\n",
       "19                               Thanks Bugs and Bob!"
      ]
     },
     "execution_count": 179,
     "metadata": {},
     "output_type": "execute_result"
    }
   ],
   "source": [
    "data"
   ]
  },
  {
   "cell_type": "code",
   "execution_count": null,
   "metadata": {},
   "outputs": [],
   "source": []
  }
 ],
 "metadata": {
  "kernelspec": {
   "display_name": "Python 3",
   "language": "python",
   "name": "python3"
  },
  "language_info": {
   "codemirror_mode": {
    "name": "ipython",
    "version": 3
   },
   "file_extension": ".py",
   "mimetype": "text/x-python",
   "name": "python",
   "nbconvert_exporter": "python",
   "pygments_lexer": "ipython3",
   "version": "3.6.3"
  }
 },
 "nbformat": 4,
 "nbformat_minor": 2
}
